{
 "cells": [
  {
   "cell_type": "markdown",
   "metadata": {},
   "source": [
    "# Save ADC traces from DOOCS to disk"
   ]
  },
  {
   "cell_type": "markdown",
   "metadata": {},
   "source": [
    "### Imports"
   ]
  },
  {
   "cell_type": "code",
   "execution_count": 23,
   "metadata": {},
   "outputs": [],
   "source": [
    "import pydoocs\n",
    "import numpy as np\n",
    "import time\n",
    "import matplotlib.pyplot as plt\n",
    "import h5py"
   ]
  },
  {
   "cell_type": "markdown",
   "metadata": {},
   "source": [
    "### Parameters"
   ]
  },
  {
   "cell_type": "code",
   "execution_count": 3,
   "metadata": {},
   "outputs": [],
   "source": [
    "adc_doocs_address = 'FLASH.FEL/ADC.ADQ.BL1/EXP1.CH00/CH00.DAQ.TD'\n",
    "file_prefix = 'tt'\n",
    "\n",
    "\n",
    "train_ID = 0\n",
    "time_axis = []\n",
    "adc_trace_average = []"
   ]
  },
  {
   "cell_type": "markdown",
   "metadata": {},
   "source": [
    "### Utility functions"
   ]
  },
  {
   "cell_type": "code",
   "execution_count": 42,
   "metadata": {},
   "outputs": [],
   "source": [
    "def wait_for_next_train():\n",
    "    global train_ID\n",
    "    while True:\n",
    "        current_ID = pydoocs.read(adc_doocs_address)['macropulse']\n",
    "        if train_ID != current_ID:\n",
    "            train_ID = current_ID\n",
    "            break\n",
    "\n",
    "def time_axis_adc_values_waiting(adc_doocs_address):\n",
    "    wait_for_next_train()\n",
    "    time_value_matrix = pydoocs.read(adc_doocs_address)['data']\n",
    "    time_axis = time_value_matrix[:, 0]\n",
    "    adc_trace = time_value_matrix[:,1]\n",
    "    return time_axis, adc_trace\n",
    "\n",
    "def save_tof(adc_doocs_address, number_of_traces_to_record = 2):\n",
    "    time_axis_tt = []\n",
    "    adc_trace_tt = []\n",
    "    train_ID_tt = []\n",
    "    hf = h5py.File('../data/data.h5', 'w')\n",
    "    for i in range(number_of_traces_to_record):\n",
    "        time_axis, adc_trace = time_axis_adc_values_waiting(adc_doocs_address)\n",
    "        time_axis_tt.append(time_axis)\n",
    "        adc_trace_tt.append(adc_trace)\n",
    "        train_ID_tt.append(train_ID)\n",
    "    hf.create_dataset('train_ID_tt', data = train_ID_tt)\n",
    "    hf.create_dataset('time_axis_tt', data = time_axis_tt)\n",
    "    hf.create_dataset('adc_trace_tt', data = adc_trace_tt)\n",
    "    hf.close()\n",
    "    print((train_ID_tt[-1]-train_ID_tt[0]+1)/len(train_ID_tt))\n"
   ]
  },
  {
   "cell_type": "code",
   "execution_count": 43,
   "metadata": {},
   "outputs": [
    {
     "name": "stdout",
     "output_type": "stream",
     "text": [
      "1.0\n"
     ]
    }
   ],
   "source": [
    "save_tof(adc_doocs_address, 1000)"
   ]
  },
  {
   "cell_type": "markdown",
   "metadata": {},
   "source": [
    "### check trainID in HDF file"
   ]
  },
  {
   "cell_type": "code",
   "execution_count": null,
   "metadata": {},
   "outputs": [],
   "source": []
  },
  {
   "cell_type": "code",
   "execution_count": null,
   "metadata": {},
   "outputs": [],
   "source": []
  }
 ],
 "metadata": {
  "kernelspec": {
   "display_name": "Python 3",
   "language": "python",
   "name": "python3"
  },
  "language_info": {
   "codemirror_mode": {
    "name": "ipython",
    "version": 3
   },
   "file_extension": ".py",
   "mimetype": "text/x-python",
   "name": "python",
   "nbconvert_exporter": "python",
   "pygments_lexer": "ipython3",
   "version": "3.7.3"
  }
 },
 "nbformat": 4,
 "nbformat_minor": 4
}
