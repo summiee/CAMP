{
 "cells": [
  {
   "cell_type": "markdown",
   "metadata": {},
   "source": [
    "### ADC from beamtimedaqaccess"
   ]
  },
  {
   "cell_type": "code",
   "execution_count": 22,
   "metadata": {},
   "outputs": [
    {
     "name": "stdout",
     "output_type": "stream",
     "text": [
      "Populating the interactive namespace from numpy and matplotlib\n"
     ]
    },
    {
     "name": "stderr",
     "output_type": "stream",
     "text": [
      "/home/bl1user/.conda/envs/CAMP/lib/python3.7/site-packages/IPython/core/magics/pylab.py:160: UserWarning: pylab import has clobbered these variables: ['empty']\n",
      "`%matplotlib` prevents importing * from pylab and numpy\n",
      "  \"\\n`%matplotlib` prevents importing * from pylab and numpy\"\n"
     ]
    }
   ],
   "source": [
    "%pylab qt"
   ]
  },
  {
   "cell_type": "code",
   "execution_count": 23,
   "metadata": {},
   "outputs": [],
   "source": [
    "from beamtimedaqaccess import BeamtimeDaqAccess \n",
    "import matplotlib.pyplot as plt\n",
    "import numpy as np"
   ]
  },
  {
   "cell_type": "code",
   "execution_count": 24,
   "metadata": {},
   "outputs": [],
   "source": [
    "rootDir = '/gpfs/bl1/current/raw/hdf/online-0/'\n",
    "GHzAdc1 = '/FL1/Experiment/BL1/ADQ412 GHz ADC/CH00/TD'\n",
    "\n",
    "runNumber = 32474"
   ]
  },
  {
   "cell_type": "code",
   "execution_count": 4,
   "metadata": {},
   "outputs": [],
   "source": [
    "daq = BeamtimeDaqAccess.create(rootDir)"
   ]
  },
  {
   "cell_type": "code",
   "execution_count": 25,
   "metadata": {},
   "outputs": [],
   "source": [
    "def section_ID_intervals(total_interval):\n",
    "    assert isinstance(total_interval, tuple)\n",
    "    assert len(total_interval) == 2\n",
    "    assert total_interval[0] <= total_interval[1]\n",
    "    section_length = 1000  \n",
    "    sections = [(start, start + section_length) for start in range(total_interval[0], total_interval[1], section_length)]\n",
    "    sections[-1] = (sections[-1][0], total_interval[1])  # fix last section\n",
    "    return sections"
   ]
  },
  {
   "cell_type": "code",
   "execution_count": 27,
   "metadata": {},
   "outputs": [
    {
     "name": "stdout",
     "output_type": "stream",
     "text": [
      "working on section: 1 / 4\n",
      "working on section: 2 / 4\n",
      "working on section: 3 / 4\n",
      "working on section: 4 / 4\n",
      "(1000, 180000)\n",
      "10\n"
     ]
    }
   ],
   "source": [
    "total_trainID_inteval = daq.pulseIdIntervalOfRun(GHzAdc1, runNumber)\n",
    "sections = section_ID_intervals(total_trainID_inteval)\n",
    "\n",
    "for i in range(len(sections)):\n",
    "    print('working on section:',i+1, '/', len(sections))\n",
    "    if i ==1:\n",
    "        traces1 = daq.valuesOfInterval(GHzAdc1, sections[i])"
   ]
  },
  {
   "cell_type": "code",
   "execution_count": 31,
   "metadata": {},
   "outputs": [
    {
     "name": "stdout",
     "output_type": "stream",
     "text": [
      "(1000, 180000)\n",
      "(990, 180000)\n"
     ]
    }
   ],
   "source": [
    "tt = []\n",
    "print(traces1.shape)\n",
    "for i in range(len(traces1)):\n",
    "    if np.sum(traces1[i]) != 0:\n",
    "        tt.append(traces1[i])\n",
    "        \n",
    "tt = np.array(tt)\n",
    "print(tt.shape)"
   ]
  },
  {
   "cell_type": "code",
   "execution_count": 35,
   "metadata": {},
   "outputs": [
    {
     "name": "stdout",
     "output_type": "stream",
     "text": [
      "(180000,)\n"
     ]
    }
   ],
   "source": [
    "tt1 =  np.average(tt,axis = 0)/tt.shape[0]\n",
    "print(tt1.shape)"
   ]
  },
  {
   "cell_type": "code",
   "execution_count": 36,
   "metadata": {},
   "outputs": [],
   "source": [
    "runNumber2 = 32425"
   ]
  },
  {
   "cell_type": "code",
   "execution_count": 37,
   "metadata": {},
   "outputs": [
    {
     "name": "stdout",
     "output_type": "stream",
     "text": [
      "working on section: 1 / 3\n",
      "working on section: 2 / 3\n",
      "working on section: 3 / 3\n"
     ]
    }
   ],
   "source": [
    "total_trainID_inteval = daq.pulseIdIntervalOfRun(GHzAdc1, runNumber2)\n",
    "sections = section_ID_intervals(total_trainID_inteval)\n",
    "\n",
    "\n",
    "for i in range(len(sections)):\n",
    "    print('working on section:',i+1, '/', len(sections))\n",
    "    if i ==1:\n",
    "        traces2 = daq.valuesOfInterval(GHzAdc1, sections[i])\n"
   ]
  },
  {
   "cell_type": "code",
   "execution_count": 38,
   "metadata": {},
   "outputs": [
    {
     "name": "stdout",
     "output_type": "stream",
     "text": [
      "(1000, 180000)\n",
      "(998, 180000)\n"
     ]
    }
   ],
   "source": [
    "tt = []\n",
    "print(traces2.shape)\n",
    "for i in range(len(traces2)):\n",
    "    if np.sum(traces2[i]) != 0:\n",
    "        tt.append(traces2[i])\n",
    "        \n",
    "tt = np.array(tt)\n",
    "print(tt.shape)"
   ]
  },
  {
   "cell_type": "code",
   "execution_count": 39,
   "metadata": {},
   "outputs": [
    {
     "name": "stdout",
     "output_type": "stream",
     "text": [
      "(180000,)\n"
     ]
    }
   ],
   "source": [
    "tt2 =  np.average(tt,axis = 0)/tt.shape[0]\n",
    "print(tt2.shape)"
   ]
  },
  {
   "cell_type": "code",
   "execution_count": 41,
   "metadata": {},
   "outputs": [
    {
     "data": {
      "text/plain": [
       "<matplotlib.legend.Legend at 0x7f7ed8a6fc18>"
      ]
     },
     "execution_count": 41,
     "metadata": {},
     "output_type": "execute_result"
    }
   ],
   "source": [
    "fig1 = plt.figure(figsize=(10,10))\n",
    "plt.plot(tt1-np.average(tt1[10:100]), label = '{}'.format(runNumber))\n",
    "plt.plot(tt2-np.average(tt2[10:100]), label = '{}'.format(runNumber2))\n",
    "plt.xlim(0,18000)\n",
    "plt.title('compare two FEL only runs')\n",
    "plt.legend()"
   ]
  },
  {
   "cell_type": "code",
   "execution_count": null,
   "metadata": {},
   "outputs": [],
   "source": []
  }
 ],
 "metadata": {
  "kernelspec": {
   "display_name": "Python 3",
   "language": "python",
   "name": "python3"
  },
  "language_info": {
   "codemirror_mode": {
    "name": "ipython",
    "version": 3
   },
   "file_extension": ".py",
   "mimetype": "text/x-python",
   "name": "python",
   "nbconvert_exporter": "python",
   "pygments_lexer": "ipython3",
   "version": "3.7.3"
  }
 },
 "nbformat": 4,
 "nbformat_minor": 4
}
