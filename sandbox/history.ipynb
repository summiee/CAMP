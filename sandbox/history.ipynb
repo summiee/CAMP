{
 "cells": [
  {
   "cell_type": "code",
   "execution_count": 1,
   "metadata": {},
   "outputs": [
    {
     "name": "stdout",
     "output_type": "stream",
     "text": [
      "Populating the interactive namespace from numpy and matplotlib\n"
     ]
    }
   ],
   "source": [
    "%pylab inline"
   ]
  },
  {
   "cell_type": "code",
   "execution_count": 2,
   "metadata": {},
   "outputs": [
    {
     "name": "stdout",
     "output_type": "stream",
     "text": [
      "2.0.6\n"
     ]
    }
   ],
   "source": [
    "import pydoocs\n",
    "import time\n",
    "print(pydoocs.__version__)"
   ]
  },
  {
   "cell_type": "code",
   "execution_count": 3,
   "metadata": {},
   "outputs": [],
   "source": [
    "now = 1505578011  # timestamps from h5 file\n",
    "past = 1505577740\n",
    "\n",
    "history1 = pydoocs.read(\"FLASH.FEL/BL.PRESSURE/BL1.3/SENSOR1.PRESSURE.HIST\", parameters=[past, now, 256, 0])[\"data\"]\n",
    "timestamp1 = np.array(history1)[:, 0]\n",
    "pressure1 = np.array(history1)[:, 1]\n",
    "\n",
    "history2 = pydoocs.read(\"FLASH.FEL/BL.PRESSURE/BL1.3/SENSOR2.PRESSURE.HIST\", parameters=[past, now, 256, 0])[\"data\"]\n",
    "timestamp2 = np.array(history2)[:, 0]\n",
    "pressure2 = np.array(history2)[:, 1]"
   ]
  },
  {
   "cell_type": "code",
   "execution_count": 4,
   "metadata": {},
   "outputs": [
    {
     "data": {
      "text/plain": [
       "[<matplotlib.lines.Line2D at 0x7f3fefce2828>]"
      ]
     },
     "execution_count": 4,
     "metadata": {},
     "output_type": "execute_result"
    },
    {
     "data": {
      "image/png": "[encoded data removed]",
      "text/plain": [
       "<Figure size 432x288 with 1 Axes>"
      ]
     },
     "metadata": {
      "needs_background": "light"
     },
     "output_type": "display_data"
    }
   ],
   "source": [
    "plot(timestamp1, pressure1,'ro')\n",
    "plot(timestamp2, pressure2,'bo')"
   ]
  },
  {
   "cell_type": "code",
   "execution_count": null,
   "metadata": {},
   "outputs": [],
   "source": []
  }
 ],
 "metadata": {
  "kernelspec": {
   "display_name": "Python 3",
   "language": "python",
   "name": "python3"
  },
  "language_info": {
   "codemirror_mode": {
    "name": "ipython",
    "version": 3
   },
   "file_extension": ".py",
   "mimetype": "text/x-python",
   "name": "python",
   "nbconvert_exporter": "python",
   "pygments_lexer": "ipython3",
   "version": "3.7.3"
  }
 },
 "nbformat": 4,
 "nbformat_minor": 4
}
