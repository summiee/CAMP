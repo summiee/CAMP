{
 "cells": [
  {
   "cell_type": "markdown",
   "metadata": {},
   "source": [
    "# Save ADC from DOOCS to disk"
   ]
  },
  {
   "cell_type": "markdown",
   "metadata": {},
   "source": [
    "### Imports"
   ]
  },
  {
   "cell_type": "code",
   "execution_count": 1,
   "metadata": {},
   "outputs": [],
   "source": [
    "import pydoocs\n",
    "import numpy as np\n",
    "import time\n",
    "import matplotlib.pyplot as plt"
   ]
  },
  {
   "cell_type": "markdown",
   "metadata": {},
   "source": [
    "### Parameters"
   ]
  },
  {
   "cell_type": "code",
   "execution_count": 2,
   "metadata": {},
   "outputs": [],
   "source": [
    "adc_doocs_address = 'FLASH.FEL/ADC.ADQ.BL1/EXP1.CH00/CH00.DAQ.TD'\n",
    "\n",
    "train_ID = 0\n",
    "time_axis = []\n",
    "adc_trace_average = []"
   ]
  },
  {
   "cell_type": "markdown",
   "metadata": {},
   "source": [
    "### Utility functions"
   ]
  },
  {
   "cell_type": "code",
   "execution_count": 9,
   "metadata": {},
   "outputs": [],
   "source": [
    "def wait_for_next_train():\n",
    "    global train_ID\n",
    "    while True:\n",
    "        current_ID = pydoocs.read(adc_doocs_address)['macropulse']\n",
    "        if train_ID != current_ID:\n",
    "            train_ID = current_ID\n",
    "            break\n",
    "def time_value_matrix_waiting(adc_doocs_address):\n",
    "    wait_for_next_train()\n",
    "    adc_dictonary = pydoocs.read(adc_doocs_address)\n",
    "    time_value_matrix = adc_dictonary['data']\n",
    "    return time_value_matrix\n",
    "\n",
    "def record_tof(adc_doocs_address):\n",
    "    global time_axis, adc_trace_average\n",
    "    number_of_pulse_trains_to_average = 1\n",
    "    time_value_matrices = [time_value_matrix_waiting(adc_doocs_address) for each_train in range(number_of_pulse_trains_to_average)]\n",
    "    adc_traces = [each_matrix[:,1] for each_matrix in time_value_matrices]\n",
    "    adc_trace_average = np.average(adc_traces, axis=0)\n",
    "    time_axis = time_value_matrices[0][:, 0]\n",
    "    np.savez('data/jet_' + str(train_ID) + '.npz', time_axis = time_axis, adc_trace_average = adc_trace_average)\n",
    "    return time_axis, adc_trace_average\n",
    "\n"
   ]
  },
  {
   "cell_type": "code",
   "execution_count": null,
   "metadata": {},
   "outputs": [],
   "source": []
  },
  {
   "cell_type": "code",
   "execution_count": 11,
   "metadata": {},
   "outputs": [],
   "source": [
    "number_of_traces_to_record = 5000\n",
    "\n",
    "for i in range(number_of_traces_to_record):\n",
    "    record_tof(adc_doocs_address)\n",
    "    "
   ]
  },
  {
   "cell_type": "markdown",
   "metadata": {},
   "source": [
    "### Show last saved ADC trace"
   ]
  },
  {
   "cell_type": "code",
   "execution_count": 5,
   "metadata": {},
   "outputs": [
    {
     "data": {
      "text/plain": [
       "[<matplotlib.lines.Line2D at 0x7f419da7e438>]"
      ]
     },
     "execution_count": 5,
     "metadata": {},
     "output_type": "execute_result"
    },
    {
     "data": {
      "image/png": "[encoded data removed]",
      "text/plain": [
       "<Figure size 432x288 with 1 Axes>"
      ]
     },
     "metadata": {
      "needs_background": "light"
     },
     "output_type": "display_data"
    }
   ],
   "source": [
    "npz_file = np.load('data/' + str(train_ID) + '.npz')\n",
    "time_axis, adc_trace_average = npz_file['time_axis'], npz_file['adc_trace_average'] \n",
    "plt.plot(time_axis, adc_trace_average)"
   ]
  },
  {
   "cell_type": "code",
   "execution_count": null,
   "metadata": {},
   "outputs": [],
   "source": []
  }
 ],
 "metadata": {
  "kernelspec": {
   "display_name": "Python 3",
   "language": "python",
   "name": "python3"
  },
  "language_info": {
   "codemirror_mode": {
    "name": "ipython",
    "version": 3
   },
   "file_extension": ".py",
   "mimetype": "text/x-python",
   "name": "python",
   "nbconvert_exporter": "python",
   "pygments_lexer": "ipython3",
   "version": "3.7.3"
  }
 },
 "nbformat": 4,
 "nbformat_minor": 4
}
