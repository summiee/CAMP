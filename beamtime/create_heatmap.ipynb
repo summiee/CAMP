{
 "cells": [
  {
   "cell_type": "markdown",
   "metadata": {},
   "source": [
    "# heatmap radial average vs pp_delay"
   ]
  },
  {
   "cell_type": "code",
   "execution_count": 1,
   "metadata": {},
   "outputs": [
    {
     "name": "stdout",
     "output_type": "stream",
     "text": [
      "Populating the interactive namespace from numpy and matplotlib\n"
     ]
    }
   ],
   "source": [
    "%pylab qt"
   ]
  },
  {
   "cell_type": "code",
   "execution_count": 2,
   "metadata": {},
   "outputs": [],
   "source": [
    "import numpy as np  \n",
    "import matplotlib.pyplot as plt\n",
    "import matplotlib.cm as cm\n",
    "import h5py\n",
    "import os\n",
    "import src.pyabel_polar\n",
    "import scipy"
   ]
  },
  {
   "cell_type": "markdown",
   "metadata": {},
   "source": [
    "# Utility functions"
   ]
  },
  {
   "cell_type": "code",
   "execution_count": 3,
   "metadata": {},
   "outputs": [],
   "source": [
    "def number_of_trains_from_hdf(hdf_file_complete_path):\n",
    "    '''Retrun number of recorded FEL trains in HDF file'''\n",
    "    with h5py.File(hdf_file_complete_path, 'r') as h_file:\n",
    "        trains = len(h_file['tpx3Times/triggerNr'][:])\n",
    "    print('Number of trains in HDF file: {:.2e}'.format(trains))\n",
    "    return trains\n",
    "\n",
    "def data_from_hdf(hdf_file_complete_path, event_type = 'raw'):\n",
    "    '''Read data from TimePix HDF files\n",
    "    Choose raw or centroided data, default is centroided data'''\n",
    "    with h5py.File(hdf_file_complete_path, 'r') as h_file:\n",
    "        tof = h_file[str(event_type)+'/tof'][:]\n",
    "        x_pos = h_file[str(event_type)+'/x'][:]\n",
    "        y_pos = h_file[str(event_type)+'/y'][:]\n",
    "#     print('Reading from HDF5 - number of events: {:.2e}'.format(len(tof)))\n",
    "    return tof, x_pos, y_pos\n",
    "\n",
    "def data_sliced_by_tof(hdf_file_complete_path, tof_start = 0 , tof_end = 0.1, event_type = 'raw'):\n",
    "    '''Slice data with respect to time-of-flight dimension'''\n",
    "    tof, x_pos, y_pos = data_from_hdf(hdf_file_complete_path, event_type)\n",
    "    sliced_x_pos = x_pos[np.logical_and(tof > tof_start, tof < tof_end)]\n",
    "    sliced_y_pos = y_pos[np.logical_and(tof > tof_start, tof < tof_end)]\n",
    "    sliced_tof = tof[np.logical_and(tof > tof_start, tof < tof_end)]\n",
    "#     print('Slicing - number of events: {:.2e} | {:.2%}'.format(len(sliced_tof), len(sliced_tof)/len(tof)))\n",
    "    return sliced_tof, sliced_x_pos, sliced_y_pos\n",
    "\n",
    "def reduce_raw_data(tof, x_pos, y_pos, number_of_events):\n",
    "    '''Reduce data for visualization'''\n",
    "    return tof[:number_of_events], x_pos[:number_of_events],y_pos[:number_of_events]\n",
    "\n",
    "def tof_conversion(tof, time_unit):\n",
    "    '''Convert time axis'''\n",
    "    if time_unit == None:\n",
    "        return tof, 's'\n",
    "    if time_unit == 'milli':\n",
    "        return tof*10**3, 'ms'\n",
    "    if time_unit == 'micro':\n",
    "        return tof*10**6, 'us'\n",
    "\n",
    "def plot_tof(tof, hist_bins=100, time_unit = None):     \n",
    "    '''Plot time-of-flight spectrum via histogram'''\n",
    "    fig = plt.subplots(num = 1)\n",
    "    plt.clf()\n",
    "    tof, time_tof_unit = tof_conversion(tof, time_unit)\n",
    "    plt.hist(tof, bins = hist_bins)\n",
    "    plt.title('histogram: time-of-flight')\n",
    "    plt.xlabel('ToF [{}]'.format(time_tof_unit))\n",
    "    plt.ylabel('number of events')\n",
    "    plt.show()\n",
    "    \n",
    "def vmi_image(x_pos, y_pos, show_image = True):\n",
    "    '''Display VMI image - cmax empirically found to surpress hot pixel '''\n",
    "    fig = plt.figure(num = 6)\n",
    "    plt.clf()\n",
    "    counts, xbins, ybins, image = plt.hist2d(x_pos, y_pos,bins= (255, 255), cmax= 1000)\n",
    "    plt.colorbar()\n",
    "    plt.xlabel('x_pos [px]')\n",
    "    plt.ylabel('y_pos [px]')\n",
    "    if show_image == False:\n",
    "        plt.close()\n",
    "    return counts\n",
    "    \n",
    "def display_tof_and_vmi_of_tof_interval(hdf_file_complete_path, tof_start = 0 , tof_end = 0.1, hist_bins = 100, time_unit = None, event_type = 'raw'):\n",
    "    '''Display VMI Image and time-of-flight spetrum'''\n",
    "    tof, x_pos, y_pos = data_sliced_by_tof(hdf_file_complete_path, tof_start, tof_end, event_type)\n",
    "    plot_tof(tof, hist_bins, time_unit)\n",
    "    vmi_image(x_pos,y_pos)\n",
    "\n",
    "    \n",
    "def transform_vmi_to_polar(x_pos, y_pos, x_center, y_center, radius ):\n",
    "    \n",
    "    counts = vmi_image(x_pos, y_pos, show_image = False)\n",
    "    image_cart = np.flipud(counts.transpose())\n",
    "    \n",
    "    image_polar, r_grid, theta_grid = src.pyabel_polar.reproject_image_into_polar(image_cart, origin=(x_center,y_center))\n",
    "    radial_ave = np.sum(image_polar, axis=1)\n",
    "    \n",
    "    fig = plt.figure(figsize = (10,10),num = 6)\n",
    "    plt.clf()\n",
    "    plt.imshow(image_cart)\n",
    "    plt.scatter(x_center, y_center, color='r')\n",
    "    plt.gcf().gca().add_artist(plt.Circle((x_center, y_center), radius, color='r', fill=False))\n",
    "    plt.xlabel('x_posr [px]')\n",
    "    plt.ylabel('y_posr [px]')\n",
    "    plt.title('VMI image')\n",
    "\n",
    "#     fig = plt.figure(num = 7)\n",
    "#     plt.clf()\n",
    "#     plt.imshow(image_polar)\n",
    "#     plt.title('Image - polar coordinates')\n",
    "\n",
    "    fig = plt.figure(num = 8)\n",
    "    plt.clf()\n",
    "    plt.plot(radial_ave,'r-')\n",
    "    plt.title('Radial average')\n",
    "    plt.xlabel('r [px]')\n",
    "    plt.ylabel('counts')\n",
    "    plt.show()\n",
    "    \n",
    "    return radial_ave"
   ]
  },
  {
   "cell_type": "markdown",
   "metadata": {},
   "source": [
    "### Define source file & describe measurment"
   ]
  },
  {
   "cell_type": "code",
   "execution_count": null,
   "metadata": {},
   "outputs": [],
   "source": [
    "run_number = 69\n",
    "\n",
    "hdf_file_path = '/gpfs/bl1/current/processed/timepix_hdf/'\n",
    "file_start = \"run_\"+str(run_number).zfill(4)\n",
    "not_file_end = 'rawOnly.hdf5'\n",
    "hdf_file = [i for i in os.listdir(hdf_file_path) if os.path.isfile(os.path.join(hdf_file_path,i)) and i.startswith(file_start) and not i.endswith(not_file_end)][0]\n",
    "hdf_file_complete_path = hdf_file_path+hdf_file\n",
    "assert os.path.isfile(hdf_file_complete_path), 'File does not exist!'"
   ]
  },
  {
   "cell_type": "markdown",
   "metadata": {},
   "source": [
    "### Complete time-of-flight"
   ]
  },
  {
   "cell_type": "code",
   "execution_count": null,
   "metadata": {},
   "outputs": [],
   "source": [
    "tof_start = 0E-6\n",
    "tof_end = 12E-6\n",
    "tof, x_pos, y_pos = data_sliced_by_tof(hdf_file_complete_path, tof_start , tof_end)\n",
    "\n",
    "plot_tof(tof, hist_bins = 500, time_unit = 'micro')"
   ]
  },
  {
   "cell_type": "markdown",
   "metadata": {},
   "source": [
    "### Slice time-of-flight dimension and create VMI image"
   ]
  },
  {
   "cell_type": "code",
   "execution_count": null,
   "metadata": {},
   "outputs": [],
   "source": [
    "tof_start = 7.55E-6\n",
    "tof_end = 8.01E-6\n",
    "\n",
    "display_tof_and_vmi_of_tof_interval(hdf_file_complete_path, tof_start, tof_end, event_type = 'raw',time_unit = 'micro')"
   ]
  },
  {
   "cell_type": "markdown",
   "metadata": {},
   "source": [
    "### Chose center and calc radial average"
   ]
  },
  {
   "cell_type": "code",
   "execution_count": null,
   "metadata": {},
   "outputs": [],
   "source": [
    "x_center, y_center = 130, 120        #I2+\n",
    "radius = 18\n",
    "\n",
    "# x_center, y_center = 131, 127          #I6+\n",
    "# radius = 18\n",
    "\n",
    "tof, x_pos, y_pos = data_sliced_by_tof(hdf_file_complete_path, tof_start , tof_end, event_type=\"raw\")\n",
    "radial_average = transform_vmi_to_polar(x_pos, y_pos, x_center, y_center, radius)"
   ]
  },
  {
   "cell_type": "markdown",
   "metadata": {},
   "source": [
    "### Save to intermediate results "
   ]
  },
  {
   "cell_type": "code",
   "execution_count": null,
   "metadata": {},
   "outputs": [],
   "source": [
    "def save_all_delay_for_fragment(file_prefix ,run_number, delay_stage, tof_start,tof_end, x_center, y_center, radius):\n",
    "    \n",
    "    print(run_number)\n",
    "    hdf_file_path = '/gpfs/bl1/current/processed/timepix_hdf/'\n",
    "    file_start = \"run_\"+str(run_number).zfill(4)\n",
    "    not_file_end = 'rawOnly.hdf5'\n",
    "    print()\n",
    "    hdf_file = [i for i in os.listdir(hdf_file_path) if os.path.isfile(os.path.join(hdf_file_path,i)) and i.startswith(file_start) and not i.endswith(not_file_end)][0]\n",
    "    hdf_file_complete_path = hdf_file_path+hdf_file\n",
    "    assert os.path.isfile(hdf_file_complete_path), 'File does not exist!'\n",
    "    \n",
    "    tof, x_pos, y_pos = data_sliced_by_tof(hdf_file_complete_path, tof_start , tof_end, event_type = \"raw\")\n",
    "    radial_average = transform_vmi_to_polar(x_pos, y_pos, x_center, y_center, radius) \n",
    "    number_of_trains = number_of_trains_from_hdf(hdf_file_complete_path)\n",
    "    \n",
    "    save_to_path = 'intermediate_data/'\n",
    "    save_file_name = str(file_prefix)+\"_\"+str(fragment)+\"_\"+str(delay_stage)\n",
    "    print(str(file_prefix)+\"_\"+str(fragment)+\"_\"+str(delay_stage))\n",
    "    np.savez(save_to_path+save_file_name, radial_average=radial_average, fragment= fragment, delay_stage = delay_stage, number_of_trains = number_of_trains)\n",
    "    "
   ]
  },
  {
   "cell_type": "code",
   "execution_count": null,
   "metadata": {},
   "outputs": [],
   "source": [
    "save_to_path = 'intermediate_data/'\n",
    "\n",
    "file_prefix = 'raw_test'\n",
    "fragment = 'I6+'\n",
    "\n",
    "run_number_list = [52,53,54,55,56,59,60,61,62,63,65,66,67,68,69,70]\n",
    "delay_stage_pos_list = [64,63,62,61,60,61.5,60.5,62.5,63.5,59.5,62.25,62.75,61.75,61.25,60.75,60.25]\n",
    "\n",
    "# run_number_list = [63,69]\n",
    "# delay_stage_pos_list = [59.5,60.75]\n",
    "\n",
    "assert len(run_number_list) == len(delay_stage_pos_list), 'File does not exist!'"
   ]
  },
  {
   "cell_type": "code",
   "execution_count": null,
   "metadata": {},
   "outputs": [],
   "source": [
    "for i in range(len(run_number_list)):\n",
    "    save_all_delay_for_fragment(file_prefix, run_number_list[i], delay_stage_pos_list[i], tof_start,tof_end, x_center, y_center, radius)"
   ]
  },
  {
   "cell_type": "markdown",
   "metadata": {},
   "source": [
    "___\n",
    "# Create heatmap"
   ]
  },
  {
   "cell_type": "code",
   "execution_count": 4,
   "metadata": {},
   "outputs": [],
   "source": [
    "def simple_plots(radial_averages_norm, delay_stage_pos, fragment):\n",
    "    \n",
    "    colors = cm.rainbow(np.linspace(0, 1, len(radial_averages_norm)))\n",
    "    print(colors.shape)\n",
    "    print(colors[0])\n",
    "    \n",
    "    fig = plt.figure(figsize = (10,10),num = 10)\n",
    "    for i in range(len(radial_averages_norm)):\n",
    "        plt.plot(radial_averages_norm[i],label=delay_stage_pos[i], color = colors[i])\n",
    "    plt.xlabel('r')\n",
    "    plt.ylabel('counts')\n",
    "    plt.legend()\n",
    "    plt.title(str(fragment))\n",
    "    \n",
    "def heatmap(radial_averages_norm, fragment):\n",
    "    fig = plt.figure(figsize = (10,10),num = 11)\n",
    "    image = np.column_stack(radial_averages_norm)\n",
    "    plt.imshow(image, aspect=\"auto\", origin=\"lower\")\n",
    "    plt.xticks(np.arange(len(delay_stage_pos)), delay_stage_pos)\n",
    "    print('Number of delay steps:',len(delay_stage_pos))\n",
    "    plt.title(str(fragment))\n",
    "    plt.show()\n",
    "    \n",
    "    \n",
    "def load_radial_data(file_prefix,fragment):\n",
    "    \n",
    "    load_from_path = 'intermediate_data/'\n",
    "    files = [i for i in os.listdir(load_from_path) if os.path.isfile(os.path.join(load_from_path,i)) and str(file_prefix)+\"_\"+str(fragment) in i]\n",
    "    \n",
    "    radial_averages =[]\n",
    "    delay_stage_pos = []\n",
    "    norm_counts = []\n",
    "    \n",
    "    for i in files:\n",
    "        npzfile = np.load(load_from_path+i)\n",
    "        radial_averages.append(npzfile['radial_average'])\n",
    "        delay_stage_pos.append(float(npzfile['delay_stage']))\n",
    "        fragment = (npzfile['fragment'])\n",
    "        norm_counts.append(float(npzfile['number_of_trains']))\n",
    "        \n",
    "    radial_averages = np.array(radial_averages)\n",
    "    delay_stage_pos = np.array(delay_stage_pos)\n",
    "    norm_counts = np.array(norm_counts)\n",
    "\n",
    "    sort_ind = np.argsort(delay_stage_pos)\n",
    "    radial_averages = radial_averages[sort_ind]\n",
    "    norm_counts = norm_counts[sort_ind]\n",
    "    delay_stage_pos = delay_stage_pos[sort_ind]\n",
    "    \n",
    "    radial_averages_norm = []\n",
    "    for i in range(len(radial_averages)):\n",
    "        radial_averages_norm.append(radial_averages[i]/norm_counts[i])\n",
    "    radial_averages_norm = np.array(radial_averages_norm)\n",
    "\n",
    "    print('fragment:',fragment) \n",
    "    print('number of delay_stage_pos:',len(delay_stage_pos))\n",
    "    print('delay_stage_steps:',delay_stage_pos)\n",
    "\n",
    "    return radial_averages_norm, delay_stage_pos     \n",
    "    "
   ]
  },
  {
   "cell_type": "markdown",
   "metadata": {},
   "source": [
    "### Re-read data"
   ]
  },
  {
   "cell_type": "code",
   "execution_count": 5,
   "metadata": {},
   "outputs": [
    {
     "name": "stdout",
     "output_type": "stream",
     "text": [
      "fragment: I6+\n",
      "number of delay_stage_pos: 16\n",
      "delay_stage_steps: [59.5  60.   60.25 60.5  60.75 61.   61.25 61.5  61.75 62.   62.25 62.5\n",
      " 62.75 63.   63.5  64.  ]\n"
     ]
    }
   ],
   "source": [
    "file_prefix = 'raw_test'\n",
    "fragment = 'I6+'\n",
    "\n",
    "radial_averages_norm, delay_stage_pos = load_radial_data(file_prefix,fragment)"
   ]
  },
  {
   "cell_type": "markdown",
   "metadata": {},
   "source": [
    "### simple plots"
   ]
  },
  {
   "cell_type": "code",
   "execution_count": 9,
   "metadata": {},
   "outputs": [
    {
     "name": "stdout",
     "output_type": "stream",
     "text": [
      "(16, 4)\n",
      "[0.5 0.  1.  1. ]\n"
     ]
    }
   ],
   "source": [
    "simple_plots(radial_averages_norm, delay_stage_pos, fragment)"
   ]
  },
  {
   "cell_type": "markdown",
   "metadata": {},
   "source": [
    "### heatmap"
   ]
  },
  {
   "cell_type": "code",
   "execution_count": 7,
   "metadata": {},
   "outputs": [
    {
     "name": "stdout",
     "output_type": "stream",
     "text": [
      "Number of delay steps: 16\n"
     ]
    }
   ],
   "source": [
    "heatmap(radial_averages_norm, fragment)"
   ]
  },
  {
   "cell_type": "code",
   "execution_count": null,
   "metadata": {},
   "outputs": [],
   "source": []
  }
 ],
 "metadata": {
  "kernelspec": {
   "display_name": "Python 3",
   "language": "python",
   "name": "python3"
  },
  "language_info": {
   "codemirror_mode": {
    "name": "ipython",
    "version": 3
   },
   "file_extension": ".py",
   "mimetype": "text/x-python",
   "name": "python",
   "nbconvert_exporter": "python",
   "pygments_lexer": "ipython3",
   "version": "3.7.3"
  }
 },
 "nbformat": 4,
 "nbformat_minor": 4
}
