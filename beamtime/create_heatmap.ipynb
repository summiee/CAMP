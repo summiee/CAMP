{
 "cells": [
  {
   "cell_type": "markdown",
   "metadata": {},
   "source": [
    "# heatmap radial average vs pp_delay"
   ]
  },
  {
   "cell_type": "code",
   "execution_count": 12,
   "metadata": {},
   "outputs": [
    {
     "name": "stdout",
     "output_type": "stream",
     "text": [
      "Populating the interactive namespace from numpy and matplotlib\n"
     ]
    }
   ],
   "source": [
    "%pylab qt"
   ]
  },
  {
   "cell_type": "code",
   "execution_count": 13,
   "metadata": {},
   "outputs": [],
   "source": [
    "import numpy as np  \n",
    "import matplotlib.pyplot as plt\n",
    "import h5py\n",
    "import os\n",
    "import src.pyabel_polar\n",
    "import scipy"
   ]
  },
  {
   "cell_type": "markdown",
   "metadata": {},
   "source": [
    "* create radial average form one .hdf5 file\n",
    "* for different fragments -> ToF ranges\n",
    "* connect with pump_probe delay -> file name\n",
    "* save results as npy"
   ]
  },
  {
   "cell_type": "code",
   "execution_count": 14,
   "metadata": {},
   "outputs": [],
   "source": [
    "def number_of_trains_from_hdf(hdf_file_complete_path):\n",
    "    '''Retrun number of recorded FEL trains in HDF file'''\n",
    "    with h5py.File(hdf_file_complete_path, 'r') as h_file:\n",
    "        trains = len(h_file['tpx3Times/triggerNr'][:])\n",
    "    print('Number of trains in HDF file: {:.2e}'.format(trains))\n",
    "    return trains\n",
    "\n",
    "def data_from_hdf(hdf_file_complete_path, event_type = 'raw'):\n",
    "    '''Read data from TimePix HDF files\n",
    "    Choose raw or centroided data, default is centroided data'''\n",
    "    with h5py.File(hdf_file_complete_path, 'r') as h_file:\n",
    "        tof = h_file[str(event_type)+'/tof'][:]\n",
    "        x_pos = h_file[str(event_type)+'/x'][:]\n",
    "        y_pos = h_file[str(event_type)+'/y'][:]\n",
    "    print('Reading from HDF5 - number of events: {:.2e}'.format(len(tof)))\n",
    "    return tof, x_pos, y_pos\n",
    "\n",
    "def data_sliced_by_tof(hdf_file_complete_path, tof_start = 0 , tof_end = 0.1, event_type = 'raw'):\n",
    "    '''Slice data with respect to time-of-flight dimension'''\n",
    "    tof, x_pos, y_pos = data_from_hdf(hdf_file_complete_path, event_type)\n",
    "    sliced_x_pos = x_pos[np.logical_and(tof > tof_start, tof < tof_end)]\n",
    "    sliced_y_pos = y_pos[np.logical_and(tof > tof_start, tof < tof_end)]\n",
    "    sliced_tof = tof[np.logical_and(tof > tof_start, tof < tof_end)]\n",
    "    print('Slicing - number of events: {:.2e} | {:.2%}'.format(len(sliced_tof), len(sliced_tof)/len(tof)))\n",
    "    return sliced_tof, sliced_x_pos, sliced_y_pos\n",
    "\n",
    "def reduce_raw_data(tof, x_pos, y_pos, number_of_events):\n",
    "    '''Reduce data for visualization'''\n",
    "    return tof[:number_of_events], x_pos[:number_of_events],y_pos[:number_of_events]\n",
    "\n",
    "def tof_conversion(tof, time_unit):\n",
    "    '''Convert time axis'''\n",
    "    if time_unit == None:\n",
    "        return tof, 's'\n",
    "    if time_unit == 'milli':\n",
    "        return tof*10**3, 'ms'\n",
    "    if time_unit == 'micro':\n",
    "        return tof*10**6, 'us'\n",
    "\n",
    "def plot_tof(tof, hist_bins=100, time_unit = None):     \n",
    "    '''Plot time-of-flight spectrum via histogram'''\n",
    "    fig = plt.subplots(num = 1)\n",
    "    plt.clf()\n",
    "    tof, time_tof_unit = tof_conversion(tof, time_unit)\n",
    "    plt.hist(tof, bins = hist_bins)\n",
    "    plt.title('histogram: time-of-flight')\n",
    "    plt.xlabel('ToF [{}]'.format(time_tof_unit))\n",
    "    plt.ylabel('number of events')\n",
    "    plt.show()\n",
    "        \n",
    "def plot_1d_histograms(tof, x_pos, y_pos, time_unit = None):      \n",
    "    '''1D plots - detector position vs time-of-flight for each dimension'''\n",
    "    tof, time_tof_unit = tof_conversion(tof, time_unit)\n",
    "    fig = plt.figure(num = 2)\n",
    "    plt.clf()\n",
    "    plt.plot(tof, x_pos,'.')\n",
    "    plt.title(\"ToF vs x_pos\")\n",
    "    plt.xlabel('ToF [{}]'.format(time_tof_unit))\n",
    "    plt.ylabel('x_pos [px]')\n",
    "    \n",
    "    fig = plt.figure(num=3)\n",
    "    plt.clf()\n",
    "    plt.plot(tof, y_pos,'.')\n",
    "    plt.title(\"ToF vs y_pos\")\n",
    "    plt.xlabel('ToF [{}]'.format(time_tof_unit))\n",
    "    plt.ylabel('y_pos [px]')\n",
    "    plt.show()\n",
    "\n",
    "def plot_2d_histograms(tof, x_pos, y_pos ,bin_tof = 2000, bin_space = 200, time_unit = None):\n",
    "    '''2D plot (heatmap) - detector position vs time-of-flight for each dimension'''\n",
    "    tof, time_tof_unit = tof_conversion(tof, time_unit)\n",
    "    fig = plt.figure(num = 4)\n",
    "    plt.clf()\n",
    "    plt.hist2d(tof, x_pos, bins= (bin_tof,bin_space))\n",
    "    plt.title('2d histogram: time-of-flight / x_pos')\n",
    "    plt.xlabel('ToF [{}]'.format(time_tof_unit))\n",
    "    plt.ylabel('x_pos')\n",
    "    plt.colorbar()\n",
    "\n",
    "    fig = plt.figure(num = 5)\n",
    "    plt.clf()\n",
    "    plt.hist2d(tof, y_pos,bins= (bin_tof,bin_space))\n",
    "    plt.title('2d histogram: time-of-flight / y_pos')\n",
    "    plt.xlabel('ToF [{}]'.format(time_tof_unit))\n",
    "    plt.ylabel('y_pos')\n",
    "    plt.show()\n",
    "    plt.colorbar()\n",
    "    \n",
    "def vmi_image(x_pos, y_pos, show_image = True):\n",
    "    '''Display VMI image - cmax empirically found to surpress hot pixel '''\n",
    "    fig = plt.figure(num = 6)\n",
    "    plt.clf()\n",
    "    counts, xbins, ybins, image = plt.hist2d(x_pos, y_pos,bins= (255, 255), cmax= 1000)\n",
    "    plt.colorbar()\n",
    "    plt.xlabel('x_pos [px]')\n",
    "    plt.ylabel('y_pos [px]')\n",
    "    if show_image == False:\n",
    "        plt.close()\n",
    "    return counts\n",
    "    \n",
    "def display_tof_and_vmi_of_tof_interval(hdf_file_complete_path, tof_start = 0 , tof_end = 0.1, hist_bins = 100, time_unit = None, event_type = 'raw'):\n",
    "    '''Display VMI Image and time-of-flight spetrum'''\n",
    "    tof, x_pos, y_pos = data_sliced_by_tof(hdf_file_complete_path, tof_start, tof_end, event_type)\n",
    "    plot_tof(tof, hist_bins, time_unit)\n",
    "    vmi_image(x_pos,y_pos)\n",
    "\n",
    "    \n",
    "def transform_vmi_to_polar(x_pos, y_pos, x_center, y_center, radius ):\n",
    "    \n",
    "    counts = vmi_image(x_pos, y_pos, show_image = False)\n",
    "    image_cart = np.flipud(counts.transpose())\n",
    "    \n",
    "    image_polar, r_grid, theta_grid = src.pyabel_polar.reproject_image_into_polar(image_cart, origin=(x_center,y_center))\n",
    "    radial_ave = np.sum(image_polar, axis=1)\n",
    "    \n",
    "    fig = plt.figure(figsize = (10,10),num = 6)\n",
    "    plt.clf()\n",
    "    plt.imshow(image_cart)\n",
    "    plt.scatter(x_center, y_center, color='r')\n",
    "    plt.gcf().gca().add_artist(plt.Circle((x_center, y_center), radius, color='r', fill=False))\n",
    "    plt.xlabel('x_posr [px]')\n",
    "    plt.ylabel('y_posr [px]')\n",
    "    plt.title('VMI image')\n",
    "\n",
    "#     fig = plt.figure(num = 7)\n",
    "#     plt.clf()\n",
    "#     plt.imshow(image_polar)\n",
    "#     plt.title('Image - polar coordinates')\n",
    "\n",
    "    fig = plt.figure(num = 8)\n",
    "    plt.clf()\n",
    "    plt.plot(radial_ave,'r-')\n",
    "    plt.title('Radial average')\n",
    "    plt.xlabel('r [px]')\n",
    "    plt.ylabel('counts')\n",
    "    plt.show()\n",
    "    \n",
    "    return radial_ave"
   ]
  },
  {
   "cell_type": "markdown",
   "metadata": {},
   "source": [
    "### Define source file & describe measurment"
   ]
  },
  {
   "cell_type": "code",
   "execution_count": 36,
   "metadata": {},
   "outputs": [],
   "source": [
    "file_prefix = 'delay_test'\n",
    "fragment = 'I2+'\n",
    "delay_stage = 64"
   ]
  },
  {
   "cell_type": "code",
   "execution_count": 37,
   "metadata": {},
   "outputs": [],
   "source": [
    "hdf_file_path = '../data/'\n",
    "run_number = 52\n",
    "\n",
    "file_start = \"run_\"+str(run_number).zfill(4)\n",
    "file_end = '.hdf5'\n",
    "hdf_file = [i for i in os.listdir(hdf_file_path) if os.path.isfile(os.path.join(hdf_file_path,i)) and i.startswith(file_start) and i.endswith(file_end)][0]\n",
    "hdf_file_complete_path = hdf_file_path+hdf_file\n",
    "assert os.path.isfile(hdf_file_complete_path), 'File does not exist!'"
   ]
  },
  {
   "cell_type": "markdown",
   "metadata": {},
   "source": [
    "### Complete time-of-flight"
   ]
  },
  {
   "cell_type": "code",
   "execution_count": 6,
   "metadata": {},
   "outputs": [
    {
     "name": "stdout",
     "output_type": "stream",
     "text": [
      "Reading from HDF5 - number of events: 1.50e+07\n",
      "Slicing - number of events: 1.41e+07 | 94.58%\n"
     ]
    }
   ],
   "source": [
    "tof_start = 0E-6\n",
    "tof_end = 12E-6\n",
    "tof, x_pos, y_pos = data_sliced_by_tof(hdf_file_complete_path, tof_start , tof_end)\n",
    "\n",
    "plot_tof(tof, hist_bins = 500, time_unit = 'micro')"
   ]
  },
  {
   "cell_type": "markdown",
   "metadata": {},
   "source": [
    "### Slice time-of-flight dimension and create VMI image"
   ]
  },
  {
   "cell_type": "code",
   "execution_count": 7,
   "metadata": {},
   "outputs": [
    {
     "name": "stdout",
     "output_type": "stream",
     "text": [
      "Reading from HDF5 - number of events: 1.50e+07\n",
      "Slicing - number of events: 2.09e+05 | 1.40%\n"
     ]
    }
   ],
   "source": [
    "tof_start = 7.6E-6\n",
    "tof_end = 8.04E-6\n",
    "\n",
    "display_tof_and_vmi_of_tof_interval(hdf_file_complete_path, tof_start, tof_end, time_unit = 'micro')"
   ]
  },
  {
   "cell_type": "markdown",
   "metadata": {},
   "source": [
    "### Chose center and calc radial average"
   ]
  },
  {
   "cell_type": "code",
   "execution_count": 38,
   "metadata": {},
   "outputs": [
    {
     "name": "stdout",
     "output_type": "stream",
     "text": [
      "Reading from HDF5 - number of events: 2.43e+07\n",
      "Slicing - number of events: 3.18e+05 | 1.31%\n"
     ]
    }
   ],
   "source": [
    "# x_center, y_center = 130, 120        #I2+\n",
    "# radius = 18\n",
    "\n",
    "x_center, y_center = 130, 120\n",
    "radius = 18\n",
    "\n",
    "tof, x_pos, y_pos = data_sliced_by_tof(hdf_file_complete_path, tof_start , tof_end)\n",
    "radial_average = transform_vmi_to_polar(x_pos, y_pos, x_center, y_center, radius)"
   ]
  },
  {
   "cell_type": "markdown",
   "metadata": {},
   "source": [
    "### Save to intermediate result"
   ]
  },
  {
   "cell_type": "code",
   "execution_count": 39,
   "metadata": {},
   "outputs": [
    {
     "name": "stdout",
     "output_type": "stream",
     "text": [
      "Number of trains in HDF file: 6.56e+03\n",
      "delay_test_I2+_64\n"
     ]
    }
   ],
   "source": [
    "save_to_path = 'intermediate_data/'\n",
    "number_of_trains = number_of_trains_from_hdf(hdf_file_complete_path)\n",
    "\n",
    "save_file_name = str(file_prefix)+\"_\"+str(fragment)+\"_\"+str(delay_stage)\n",
    "np.savez(save_to_path+save_file_name, radial_average=radial_average, fragment= fragment, delay_stage = delay_stage, number_of_trains = number_of_trains)\n",
    "\n",
    "print(save_file_name)"
   ]
  },
  {
   "cell_type": "markdown",
   "metadata": {},
   "source": [
    "___\n",
    "# Create heatmap"
   ]
  },
  {
   "cell_type": "markdown",
   "metadata": {},
   "source": [
    "* sort by pp-delay\n",
    "* create heatmap"
   ]
  },
  {
   "cell_type": "code",
   "execution_count": 40,
   "metadata": {},
   "outputs": [
    {
     "name": "stdout",
     "output_type": "stream",
     "text": [
      "['delay_test_I2+_60.npz', 'delay_test_I2+_62.npz', 'delay_test_I2+_61.npz', 'delay_test_I2+_63.npz', 'delay_test_I2+_64.npz']\n"
     ]
    }
   ],
   "source": [
    "load_from_path = 'intermediate_data/'\n",
    "file_prefix = 'delay_test'\n",
    "fragment = 'I2+'\n",
    "\n",
    "files = [i for i in os.listdir(load_from_path) if os.path.isfile(os.path.join(load_from_path,i)) and str(file_prefix)+\"_\"+str(fragment) in i]\n",
    "\n",
    "print(files)"
   ]
  },
  {
   "cell_type": "code",
   "execution_count": 61,
   "metadata": {},
   "outputs": [
    {
     "name": "stdout",
     "output_type": "stream",
     "text": [
      "fragment: I2+\n",
      "number of delay_stage_pos: 5\n",
      "delay_stage_steps: [60. 61. 62. 63. 64.]\n"
     ]
    }
   ],
   "source": [
    "radial_averages =[]\n",
    "delay_stage_pos = []\n",
    "norm_counts = []\n",
    "\n",
    "for i in files:\n",
    "    npzfile = np.load(load_from_path+i)\n",
    "    radial_averages.append(npzfile['radial_average'])\n",
    "    delay_stage_pos.append(float(npzfile['delay_stage']))\n",
    "    fragment = (npzfile['fragment'])\n",
    "    norm_counts.append(float(npzfile['number_of_trains']))\n",
    "    \n",
    "radial_averages = np.array(radial_averages)\n",
    "delay_stage_pos = np.array(delay_stage_pos)\n",
    "norm_counts = np.array(norm_counts)\n",
    "\n",
    "sort_ind = np.argsort(delay_stage_pos)\n",
    "radial_averages = radial_averages[sort_ind]\n",
    "norm_counts = norm_counts[sort_ind]\n",
    "delay_stage_pos = delay_stage_pos[sort_ind]\n",
    "\n",
    "print('fragment:',fragment) \n",
    "print('number of delay_stage_pos:',len(delay_stage_pos))\n",
    "print('delay_stage_steps:',delay_stage_pos)\n"
   ]
  },
  {
   "cell_type": "code",
   "execution_count": 62,
   "metadata": {},
   "outputs": [
    {
     "name": "stdout",
     "output_type": "stream",
     "text": [
      "187\n",
      "187\n",
      "187\n",
      "187\n",
      "187\n"
     ]
    }
   ],
   "source": [
    "fig = plt.figure(figsize = (10,10),num = 10)\n",
    "\n",
    "\n",
    "for i in range(len(radial_averages)):\n",
    "    plt.plot(radial_averages[i],label=delay_stage_pos[i])\n",
    "    print(len(radial_averages[i]))\n",
    "plt.xlabel('r')\n",
    "plt.ylabel('counts')\n",
    "plt.legend()\n",
    "plt.title(str(fragment));"
   ]
  },
  {
   "cell_type": "code",
   "execution_count": 63,
   "metadata": {},
   "outputs": [
    {
     "data": {
      "text/plain": [
       "5"
      ]
     },
     "execution_count": 63,
     "metadata": {},
     "output_type": "execute_result"
    }
   ],
   "source": []
  },
  {
   "cell_type": "code",
   "execution_count": 113,
   "metadata": {},
   "outputs": [],
   "source": [
    "tt = np.column_stack(radial_averages)"
   ]
  },
  {
   "cell_type": "code",
   "execution_count": 120,
   "metadata": {},
   "outputs": [
    {
     "data": {
      "text/plain": [
       "([<matplotlib.axis.XTick at 0x7f5c829a1e80>,\n",
       "  <matplotlib.axis.XTick at 0x7f5c829a17b8>,\n",
       "  <matplotlib.axis.XTick at 0x7f5c829a14e0>,\n",
       "  <matplotlib.axis.XTick at 0x7f5c8293be48>,\n",
       "  <matplotlib.axis.XTick at 0x7f5c82945358>],\n",
       " <a list of 5 Text xticklabel objects>)"
      ]
     },
     "execution_count": 120,
     "metadata": {},
     "output_type": "execute_result"
    }
   ],
   "source": [
    "plt.imshow(tt, aspect=\"auto\", origin=\"lower\")\n",
    "plt.xticks(np.arange(5), delay_stage_pos)"
   ]
  },
  {
   "cell_type": "code",
   "execution_count": 111,
   "metadata": {},
   "outputs": [],
   "source": []
  },
  {
   "cell_type": "code",
   "execution_count": 112,
   "metadata": {},
   "outputs": [
    {
     "data": {
      "text/plain": [
       "<matplotlib.image.AxesImage at 0x7f5c82a5d550>"
      ]
     },
     "execution_count": 112,
     "metadata": {},
     "output_type": "execute_result"
    }
   ],
   "source": []
  },
  {
   "cell_type": "code",
   "execution_count": null,
   "metadata": {},
   "outputs": [],
   "source": []
  }
 ],
 "metadata": {
  "kernelspec": {
   "display_name": "Python 3",
   "language": "python",
   "name": "python3"
  },
  "language_info": {
   "codemirror_mode": {
    "name": "ipython",
    "version": 3
   },
   "file_extension": ".py",
   "mimetype": "text/x-python",
   "name": "python",
   "nbconvert_exporter": "python",
   "pygments_lexer": "ipython3",
   "version": "3.7.3"
  }
 },
 "nbformat": 4,
 "nbformat_minor": 4
}
