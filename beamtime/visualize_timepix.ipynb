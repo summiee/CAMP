{
 "cells": [
  {
   "cell_type": "markdown",
   "metadata": {},
   "source": [
    "# Visualize TimePix3 data"
   ]
  },
  {
   "cell_type": "markdown",
   "metadata": {},
   "source": [
    "read from \"hdf5\" files created by Kuepper et al. (Hubertus Bromberger)"
   ]
  },
  {
   "cell_type": "code",
   "execution_count": 1,
   "metadata": {},
   "outputs": [
    {
     "name": "stdout",
     "output_type": "stream",
     "text": [
      "Populating the interactive namespace from numpy and matplotlib\n"
     ]
    }
   ],
   "source": [
    "%pylab qt"
   ]
  },
  {
   "cell_type": "markdown",
   "metadata": {},
   "source": [
    "### Imports and utility functions"
   ]
  },
  {
   "cell_type": "code",
   "execution_count": 2,
   "metadata": {},
   "outputs": [],
   "source": [
    "from src.timepix_utils import *\n",
    "import src.timepix_utils as timepix_utils\n",
    "\n",
    "timepix_utils.file_system = 'beamline'"
   ]
  },
  {
   "cell_type": "markdown",
   "metadata": {},
   "source": [
    "### Define run "
   ]
  },
  {
   "cell_type": "code",
   "execution_count": null,
   "metadata": {},
   "outputs": [],
   "source": [
    "run_number = 760  #725\n",
    "\n",
    "hdf_file_name = generate_hdf_file_name(run_number)"
   ]
  },
  {
   "cell_type": "markdown",
   "metadata": {},
   "source": [
    "### Show complete time-of-flight from TimePix\n",
    "100 ms until next FEL trigger"
   ]
  },
  {
   "cell_type": "code",
   "execution_count": null,
   "metadata": {},
   "outputs": [],
   "source": [
    "tof, x_pos, y_pos = data_from_hdf(hdf_file_name)\n",
    "plot_tof(tof, hist_bins = 1000);"
   ]
  },
  {
   "cell_type": "markdown",
   "metadata": {},
   "source": [
    "### Reduce data to time-of-flight "
   ]
  },
  {
   "cell_type": "code",
   "execution_count": null,
   "metadata": {},
   "outputs": [],
   "source": [
    "tof_start = 0E-6\n",
    "tof_end = 30E-6\n",
    "#tof_end = 12E-6\n",
    "\n",
    "tof, x_pos, y_po = data_sliced_by_tof(hdf_file_name, tof_start , tof_end)"
   ]
  },
  {
   "cell_type": "markdown",
   "metadata": {},
   "source": [
    "### Show time-of-flight"
   ]
  },
  {
   "cell_type": "code",
   "execution_count": null,
   "metadata": {},
   "outputs": [],
   "source": [
    "plot_tof(tof, hist_bins = 5000, time_unit = 'micro');"
   ]
  },
  {
   "cell_type": "markdown",
   "metadata": {},
   "source": [
    "### Show X,Y position vs time-of-flight (1d)"
   ]
  },
  {
   "cell_type": "code",
   "execution_count": null,
   "metadata": {},
   "outputs": [],
   "source": [
    "#plot_1d_histograms(tof, x_pos, y_pos, time_unit = 'micro')"
   ]
  },
  {
   "cell_type": "markdown",
   "metadata": {},
   "source": [
    "### Show X,Y position vs time-of-flight (2d)"
   ]
  },
  {
   "cell_type": "code",
   "execution_count": null,
   "metadata": {},
   "outputs": [],
   "source": [
    "plot_2d_histograms(tof, x_pos, y_pos, time_unit = 'micro', colormin = 0 ,colormax = 100)"
   ]
  },
  {
   "cell_type": "markdown",
   "metadata": {},
   "source": [
    "# Select fragment"
   ]
  },
  {
   "cell_type": "code",
   "execution_count": null,
   "metadata": {},
   "outputs": [],
   "source": [
    "fragment = 'test_ion'\n",
    "#fragment = 'I2+'"
   ]
  },
  {
   "cell_type": "markdown",
   "metadata": {},
   "source": [
    "### Show VMI for fragment"
   ]
  },
  {
   "cell_type": "code",
   "execution_count": null,
   "metadata": {},
   "outputs": [],
   "source": [
    "display_tof_and_vmi_of_tof_interval(hdf_file_name, fragment, event_type = 'raw',time_unit = 'micro')"
   ]
  },
  {
   "cell_type": "markdown",
   "metadata": {},
   "source": [
    "### Transform to polar coordinates and radial averaging"
   ]
  },
  {
   "cell_type": "code",
   "execution_count": null,
   "metadata": {},
   "outputs": [],
   "source": [
    "tof, x_pos, y_pos = data_sliced_by_fragment(hdf_file_name, fragment)"
   ]
  },
  {
   "cell_type": "code",
   "execution_count": null,
   "metadata": {},
   "outputs": [],
   "source": [
    "radius_assisting_circle = 30\n",
    "\n",
    "transform_vmi_to_polar(x_pos, y_pos, fragment, radius_assisting_circle);"
   ]
  },
  {
   "cell_type": "code",
   "execution_count": null,
   "metadata": {},
   "outputs": [],
   "source": []
  },
  {
   "cell_type": "code",
   "execution_count": null,
   "metadata": {},
   "outputs": [],
   "source": []
  },
  {
   "cell_type": "markdown",
   "metadata": {},
   "source": [
    "# Test Space"
   ]
  },
  {
   "cell_type": "code",
   "execution_count": null,
   "metadata": {},
   "outputs": [],
   "source": [
    "tof_start = 0E-6\n",
    "tof_end = 30E-6\n",
    "\n",
    "run_number = 751  \n",
    "hdf_file_name = generate_hdf_file_name(run_number)\n",
    "tof1, x_pos1, y_pos1 = data_sliced_by_tof(hdf_file_name, tof_start , tof_end)\n",
    "\n",
    "run_number = 738  \n",
    "hdf_file_name = generate_hdf_file_name(run_number)\n",
    "tof2, x_pos2, y_pos2 = data_sliced_by_tof(hdf_file_name, tof_start , tof_end)\n",
    "\n",
    "run_number = 725  \n",
    "hdf_file_name = generate_hdf_file_name(run_number)\n",
    "tof3, x_pos3, y_pos3 = data_sliced_by_tof(hdf_file_name, tof_start , tof_end)\n",
    "\n",
    "tof_f = np.append(tof1,tof2)\n",
    "tof_f = np.append(tof_f,tof3)\n",
    "\n",
    "x_pos_f = np.append(x_pos1,x_pos2)\n",
    "x_pos_f = np.append(x_pos_f,x_pos3)\n",
    "\n",
    "y_pos_f = np.append(y_pos1,y_pos2)\n",
    "y_pos_f = np.append(y_pos_f,y_pos3)\n",
    "\n",
    "plot_2d_histograms(tof_f, x_pos_f, y_pos_f, time_unit = 'micro', colormin = 0 ,colormax = 100)\n"
   ]
  },
  {
   "cell_type": "code",
   "execution_count": null,
   "metadata": {},
   "outputs": [],
   "source": []
  },
  {
   "cell_type": "code",
   "execution_count": null,
   "metadata": {},
   "outputs": [],
   "source": [
    "fragment = 'test_ion'\n",
    "\n",
    "run_number = 751  \n",
    "hdf_file_name = generate_hdf_file_name(run_number)\n",
    "tof1, x_pos1, y_pos1 = data_sliced_by_fragment(hdf_file_name, fragment)\n",
    "\n",
    "run_number = 738  \n",
    "hdf_file_name = generate_hdf_file_name(run_number)\n",
    "tof2, x_pos2, y_pos2 = data_sliced_by_fragment(hdf_file_name, fragment)\n",
    "\n",
    "run_number = 725  \n",
    "hdf_file_name = generate_hdf_file_name(run_number)\n",
    "tof3, x_pos3, y_pos3 =data_sliced_by_fragment(hdf_file_name, fragment)\n",
    "\n",
    "tof_f = np.append(tof1,tof2)\n",
    "tof_f = np.append(tof_f,tof3)\n",
    "\n",
    "x_pos_f = np.append(x_pos1,x_pos2)\n",
    "x_pos_f = np.append(x_pos_f,x_pos3)\n",
    "\n",
    "y_pos_f = np.append(y_pos1,y_pos2)\n",
    "y_pos_f = np.append(y_pos_f,y_pos3)\n",
    "\n",
    "\n",
    "radius_assisting_circle = 30\n",
    "\n",
    "transform_vmi_to_polar(x_pos_f, y_pos_f, fragment, radius_assisting_circle);"
   ]
  },
  {
   "cell_type": "markdown",
   "metadata": {},
   "source": [
    "### Voltages"
   ]
  },
  {
   "cell_type": "code",
   "execution_count": 8,
   "metadata": {},
   "outputs": [],
   "source": [
    "def focus(x_pos, y_pos):\n",
    "    '''Display VMI image - cmax empirically found to surpress hot pixel '''\n",
    "    fig = plt.figure(num = 101)\n",
    "    plt.hist(x_pos, bins=np.linspace(0, 256, 257), density=True, alpha = 0.5)\n",
    "    plt.title('x-axis')\n",
    "    fig = plt.figure(num = 102)\n",
    "    plt.hist(y_pos, bins=np.linspace(0, 256, 257), density=True, alpha = 0.5)\n",
    "    plt.title('y-axis')\n"
   ]
  },
  {
   "cell_type": "code",
   "execution_count": 9,
   "metadata": {},
   "outputs": [
    {
     "name": "stdout",
     "output_type": "stream",
     "text": [
      "Number of raw events in the file: 4.694E+06\n",
      "Number of FEL pulses in the file: 4.355E+03\n"
     ]
    }
   ],
   "source": [
    "\n",
    "tof_start = 12E-6\n",
    "tof_end = 16E-6\n",
    "\n",
    "run_number = 759  \n",
    "hdf_file_name = generate_hdf_file_name(run_number)\n",
    "tof1, x_pos1, y_pos1 = data_sliced_by_tof(hdf_file_name, tof_start , tof_end)\n",
    "focus(x_pos1, y_pos1)\n",
    " "
   ]
  },
  {
   "cell_type": "code",
   "execution_count": 10,
   "metadata": {},
   "outputs": [
    {
     "name": "stdout",
     "output_type": "stream",
     "text": [
      "Number of raw events in the file: 9.685E+05\n",
      "Number of FEL pulses in the file: 9.340E+02\n"
     ]
    }
   ],
   "source": [
    "run_number = 760  \n",
    "hdf_file_name = generate_hdf_file_name(run_number)\n",
    "tof2, x_pos2, y_pos2 = data_sliced_by_tof(hdf_file_name, tof_start , tof_end)\n",
    "focus(x_pos2, y_pos2)"
   ]
  },
  {
   "cell_type": "code",
   "execution_count": 11,
   "metadata": {},
   "outputs": [
    {
     "name": "stdout",
     "output_type": "stream",
     "text": [
      "Number of raw events in the file: 1.258E+06\n",
      "Number of FEL pulses in the file: 1.079E+03\n"
     ]
    }
   ],
   "source": [
    "run_number = 761  \n",
    "hdf_file_name = generate_hdf_file_name(run_number)\n",
    "tof3, x_pos3, y_pos3 = data_sliced_by_tof(hdf_file_name, tof_start , tof_end)\n",
    "focus(x_pos3, y_pos3)"
   ]
  },
  {
   "cell_type": "code",
   "execution_count": 12,
   "metadata": {},
   "outputs": [
    {
     "name": "stdout",
     "output_type": "stream",
     "text": [
      "Number of raw events in the file: 5.725E+05\n",
      "Number of FEL pulses in the file: 5.490E+02\n"
     ]
    }
   ],
   "source": [
    "run_number = 763\n",
    "hdf_file_name = generate_hdf_file_name(run_number)\n",
    "tof3, x_pos3, y_pos3 = data_sliced_by_tof(hdf_file_name, tof_start , tof_end)\n",
    "focus(x_pos3, y_pos3)"
   ]
  },
  {
   "cell_type": "code",
   "execution_count": null,
   "metadata": {},
   "outputs": [],
   "source": []
  }
 ],
 "metadata": {
  "kernelspec": {
   "display_name": "Python 3",
   "language": "python",
   "name": "python3"
  },
  "language_info": {
   "codemirror_mode": {
    "name": "ipython",
    "version": 3
   },
   "file_extension": ".py",
   "mimetype": "text/x-python",
   "name": "python",
   "nbconvert_exporter": "python",
   "pygments_lexer": "ipython3",
   "version": "3.7.3"
  }
 },
 "nbformat": 4,
 "nbformat_minor": 4
}
