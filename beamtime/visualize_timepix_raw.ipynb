{
 "cells": [
  {
   "cell_type": "markdown",
   "metadata": {},
   "source": [
    "# Visualize TimePix3 data"
   ]
  },
  {
   "cell_type": "markdown",
   "metadata": {},
   "source": [
    "read from \"hdf5\" files created by Kuepper et al. (Hubertus Bromberger)"
   ]
  },
  {
   "cell_type": "markdown",
   "metadata": {},
   "source": [
    "### Imports"
   ]
  },
  {
   "cell_type": "code",
   "execution_count": 1,
   "metadata": {},
   "outputs": [
    {
     "name": "stdout",
     "output_type": "stream",
     "text": [
      "Populating the interactive namespace from numpy and matplotlib\n"
     ]
    }
   ],
   "source": [
    "# %matplotlib widget\n",
    "%pylab qt   "
   ]
  },
  {
   "cell_type": "code",
   "execution_count": 2,
   "metadata": {},
   "outputs": [],
   "source": [
    "import numpy as np  \n",
    "import matplotlib.pyplot as plt\n",
    "import h5py\n",
    "import os.path\n",
    "import src.pyabel_polar\n",
    "import scipy"
   ]
  },
  {
   "cell_type": "markdown",
   "metadata": {},
   "source": [
    "### Utility function"
   ]
  },
  {
   "cell_type": "code",
   "execution_count": 25,
   "metadata": {},
   "outputs": [],
   "source": [
    "def data_from_hdf(hdf_file_complete_path, event_type = 'raw'):\n",
    "    '''Read data from TimePix HDF files\n",
    "    Choose raw or centroided data, default is centroided data'''\n",
    "    with h5py.File(hdf_file_complete_path, 'r') as h_file:\n",
    "        tof = h_file[str(event_type)+'/tof'][:]\n",
    "        x_pos = h_file[str(event_type)+'/x'][:]\n",
    "        y_pos = h_file[str(event_type)+'/y'][:]\n",
    "    print('Number of FEL pulses in the file:',len(tof))\n",
    "    return tof, x_pos, y_pos\n",
    "\n",
    "def data_sliced_by_tof(hdf_file_complete_path, tof_start = 0 , tof_end = 0.1, event_type = 'raw'):\n",
    "    '''Slice data with respect to time-of-flight dimension'''\n",
    "    tof, x_pos, y_pos = data_from_hdf(hdf_file_complete_path, event_type)\n",
    "    sliced_x_pos = x_pos[np.logical_and(tof > tof_start, tof < tof_end)]\n",
    "    sliced_y_pos = y_pos[np.logical_and(tof > tof_start, tof < tof_end)]\n",
    "    sliced_tof = tof[np.logical_and(tof > tof_start, tof < tof_end)]\n",
    "    return sliced_tof, sliced_x_pos, sliced_y_pos\n",
    "\n",
    "def reduce_raw_data(tof, x_pos, y_pos, number_of_events):\n",
    "    '''Reduce data for visualization'''\n",
    "    return tof[:number_of_events], x_pos[:number_of_events],y_pos[:number_of_events]\n",
    "\n",
    "def tof_conversion(tof, time_unit):\n",
    "    '''Convert time axis'''\n",
    "    if time_unit == None:\n",
    "        return tof, 's'\n",
    "    if time_unit == 'milli':\n",
    "        return tof*10**3, 'ms'\n",
    "    if time_unit == 'micro':\n",
    "        return tof*10**6, 'us'\n",
    "\n",
    "def plot_tof(tof, tof_start = None, tof_end = None, hist_bins = 100, time_unit = None):     \n",
    "    '''Plot time-of-flight spectrum via numpy histogram'''\n",
    "    if tof_start == None:\n",
    "        tof_start = np.min(tof)\n",
    "    if tof_end == None:\n",
    "        tof_end = np.max(tof)\n",
    "        \n",
    "    print(tof_start)\n",
    "    print(tof_end)\n",
    "    \n",
    "    fig = plt.subplots(num = 1)\n",
    "    plt.clf()\n",
    "    tof_start, time_tof_unit = tof_conversion(tof_start, time_unit)\n",
    "    tof_end, time_tof_unit = tof_conversion(tof_end, time_unit)\n",
    "    tof, time_tof_unit = tof_conversion(tof, time_unit)\n",
    "    hist_y, hist_x = np.histogram(tof, bins = hist_bins, range = (tof_start, tof_end))\n",
    "    hist_y = np.append(hist_y,0)\n",
    "    plt.plot(hist_x, hist_y)\n",
    "    plt.title('histogram: time-of-flight')\n",
    "    plt.xlabel('ToF [{}]'.format(time_tof_unit))\n",
    "    plt.ylabel('number of events')\n",
    "    plt.show()\n",
    "    return hist_x, hist_y\n",
    "        \n",
    "def plot_1d_histograms(tof, x_pos, y_pos, time_unit = None):      \n",
    "    '''1D plots - detector position vs time-of-flight for each dimension'''\n",
    "    tof, time_tof_unit = tof_conversion(tof, time_unit)\n",
    "    fig = plt.figure(num = 2)\n",
    "    plt.clf()\n",
    "    plt.plot(tof, x_pos,'.')\n",
    "    plt.title(\"ToF vs x_pos\")\n",
    "    plt.xlabel('ToF [{}]'.format(time_tof_unit))\n",
    "    plt.ylabel('x_pos [px]')\n",
    "    \n",
    "    fig = plt.figure(num=3)\n",
    "    plt.clf()\n",
    "    plt.plot(tof, y_pos,'.')\n",
    "    plt.title(\"ToF vs y_pos\")\n",
    "    plt.xlabel('ToF [{}]'.format(time_tof_unit))\n",
    "    plt.ylabel('y_pos [px]')\n",
    "    plt.show()\n",
    "\n",
    "def plot_2d_histograms(tof, x_pos, y_pos ,bin_tof = 6000, bin_space = 256, time_unit = None, colormin = 0, colormax = 1000):\n",
    "    '''2D plot (heatmap) - detector position vs time-of-flight for each dimension'''\n",
    "    \n",
    "    tof, time_tof_unit = tof_conversion(tof, time_unit)\n",
    "\n",
    "    fig = plt.figure(num = 4)\n",
    "    plt.clf()\n",
    "    plt.hist2d(tof, x_pos, bins = (bin_tof, np.linspace(0, bin_space, bin_space+1)), cmax=colormax)\n",
    "    plt.title('2d histogram: time-of-flight / x_pos')\n",
    "    plt.xlabel('ToF [{}]'.format(time_tof_unit))\n",
    "    plt.ylabel('x_pos')\n",
    "    plt.show()\n",
    "    plt.colorbar()\n",
    "    \n",
    "    fig = plt.figure(num = 5)\n",
    "    plt.clf()\n",
    "    plt.hist2d(tof, y_pos,bins= (bin_tof, np.linspace(0, bin_space, bin_space+1)), cmax=colormax)\n",
    "    plt.title('2d histogram: time-of-flight / y_pos')\n",
    "    plt.xlabel('ToF [{}]'.format(time_tof_unit))\n",
    "    plt.ylabel('y_pos')\n",
    "    plt.show()\n",
    "    plt.colorbar()\n",
    "    \n",
    "def vmi_image(x_pos, y_pos, show_image = True):\n",
    "    '''Display VMI image - cmax empirically found to surpress hot pixel '''\n",
    "    fig = plt.figure(num = 6)\n",
    "    plt.clf()\n",
    "    counts, xbins, ybins, image = plt.hist2d(x_pos, y_pos, bins=np.linspace(0, 256, 257)) #, cmax= 1000)\n",
    "    plt.xlabel('x_pos [px]')\n",
    "    plt.ylabel('y_pos [px]')\n",
    "    if show_image == False:\n",
    "        plt.close()\n",
    "    return counts\n",
    "    \n",
    "def display_tof_and_vmi_of_tof_interval(hdf_file_complete_path, tof_start = 0 , tof_end = 0.1, hist_bins = 100, time_unit = None, event_type = 'raw'):\n",
    "    '''Display VMI Image and time-of-flight spetrum'''\n",
    "    tof, x_pos, y_pos = data_sliced_by_tof(hdf_file_complete_path, tof_start, tof_end, event_type)\n",
    "    plot_tof(tof, hist_bins, time_unit)\n",
    "    vmi_image(x_pos,y_pos)\n",
    "\n",
    "    \n",
    "def transform_vmi_to_polar(x_pos, y_pos, x_center, y_center, radius ):\n",
    "    \n",
    "    counts = vmi_image(x_pos, y_pos, show_image = False)\n",
    "    image_cart = np.flipud(counts.transpose())\n",
    "    \n",
    "    image_polar, r_grid, theta_grid = src.pyabel_polar.reproject_image_into_polar(image_cart, origin=(x_center,y_center))\n",
    "    radial_ave = np.sum(image_polar, axis=1)\n",
    "    \n",
    "    fig = plt.figure(num = 6)\n",
    "    plt.clf()\n",
    "    plt.imshow(image_cart)\n",
    "    plt.scatter(x_center, y_center, color='r')\n",
    "    plt.gcf().gca().add_artist(plt.Circle((x_center, y_center), radius, color='r', fill=False))\n",
    "    plt.xlabel('x_posr [px]')\n",
    "    plt.ylabel('y_posr [px]')\n",
    "    plt.title('VMI image')\n",
    "\n",
    "    fig = plt.figure(num = 7)\n",
    "    plt.clf()\n",
    "    plt.imshow(image_polar)\n",
    "    plt.title('Image - polar coordinates')\n",
    "\n",
    "    fig = plt.figure(num = 8)\n",
    "    plt.clf()\n",
    "    plt.plot(radial_ave,'r-')\n",
    "    plt.title('Radial average')\n",
    "    plt.xlabel('r [px]')\n",
    "    plt.ylabel('counts')\n",
    "    plt.show() \n",
    "\n",
    "def number_of_trains_from_hdf(hdf_file_complete_path):\n",
    "    '''Retrun number of recorded FEL trains in HDF file'''\n",
    "    with h5py.File(hdf_file_complete_path, 'r') as h_file:\n",
    "        trains = len(h_file['tpx3Times/triggerNr'][:])\n",
    "    return trains\n"
   ]
  },
  {
   "cell_type": "markdown",
   "metadata": {},
   "source": [
    "### Define HDF path & file"
   ]
  },
  {
   "cell_type": "code",
   "execution_count": 10,
   "metadata": {},
   "outputs": [],
   "source": [
    "hdf_file_path = '/gpfs/bl1/current/processed/timepix_hdf/'\n",
    "#run_number = 450   # run with IR only to see funny polarization\n",
    "run_number = 562\n",
    "\n",
    "file_start = \"run_\"+str(run_number).zfill(4)\n",
    "file_end = 'rawOnly.hdf5'\n",
    "hdf_file = [i for i in os.listdir(hdf_file_path) if os.path.isfile(os.path.join(hdf_file_path,i)) and i.startswith(file_start) and not i.endswith(file_end)][0]\n",
    "hdf_file_complete_path = hdf_file_path+hdf_file\n",
    "assert os.path.isfile(hdf_file_complete_path), 'File does not exist!'"
   ]
  },
  {
   "cell_type": "markdown",
   "metadata": {},
   "source": [
    "### Show complete time-of-flight\n",
    "100 ms until next FEL trigger"
   ]
  },
  {
   "cell_type": "code",
   "execution_count": 11,
   "metadata": {},
   "outputs": [
    {
     "name": "stdout",
     "output_type": "stream",
     "text": [
      "Number of FEL pulses in the file: 5102012\n",
      "1.2762484402628615e-08\n",
      "0.10011942838747245\n"
     ]
    }
   ],
   "source": [
    "tof, x_pos, y_pos = data_from_hdf(hdf_file_complete_path)\n",
    "\n",
    "plot_tof(tof, hist_bins = 1000);"
   ]
  },
  {
   "cell_type": "markdown",
   "metadata": {},
   "source": [
    "### Reduce data to one single FEL train"
   ]
  },
  {
   "cell_type": "code",
   "execution_count": 12,
   "metadata": {},
   "outputs": [
    {
     "name": "stdout",
     "output_type": "stream",
     "text": [
      "Number of FEL pulses in the file: 5102012\n"
     ]
    }
   ],
   "source": [
    "tof_start = 0E-6\n",
    "tof_end = 12E-6\n",
    "\n",
    "tof, x_pos, y_pos = data_sliced_by_tof(hdf_file_complete_path, tof_start , tof_end)\n"
   ]
  },
  {
   "cell_type": "markdown",
   "metadata": {},
   "source": [
    "### Show time-of-flight spectrum"
   ]
  },
  {
   "cell_type": "code",
   "execution_count": 13,
   "metadata": {},
   "outputs": [
    {
     "name": "stdout",
     "output_type": "stream",
     "text": [
      "1.2762484402628615e-08\n",
      "1.1998700017556985e-05\n"
     ]
    }
   ],
   "source": [
    "plot_tof(tof, hist_bins = 5000, time_unit = 'micro');"
   ]
  },
  {
   "cell_type": "markdown",
   "metadata": {},
   "source": [
    "### Show X,Y position vs time-of-flight (1d)"
   ]
  },
  {
   "cell_type": "code",
   "execution_count": 8,
   "metadata": {},
   "outputs": [],
   "source": [
    "plot_1d_histograms(tof, x_pos, y_pos, time_unit = 'micro')"
   ]
  },
  {
   "cell_type": "markdown",
   "metadata": {},
   "source": [
    "### Show X,Y position vs time-of-flight (2d)"
   ]
  },
  {
   "cell_type": "code",
   "execution_count": 19,
   "metadata": {},
   "outputs": [],
   "source": [
    "plot_2d_histograms(tof, x_pos, y_pos, time_unit = 'micro', colormin = 0 ,colormax = 100)"
   ]
  },
  {
   "cell_type": "markdown",
   "metadata": {},
   "source": [
    "### Show VMI for time-of-flight interval"
   ]
  },
  {
   "cell_type": "code",
   "execution_count": null,
   "metadata": {},
   "outputs": [],
   "source": [
    "tof_start = 0E-6\n",
    "tof_end = 12E-6\n",
    "\n",
    "tof, x_pos, y_pos = data_sliced_by_tof(hdf_file_complete_path, tof_start , tof_end)\n",
    "plot_tof(tof, hist_bins = 1000, time_unit = 'micro');"
   ]
  },
  {
   "cell_type": "code",
   "execution_count": null,
   "metadata": {},
   "outputs": [],
   "source": [
    "tof_start = 5.71E-6\n",
    "tof_end = 6E-6\n",
    "\n",
    "display_tof_and_vmi_of_tof_interval(hdf_file_complete_path, tof_start, tof_end, event_type = 'raw',time_unit = 'micro')"
   ]
  },
  {
   "cell_type": "markdown",
   "metadata": {},
   "source": [
    "### Transform to polar coordinates and radial averaging"
   ]
  },
  {
   "cell_type": "code",
   "execution_count": null,
   "metadata": {},
   "outputs": [],
   "source": [
    "x_center, y_center = 128, 120\n",
    "radius = 45\n",
    "\n",
    "tof, x_pos, y_pos = data_sliced_by_tof(hdf_file_complete_path, tof_start , tof_end)\n",
    "transform_vmi_to_polar(x_pos, y_pos, x_center, y_center, radius)"
   ]
  },
  {
   "cell_type": "code",
   "execution_count": null,
   "metadata": {},
   "outputs": [],
   "source": []
  },
  {
   "cell_type": "code",
   "execution_count": null,
   "metadata": {},
   "outputs": [],
   "source": [
    "plt.plot(tt1[0],tt1[1]/z1, label = 'Run 411, I_krum = 20 ADU, 4127 pulses')\n",
    "plt.plot(tt2[0],tt2[1]/z2, label = 'Run 423, I_krum = 220 ADU, 4592 pulses')\n",
    "plt.legend()\n",
    "plt.xlabel('tof [mu s]')\n",
    "plt.ylabel('counts')\n",
    "plt.title('0.15 laser, FEL (2xZr 300nm)')"
   ]
  },
  {
   "cell_type": "code",
   "execution_count": null,
   "metadata": {},
   "outputs": [],
   "source": [
    "print(z1)\n",
    "print(z2)"
   ]
  },
  {
   "cell_type": "code",
   "execution_count": null,
   "metadata": {},
   "outputs": [],
   "source": []
  }
 ],
 "metadata": {
  "kernelspec": {
   "display_name": "Python 3",
   "language": "python",
   "name": "python3"
  },
  "language_info": {
   "codemirror_mode": {
    "name": "ipython",
    "version": 3
   },
   "file_extension": ".py",
   "mimetype": "text/x-python",
   "name": "python",
   "nbconvert_exporter": "python",
   "pygments_lexer": "ipython3",
   "version": "3.7.3"
  }
 },
 "nbformat": 4,
 "nbformat_minor": 4
}
