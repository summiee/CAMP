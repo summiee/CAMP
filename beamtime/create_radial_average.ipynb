{
 "cells": [
  {
   "cell_type": "markdown",
   "metadata": {},
   "source": [
    "# Create radial averages for pump-probe heatmap"
   ]
  },
  {
   "cell_type": "code",
   "execution_count": 1,
   "metadata": {},
   "outputs": [
    {
     "name": "stdout",
     "output_type": "stream",
     "text": [
      "Populating the interactive namespace from numpy and matplotlib\n"
     ]
    }
   ],
   "source": [
    "%pylab qt"
   ]
  },
  {
   "cell_type": "markdown",
   "metadata": {},
   "source": [
    "### Imports and utility functions"
   ]
  },
  {
   "cell_type": "code",
   "execution_count": 2,
   "metadata": {},
   "outputs": [],
   "source": [
    "from src.timepix_utils import *\n",
    "import src.timepix_utils as timepix_utils\n",
    "\n",
    "timepix_utils.file_system = 'beamline'"
   ]
  },
  {
   "cell_type": "markdown",
   "metadata": {},
   "source": [
    "### Define source file & describe measurment"
   ]
  },
  {
   "cell_type": "code",
   "execution_count": 3,
   "metadata": {},
   "outputs": [],
   "source": [
    "run_number = 555\n",
    "timepix_event_type = 'raw'\n",
    "\n",
    "hdf_file_name = generate_hdf_file_name(run_number)\n",
    "\n",
    "tof_start = 0E-6\n",
    "tof_end = 10E-6"
   ]
  },
  {
   "cell_type": "markdown",
   "metadata": {},
   "source": [
    "### Complete time-of-flight"
   ]
  },
  {
   "cell_type": "code",
   "execution_count": 4,
   "metadata": {},
   "outputs": [
    {
     "name": "stdout",
     "output_type": "stream",
     "text": [
      "Number of raw events in the file: 3.990E+06\n",
      "Number of FEL pulses in the file: 2.965E+03\n"
     ]
    }
   ],
   "source": [
    "tof, x_pos, y_pos = data_sliced_by_tof(hdf_file_name, tof_start , tof_end, event_type = timepix_event_type)\n",
    "plot_tof(tof, tof_start, tof_end,  hist_bins = 1000, time_unit = 'micro');"
   ]
  },
  {
   "cell_type": "markdown",
   "metadata": {},
   "source": [
    "### Slice time-of-flight dimension and create VMI image"
   ]
  },
  {
   "cell_type": "code",
   "execution_count": 5,
   "metadata": {},
   "outputs": [
    {
     "name": "stdout",
     "output_type": "stream",
     "text": [
      "Number of raw events in the file: 3.990E+06\n",
      "Number of FEL pulses in the file: 2.965E+03\n"
     ]
    }
   ],
   "source": [
    "fragment = 'test_ion'\n",
    "\n",
    "display_tof_and_vmi_of_tof_interval(hdf_file_name, fragment, event_type = timepix_event_type,time_unit = 'micro')"
   ]
  },
  {
   "cell_type": "markdown",
   "metadata": {},
   "source": [
    "### Chose center and calc radial average"
   ]
  },
  {
   "cell_type": "code",
   "execution_count": 6,
   "metadata": {},
   "outputs": [
    {
     "name": "stdout",
     "output_type": "stream",
     "text": [
      "Number of raw events in the file: 3.990E+06\n",
      "Number of FEL pulses in the file: 2.965E+03\n"
     ]
    }
   ],
   "source": [
    "tof, x_pos, y_pos = data_sliced_by_fragment(hdf_file_name, fragment)"
   ]
  },
  {
   "cell_type": "code",
   "execution_count": 7,
   "metadata": {},
   "outputs": [],
   "source": [
    "radius_assisting_circle = 45\n",
    "\n",
    "transform_vmi_to_polar(x_pos, y_pos, fragment, radius_assisting_circle);"
   ]
  },
  {
   "cell_type": "markdown",
   "metadata": {},
   "source": [
    "## Save to intermediate results "
   ]
  },
  {
   "cell_type": "code",
   "execution_count": 8,
   "metadata": {},
   "outputs": [],
   "source": [
    "def save_all_delay_for_fragment_list(output_file_name, run_interval, fragment_list, timepix_event_type):\n",
    "    runs_file , delay_stage = get_delay_stage_pos_from_txt_file(run_interval)\n",
    "    with h5py.File('intermediate_data/'+output_file_name+'.hdf5', \"w\") as f:\n",
    "        for i in range(run_interval[0], run_interval[1]+1):\n",
    "            print('Working on Run {} ...{}/{}'.format(i,(i-run_interval[0])+1,(run_interval[1]+1-run_interval[0])))\n",
    "            try:\n",
    "                hdf_file = generate_hdf_file_name(i)\n",
    "                number_of_trains = number_of_trains_from_hdf(hdf_file)\n",
    "                run_hdfgroup = f.create_group(\"Run {}\".format(i))\n",
    "                run_hdfgroup.create_dataset('number_of_trains', data = number_of_trains)\n",
    "                run_hdfgroup.create_dataset('delay_stage', data = delay_stage[i-run_interval[0]])\n",
    "                for i in range(len(fragment_list)):             \n",
    "                    tof, x_pos, y_pos = data_sliced_by_fragment(hdf_file, fragment_list[i], event_type = timepix_event_type)\n",
    "                    radial_average = transform_vmi_to_polar(x_pos, y_pos, fragment_list[i], show_images = False) \n",
    "                    fragment_hdfgroup = run_hdfgroup.create_group(\"{}\".format(fragment_list[i]))\n",
    "                    fragment_hdfgroup.create_dataset('radial_average', data = radial_average)\n",
    "            except:\n",
    "                pass\n"
   ]
  },
  {
   "cell_type": "code",
   "execution_count": 9,
   "metadata": {},
   "outputs": [],
   "source": [
    "timepix_event_type = 'raw'\n",
    "\n",
    "output_file_name = 'test' \n",
    "run_interval = [526, 560]\n",
    "\n",
    "fragment_list = ['test_ion','test_ion2']"
   ]
  },
  {
   "cell_type": "code",
   "execution_count": 10,
   "metadata": {},
   "outputs": [
    {
     "name": "stdout",
     "output_type": "stream",
     "text": [
      "Working on Run 526 ...1/35\n",
      "Number of raw events in the file: 3.073E+06\n",
      "Number of FEL pulses in the file: 2.619E+03\n",
      "Number of raw events in the file: 3.073E+06\n",
      "Number of FEL pulses in the file: 2.619E+03\n",
      "Working on Run 527 ...2/35\n",
      "Number of raw events in the file: 3.537E+06\n",
      "Number of FEL pulses in the file: 2.858E+03\n",
      "Number of raw events in the file: 3.537E+06\n",
      "Number of FEL pulses in the file: 2.858E+03\n",
      "Working on Run 528 ...3/35\n",
      "Number of raw events in the file: 3.340E+06\n",
      "Number of FEL pulses in the file: 2.801E+03\n",
      "Number of raw events in the file: 3.340E+06\n",
      "Number of FEL pulses in the file: 2.801E+03\n",
      "Working on Run 529 ...4/35\n",
      "Number of raw events in the file: 3.398E+06\n",
      "Number of FEL pulses in the file: 2.744E+03\n",
      "Number of raw events in the file: 3.398E+06\n",
      "Number of FEL pulses in the file: 2.744E+03\n",
      "Working on Run 530 ...5/35\n",
      "Number of raw events in the file: 3.275E+06\n",
      "Number of FEL pulses in the file: 2.805E+03\n",
      "Number of raw events in the file: 3.275E+06\n",
      "Number of FEL pulses in the file: 2.805E+03\n",
      "Working on Run 531 ...6/35\n",
      "Number of raw events in the file: 3.368E+06\n",
      "Number of FEL pulses in the file: 2.810E+03\n",
      "Number of raw events in the file: 3.368E+06\n",
      "Number of FEL pulses in the file: 2.810E+03\n",
      "Working on Run 532 ...7/35\n",
      "Number of raw events in the file: 3.469E+06\n",
      "Number of FEL pulses in the file: 2.804E+03\n",
      "Number of raw events in the file: 3.469E+06\n",
      "Number of FEL pulses in the file: 2.804E+03\n",
      "Working on Run 533 ...8/35\n",
      "Number of raw events in the file: 3.405E+06\n",
      "Number of FEL pulses in the file: 2.844E+03\n",
      "Number of raw events in the file: 3.405E+06\n",
      "Number of FEL pulses in the file: 2.844E+03\n",
      "Working on Run 534 ...9/35\n",
      "Number of raw events in the file: 3.447E+06\n",
      "Number of FEL pulses in the file: 2.831E+03\n",
      "Number of raw events in the file: 3.447E+06\n",
      "Number of FEL pulses in the file: 2.831E+03\n",
      "Working on Run 535 ...10/35\n",
      "Number of raw events in the file: 3.369E+06\n",
      "Number of FEL pulses in the file: 2.842E+03\n",
      "Number of raw events in the file: 3.369E+06\n",
      "Number of FEL pulses in the file: 2.842E+03\n",
      "Working on Run 536 ...11/35\n",
      "Number of raw events in the file: 3.291E+06\n",
      "Number of FEL pulses in the file: 2.808E+03\n",
      "Number of raw events in the file: 3.291E+06\n",
      "Number of FEL pulses in the file: 2.808E+03\n",
      "Working on Run 537 ...12/35\n",
      "Number of raw events in the file: 3.429E+06\n",
      "Number of FEL pulses in the file: 2.748E+03\n",
      "Number of raw events in the file: 3.429E+06\n",
      "Number of FEL pulses in the file: 2.748E+03\n",
      "Working on Run 538 ...13/35\n",
      "Number of raw events in the file: 3.481E+06\n",
      "Number of FEL pulses in the file: 2.876E+03\n",
      "Number of raw events in the file: 3.481E+06\n",
      "Number of FEL pulses in the file: 2.876E+03\n",
      "Working on Run 539 ...14/35\n",
      "Number of raw events in the file: 3.541E+06\n",
      "Number of FEL pulses in the file: 2.801E+03\n",
      "Number of raw events in the file: 3.541E+06\n",
      "Number of FEL pulses in the file: 2.801E+03\n",
      "Working on Run 540 ...15/35\n",
      "Number of raw events in the file: 3.724E+06\n",
      "Number of FEL pulses in the file: 2.839E+03\n",
      "Number of raw events in the file: 3.724E+06\n",
      "Number of FEL pulses in the file: 2.839E+03\n",
      "Working on Run 541 ...16/35\n",
      "Number of raw events in the file: 3.407E+06\n",
      "Number of FEL pulses in the file: 2.851E+03\n",
      "Number of raw events in the file: 3.407E+06\n",
      "Number of FEL pulses in the file: 2.851E+03\n",
      "Working on Run 542 ...17/35\n",
      "Number of raw events in the file: 3.680E+06\n",
      "Number of FEL pulses in the file: 2.838E+03\n",
      "Number of raw events in the file: 3.680E+06\n",
      "Number of FEL pulses in the file: 2.838E+03\n",
      "Working on Run 543 ...18/35\n",
      "Number of raw events in the file: 4.038E+06\n",
      "Number of FEL pulses in the file: 2.845E+03\n",
      "Number of raw events in the file: 4.038E+06\n",
      "Number of FEL pulses in the file: 2.845E+03\n",
      "Working on Run 544 ...19/35\n",
      "Number of raw events in the file: 3.719E+06\n",
      "Number of FEL pulses in the file: 2.867E+03\n",
      "Number of raw events in the file: 3.719E+06\n",
      "Number of FEL pulses in the file: 2.867E+03\n",
      "Working on Run 545 ...20/35\n",
      "Number of raw events in the file: 3.591E+06\n",
      "Number of FEL pulses in the file: 2.807E+03\n",
      "Number of raw events in the file: 3.591E+06\n",
      "Number of FEL pulses in the file: 2.807E+03\n",
      "Working on Run 546 ...21/35\n",
      "Number of raw events in the file: 3.802E+06\n",
      "Number of FEL pulses in the file: 2.799E+03\n",
      "Number of raw events in the file: 3.802E+06\n",
      "Number of FEL pulses in the file: 2.799E+03\n",
      "Working on Run 547 ...22/35\n",
      "Number of raw events in the file: 3.624E+06\n",
      "Number of FEL pulses in the file: 2.813E+03\n",
      "Number of raw events in the file: 3.624E+06\n",
      "Number of FEL pulses in the file: 2.813E+03\n",
      "Working on Run 548 ...23/35\n",
      "Number of raw events in the file: 3.608E+06\n",
      "Number of FEL pulses in the file: 2.758E+03\n",
      "Number of raw events in the file: 3.608E+06\n",
      "Number of FEL pulses in the file: 2.758E+03\n",
      "Working on Run 549 ...24/35\n",
      "Number of raw events in the file: 3.662E+06\n",
      "Number of FEL pulses in the file: 2.856E+03\n",
      "Number of raw events in the file: 3.662E+06\n",
      "Number of FEL pulses in the file: 2.856E+03\n",
      "Working on Run 550 ...25/35\n",
      "Number of raw events in the file: 3.851E+06\n",
      "Number of FEL pulses in the file: 2.819E+03\n",
      "Number of raw events in the file: 3.851E+06\n",
      "Number of FEL pulses in the file: 2.819E+03\n",
      "Working on Run 551 ...26/35\n",
      "Number of raw events in the file: 3.970E+06\n",
      "Number of FEL pulses in the file: 2.859E+03\n",
      "Number of raw events in the file: 3.970E+06\n",
      "Number of FEL pulses in the file: 2.859E+03\n",
      "Working on Run 552 ...27/35\n",
      "Number of raw events in the file: 3.367E+06\n",
      "Number of FEL pulses in the file: 2.830E+03\n",
      "Number of raw events in the file: 3.367E+06\n",
      "Number of FEL pulses in the file: 2.830E+03\n",
      "Working on Run 553 ...28/35\n",
      "Number of raw events in the file: 3.593E+06\n",
      "Number of FEL pulses in the file: 2.780E+03\n",
      "Number of raw events in the file: 3.593E+06\n",
      "Number of FEL pulses in the file: 2.780E+03\n",
      "Working on Run 554 ...29/35\n",
      "Number of raw events in the file: 3.507E+06\n",
      "Number of FEL pulses in the file: 2.841E+03\n",
      "Number of raw events in the file: 3.507E+06\n",
      "Number of FEL pulses in the file: 2.841E+03\n",
      "Working on Run 555 ...30/35\n",
      "Number of raw events in the file: 3.990E+06\n",
      "Number of FEL pulses in the file: 2.965E+03\n",
      "Number of raw events in the file: 3.990E+06\n",
      "Number of FEL pulses in the file: 2.965E+03\n",
      "Working on Run 556 ...31/35\n",
      "Number of raw events in the file: 5.043E+06\n",
      "Number of FEL pulses in the file: 4.122E+03\n",
      "Number of raw events in the file: 5.043E+06\n",
      "Number of FEL pulses in the file: 4.122E+03\n",
      "Working on Run 557 ...32/35\n",
      "Number of raw events in the file: 4.139E+06\n",
      "Number of FEL pulses in the file: 3.246E+03\n",
      "Number of raw events in the file: 4.139E+06\n",
      "Number of FEL pulses in the file: 3.246E+03\n",
      "Working on Run 558 ...33/35\n",
      "Number of raw events in the file: 4.183E+06\n",
      "Number of FEL pulses in the file: 3.538E+03\n",
      "Number of raw events in the file: 4.183E+06\n",
      "Number of FEL pulses in the file: 3.538E+03\n",
      "Working on Run 559 ...34/35\n",
      "Number of raw events in the file: 3.520E+06\n",
      "Number of FEL pulses in the file: 2.882E+03\n",
      "Number of raw events in the file: 3.520E+06\n",
      "Number of FEL pulses in the file: 2.882E+03\n",
      "Working on Run 560 ...35/35\n",
      "Number of raw events in the file: 3.542E+06\n",
      "Number of FEL pulses in the file: 2.766E+03\n",
      "Number of raw events in the file: 3.542E+06\n",
      "Number of FEL pulses in the file: 2.766E+03\n"
     ]
    }
   ],
   "source": [
    "save_all_delay_for_fragment_list(output_file_name, run_interval, fragment_list , timepix_event_type)"
   ]
  },
  {
   "cell_type": "code",
   "execution_count": null,
   "metadata": {},
   "outputs": [],
   "source": []
  }
 ],
 "metadata": {
  "kernelspec": {
   "display_name": "Python 3",
   "language": "python",
   "name": "python3"
  },
  "language_info": {
   "codemirror_mode": {
    "name": "ipython",
    "version": 3
   },
   "file_extension": ".py",
   "mimetype": "text/x-python",
   "name": "python",
   "nbconvert_exporter": "python",
   "pygments_lexer": "ipython3",
   "version": "3.7.3"
  }
 },
 "nbformat": 4,
 "nbformat_minor": 4
}
