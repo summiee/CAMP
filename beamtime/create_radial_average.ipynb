{
 "cells": [
  {
   "cell_type": "markdown",
   "metadata": {},
   "source": [
    "# Create radial averages for pump-probe heatmap"
   ]
  },
  {
   "cell_type": "code",
   "execution_count": 1,
   "metadata": {},
   "outputs": [
    {
     "name": "stdout",
     "output_type": "stream",
     "text": [
      "Populating the interactive namespace from numpy and matplotlib\n"
     ]
    }
   ],
   "source": [
    "%pylab qt"
   ]
  },
  {
   "cell_type": "markdown",
   "metadata": {},
   "source": [
    "### Imports and utility functions"
   ]
  },
  {
   "cell_type": "code",
   "execution_count": 2,
   "metadata": {},
   "outputs": [],
   "source": [
    "from src.timepix_utils import *\n",
    "import src.timepix_utils as timepix_utils\n",
    "\n",
    "timepix_utils.file_system = 'beamline'"
   ]
  },
  {
   "cell_type": "markdown",
   "metadata": {},
   "source": [
    "### Define source file & describe measurment"
   ]
  },
  {
   "cell_type": "code",
   "execution_count": 3,
   "metadata": {},
   "outputs": [],
   "source": [
    "run_number = 725\n",
    "timepix_event_type = 'raw'\n",
    "\n",
    "hdf_file_name = generate_hdf_file_name(run_number)\n",
    "\n",
    "tof_start = 0E-6\n",
    "tof_end = 24E-6"
   ]
  },
  {
   "cell_type": "markdown",
   "metadata": {},
   "source": [
    "### Complete time-of-flight"
   ]
  },
  {
   "cell_type": "code",
   "execution_count": 4,
   "metadata": {},
   "outputs": [
    {
     "name": "stdout",
     "output_type": "stream",
     "text": [
      "Number of raw events in the file: 3.400E+06\n",
      "Number of FEL pulses in the file: 2.942E+03\n"
     ]
    }
   ],
   "source": [
    "tof, x_pos, y_pos = data_sliced_by_tof(hdf_file_name, tof_start , tof_end, event_type = timepix_event_type)\n",
    "plot_tof(tof, tof_start, tof_end,  hist_bins = 1000, time_unit = 'micro');"
   ]
  },
  {
   "cell_type": "markdown",
   "metadata": {},
   "source": [
    "### Slice time-of-flight dimension and create VMI image"
   ]
  },
  {
   "cell_type": "code",
   "execution_count": 15,
   "metadata": {},
   "outputs": [
    {
     "name": "stdout",
     "output_type": "stream",
     "text": [
      "Number of raw events in the file: 3.400E+06\n",
      "Number of FEL pulses in the file: 2.942E+03\n"
     ]
    }
   ],
   "source": [
    "#fragment = 'I2+'\n",
    "fragment = 'test_ion2'\n",
    "\n",
    "\n",
    "display_tof_and_vmi_of_tof_interval(hdf_file_name, fragment, event_type = timepix_event_type,time_unit = 'micro')"
   ]
  },
  {
   "cell_type": "markdown",
   "metadata": {},
   "source": [
    "### Chose center and calc radial average"
   ]
  },
  {
   "cell_type": "code",
   "execution_count": 16,
   "metadata": {},
   "outputs": [
    {
     "name": "stdout",
     "output_type": "stream",
     "text": [
      "Number of raw events in the file: 3.400E+06\n",
      "Number of FEL pulses in the file: 2.942E+03\n"
     ]
    }
   ],
   "source": [
    "tof, x_pos, y_pos = data_sliced_by_fragment(hdf_file_name, fragment)"
   ]
  },
  {
   "cell_type": "code",
   "execution_count": 17,
   "metadata": {},
   "outputs": [],
   "source": [
    "radius_assisting_circle = 30\n",
    "\n",
    "transform_vmi_to_polar(x_pos, y_pos, fragment, radius_assisting_circle);"
   ]
  },
  {
   "cell_type": "markdown",
   "metadata": {},
   "source": [
    "## Save to intermediate results "
   ]
  },
  {
   "cell_type": "code",
   "execution_count": 9,
   "metadata": {},
   "outputs": [],
   "source": [
    "def save_all_delay_for_fragment_list(output_file_name, run_interval, fragment_list, timepix_event_type):\n",
    "    runs_file , delay_stage = get_delay_stage_pos_from_txt_file(run_interval)\n",
    "    with h5py.File('intermediate_data/'+output_file_name+'.hdf5', \"w\") as f:\n",
    "        for i in range(run_interval[0], run_interval[1]+1):\n",
    "            print('Working on Run {} ...{}/{}'.format(i,(i-run_interval[0])+1,(run_interval[1]+1-run_interval[0])))\n",
    "            try:\n",
    "                hdf_file = generate_hdf_file_name(i)\n",
    "                number_of_trains = number_of_trains_from_hdf(hdf_file)\n",
    "                run_hdfgroup = f.create_group(\"Run {}\".format(i))\n",
    "                run_hdfgroup.create_dataset('number_of_trains', data = number_of_trains)\n",
    "                run_hdfgroup.create_dataset('delay_stage', data = delay_stage[i-run_interval[0]])\n",
    "                for i in range(len(fragment_list)):             \n",
    "                    tof, x_pos, y_pos = data_sliced_by_fragment(hdf_file, fragment_list[i], event_type = timepix_event_type)\n",
    "                    radial_average = transform_vmi_to_polar(x_pos, y_pos, fragment_list[i], show_images = False) \n",
    "                    fragment_hdfgroup = run_hdfgroup.create_group(\"{}\".format(fragment_list[i]))\n",
    "                    fragment_hdfgroup.create_dataset('radial_average', data = radial_average)\n",
    "            except:\n",
    "                pass\n"
   ]
  },
  {
   "cell_type": "code",
   "execution_count": 22,
   "metadata": {},
   "outputs": [],
   "source": [
    "timepix_event_type = 'raw'\n",
    "\n",
    "output_file_name = '266nm-515Volt' \n",
    "#run_interval = [526, 560]   # 1st 400nm scan on iodopyridine\n",
    "#run_interval = [563, 607]   #2nd 400nm scan on iodopyridine\n",
    "#run_interval = [610, 669]   #3rd 400nm scan on iodopyridine\n",
    "#run_interval = [526, 669]   #ALL! 400nm scan on iodopyridine\n",
    "#\n",
    "#run_interval = [702, 722]   #266nm with very low voltages \n",
    "#run_interval = [708, 714]   #266nm with normal voltages \n",
    "#\n",
    "run_interval = [725, 748]\n",
    "\n",
    "#fragment_list = ['H+','N+','I+','I2+','I3+','I4+','I6+','parent-I+']\n",
    "fragment_list = ['test_ion','test_ion2'] #used for very low voltages I2+ and I3+"
   ]
  },
  {
   "cell_type": "code",
   "execution_count": 23,
   "metadata": {},
   "outputs": [
    {
     "name": "stdout",
     "output_type": "stream",
     "text": [
      "Working on Run 725 ...1/24\n",
      "Number of raw events in the file: 3.400E+06\n",
      "Number of FEL pulses in the file: 2.942E+03\n",
      "Number of raw events in the file: 3.400E+06\n",
      "Number of FEL pulses in the file: 2.942E+03\n",
      "Working on Run 726 ...2/24\n",
      "Number of raw events in the file: 3.489E+06\n",
      "Number of FEL pulses in the file: 2.967E+03\n",
      "Number of raw events in the file: 3.489E+06\n",
      "Number of FEL pulses in the file: 2.967E+03\n",
      "Working on Run 727 ...3/24\n",
      "Number of raw events in the file: 3.357E+06\n",
      "Number of FEL pulses in the file: 2.949E+03\n",
      "Number of raw events in the file: 3.357E+06\n",
      "Number of FEL pulses in the file: 2.949E+03\n",
      "Working on Run 728 ...4/24\n",
      "Number of raw events in the file: 3.566E+06\n",
      "Number of FEL pulses in the file: 2.976E+03\n",
      "Number of raw events in the file: 3.566E+06\n",
      "Number of FEL pulses in the file: 2.976E+03\n",
      "Working on Run 729 ...5/24\n",
      "Number of raw events in the file: 3.368E+06\n",
      "Number of FEL pulses in the file: 2.952E+03\n",
      "Number of raw events in the file: 3.368E+06\n",
      "Number of FEL pulses in the file: 2.952E+03\n",
      "Working on Run 730 ...6/24\n",
      "Number of raw events in the file: 3.383E+06\n",
      "Number of FEL pulses in the file: 2.951E+03\n",
      "Number of raw events in the file: 3.383E+06\n",
      "Number of FEL pulses in the file: 2.951E+03\n",
      "Working on Run 731 ...7/24\n",
      "Number of raw events in the file: 3.418E+06\n",
      "Number of FEL pulses in the file: 2.950E+03\n",
      "Number of raw events in the file: 3.418E+06\n",
      "Number of FEL pulses in the file: 2.950E+03\n",
      "Working on Run 732 ...8/24\n",
      "Number of raw events in the file: 3.431E+06\n",
      "Number of FEL pulses in the file: 2.949E+03\n",
      "Number of raw events in the file: 3.431E+06\n",
      "Number of FEL pulses in the file: 2.949E+03\n",
      "Working on Run 733 ...9/24\n",
      "Number of raw events in the file: 3.445E+06\n",
      "Number of FEL pulses in the file: 2.945E+03\n",
      "Number of raw events in the file: 3.445E+06\n",
      "Number of FEL pulses in the file: 2.945E+03\n",
      "Working on Run 734 ...10/24\n",
      "Number of raw events in the file: 3.449E+06\n",
      "Number of FEL pulses in the file: 2.948E+03\n",
      "Number of raw events in the file: 3.449E+06\n",
      "Number of FEL pulses in the file: 2.948E+03\n",
      "Working on Run 735 ...11/24\n",
      "Number of raw events in the file: 3.457E+06\n",
      "Number of FEL pulses in the file: 2.953E+03\n",
      "Number of raw events in the file: 3.457E+06\n",
      "Number of FEL pulses in the file: 2.953E+03\n",
      "Working on Run 736 ...12/24\n",
      "Number of raw events in the file: 3.466E+06\n",
      "Number of FEL pulses in the file: 2.963E+03\n",
      "Number of raw events in the file: 3.466E+06\n",
      "Number of FEL pulses in the file: 2.963E+03\n",
      "Working on Run 737 ...13/24\n",
      "Number of raw events in the file: 3.408E+06\n",
      "Number of FEL pulses in the file: 2.943E+03\n",
      "Number of raw events in the file: 3.408E+06\n",
      "Number of FEL pulses in the file: 2.943E+03\n",
      "Working on Run 738 ...14/24\n",
      "Number of raw events in the file: 3.918E+06\n",
      "Number of FEL pulses in the file: 3.444E+03\n",
      "Number of raw events in the file: 3.918E+06\n",
      "Number of FEL pulses in the file: 3.444E+03\n",
      "Working on Run 739 ...15/24\n",
      "Number of raw events in the file: 3.397E+06\n",
      "Number of FEL pulses in the file: 2.948E+03\n",
      "Number of raw events in the file: 3.397E+06\n",
      "Number of FEL pulses in the file: 2.948E+03\n",
      "Working on Run 740 ...16/24\n",
      "Number of raw events in the file: 3.474E+06\n",
      "Number of FEL pulses in the file: 3.047E+03\n",
      "Number of raw events in the file: 3.474E+06\n",
      "Number of FEL pulses in the file: 3.047E+03\n",
      "Working on Run 741 ...17/24\n",
      "Number of raw events in the file: 3.497E+06\n",
      "Number of FEL pulses in the file: 3.070E+03\n",
      "Number of raw events in the file: 3.497E+06\n",
      "Number of FEL pulses in the file: 3.070E+03\n",
      "Working on Run 742 ...18/24\n",
      "Number of raw events in the file: 3.477E+06\n",
      "Number of FEL pulses in the file: 2.996E+03\n",
      "Number of raw events in the file: 3.477E+06\n",
      "Number of FEL pulses in the file: 2.996E+03\n",
      "Working on Run 743 ...19/24\n",
      "Number of raw events in the file: 3.303E+06\n",
      "Number of FEL pulses in the file: 2.983E+03\n",
      "Number of raw events in the file: 3.303E+06\n",
      "Number of FEL pulses in the file: 2.983E+03\n",
      "Working on Run 744 ...20/24\n",
      "Number of raw events in the file: 3.293E+06\n",
      "Number of FEL pulses in the file: 2.967E+03\n",
      "Number of raw events in the file: 3.293E+06\n",
      "Number of FEL pulses in the file: 2.967E+03\n",
      "Working on Run 745 ...21/24\n",
      "Number of raw events in the file: 3.316E+06\n",
      "Number of FEL pulses in the file: 2.958E+03\n",
      "Number of raw events in the file: 3.316E+06\n",
      "Number of FEL pulses in the file: 2.958E+03\n",
      "Working on Run 746 ...22/24\n",
      "Number of raw events in the file: 3.347E+06\n",
      "Number of FEL pulses in the file: 2.949E+03\n",
      "Number of raw events in the file: 3.347E+06\n",
      "Number of FEL pulses in the file: 2.949E+03\n",
      "Working on Run 747 ...23/24\n",
      "Number of raw events in the file: 3.296E+06\n",
      "Number of FEL pulses in the file: 2.947E+03\n",
      "Number of raw events in the file: 3.296E+06\n",
      "Number of FEL pulses in the file: 2.947E+03\n",
      "Working on Run 748 ...24/24\n",
      "Number of raw events in the file: 8.360E+06\n",
      "Number of FEL pulses in the file: 7.422E+03\n",
      "Number of raw events in the file: 8.360E+06\n",
      "Number of FEL pulses in the file: 7.422E+03\n"
     ]
    }
   ],
   "source": [
    "save_all_delay_for_fragment_list(output_file_name, run_interval, fragment_list , timepix_event_type)"
   ]
  },
  {
   "cell_type": "code",
   "execution_count": null,
   "metadata": {},
   "outputs": [],
   "source": []
  }
 ],
 "metadata": {
  "kernelspec": {
   "display_name": "Python 3",
   "language": "python",
   "name": "python3"
  },
  "language_info": {
   "codemirror_mode": {
    "name": "ipython",
    "version": 3
   },
   "file_extension": ".py",
   "mimetype": "text/x-python",
   "name": "python",
   "nbconvert_exporter": "python",
   "pygments_lexer": "ipython3",
   "version": "3.7.3"
  }
 },
 "nbformat": 4,
 "nbformat_minor": 4
}
