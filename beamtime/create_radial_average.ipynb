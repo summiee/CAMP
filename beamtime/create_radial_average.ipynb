{
 "cells": [
  {
   "cell_type": "markdown",
   "metadata": {},
   "source": [
    "# Create radial averages for pump-probe heatmap"
   ]
  },
  {
   "cell_type": "code",
   "execution_count": null,
   "metadata": {},
   "outputs": [],
   "source": [
    "%pylab qt"
   ]
  },
  {
   "cell_type": "markdown",
   "metadata": {},
   "source": [
    "### Imports and utility functions"
   ]
  },
  {
   "cell_type": "code",
   "execution_count": null,
   "metadata": {},
   "outputs": [],
   "source": [
    "from src.timepix_utils import *\n",
    "import src.timepix_utils as timepix_utils\n",
    "\n",
    "timepix_utils.file_system = 'core'"
   ]
  },
  {
   "cell_type": "markdown",
   "metadata": {},
   "source": [
    "### Define source file & describe measurment"
   ]
  },
  {
   "cell_type": "code",
   "execution_count": null,
   "metadata": {},
   "outputs": [],
   "source": [
    "run_number = 535\n",
    "timepix_event_type = 'raw'\n",
    "\n",
    "hdf_file_name = generate_hdf_file_name(run_number)\n",
    "\n",
    "tof_start = 0E-6\n",
    "tof_end = 10E-6"
   ]
  },
  {
   "cell_type": "markdown",
   "metadata": {},
   "source": [
    "### Complete time-of-flight"
   ]
  },
  {
   "cell_type": "code",
   "execution_count": null,
   "metadata": {},
   "outputs": [],
   "source": [
    "tof, x_pos, y_pos = data_sliced_by_tof(hdf_file_name, tof_start , tof_end, event_type = timepix_event_type)\n",
    "plot_tof(tof, tof_start, tof_end,  hist_bins = 1000, time_unit = 'micro');"
   ]
  },
  {
   "cell_type": "markdown",
   "metadata": {},
   "source": [
    "### Slice time-of-flight dimension and create VMI image"
   ]
  },
  {
   "cell_type": "code",
   "execution_count": null,
   "metadata": {},
   "outputs": [],
   "source": [
    "fragment = 'test_ion'\n",
    "\n",
    "display_tof_and_vmi_of_tof_interval(hdf_file_name, fragment, event_type = timepix_event_type,time_unit = 'micro')"
   ]
  },
  {
   "cell_type": "markdown",
   "metadata": {},
   "source": [
    "### Chose center and calc radial average"
   ]
  },
  {
   "cell_type": "code",
   "execution_count": null,
   "metadata": {},
   "outputs": [],
   "source": [
    "tof, x_pos, y_pos = data_sliced_by_fragment(hdf_file_name, fragment)"
   ]
  },
  {
   "cell_type": "code",
   "execution_count": null,
   "metadata": {},
   "outputs": [],
   "source": [
    "radius_assisting_circle = 45\n",
    "\n",
    "transform_vmi_to_polar(x_pos, y_pos, fragment, radius_assisting_circle);"
   ]
  },
  {
   "cell_type": "markdown",
   "metadata": {},
   "source": [
    "## Save to intermediate results "
   ]
  },
  {
   "cell_type": "code",
   "execution_count": null,
   "metadata": {},
   "outputs": [],
   "source": [
    "def save_all_delay_for_fragment_list(output_file_name, run_interval, fragment_list, timepix_event_type):\n",
    "    runs_file , delay_stage = get_delay_stage_pos_from_txt_file(run_interval)\n",
    "    with h5py.File('intermediate_data/'+output_file_name+'.hdf5', \"w\") as f:\n",
    "        for i in range(run_interval[0], run_interval[1]+1):\n",
    "            print('Working on Run {} ...{}/{}'.format(i,(i-run_interval[0])+1,(run_interval[1]+1-run_interval[0])))\n",
    "            try:\n",
    "                hdf_file = generate_hdf_file_name(i)\n",
    "                number_of_trains = number_of_trains_from_hdf(hdf_file)\n",
    "                run_hdfgroup = f.create_group(\"Run {}\".format(i))\n",
    "                run_hdfgroup.create_dataset('number_of_trains', data = number_of_trains)\n",
    "                run_hdfgroup.create_dataset('delay_stage', data = delay_stage[i-run_interval[0]])\n",
    "                for i in range(len(fragment_list)):             \n",
    "                    tof, x_pos, y_pos = data_sliced_by_fragment(hdf_file, fragment_list[i], event_type = timepix_event_type)\n",
    "                    radial_average = transform_vmi_to_polar(x_pos, y_pos, fragment_list[i], show_images = False) \n",
    "                    fragment_hdfgroup = run_hdfgroup.create_group(\"{}\".format(fragment_list[i]))\n",
    "                    fragment_hdfgroup.create_dataset('radial_average', data = radial_average)\n",
    "            except:\n",
    "                pass\n"
   ]
  },
  {
   "cell_type": "code",
   "execution_count": null,
   "metadata": {},
   "outputs": [],
   "source": [
    "timepix_event_type = 'raw'\n",
    "\n",
    "output_file_name = 'test' \n",
    "run_interval = [600, 603]\n",
    "\n",
    "fragment_list = ['test_ion','test_ion2']"
   ]
  },
  {
   "cell_type": "code",
   "execution_count": null,
   "metadata": {},
   "outputs": [],
   "source": [
    "save_all_delay_for_fragment_list(output_file_name, run_interval, fragment_list , timepix_event_type)"
   ]
  },
  {
   "cell_type": "code",
   "execution_count": null,
   "metadata": {},
   "outputs": [],
   "source": []
  }
 ],
 "metadata": {
  "kernelspec": {
   "display_name": "Python 3",
   "language": "python",
   "name": "python3"
  },
  "language_info": {
   "codemirror_mode": {
    "name": "ipython",
    "version": 3
   },
   "file_extension": ".py",
   "mimetype": "text/x-python",
   "name": "python",
   "nbconvert_exporter": "python",
   "pygments_lexer": "ipython3",
   "version": "3.7.3"
  }
 },
 "nbformat": 4,
 "nbformat_minor": 4
}
