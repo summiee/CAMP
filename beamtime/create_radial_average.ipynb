{
 "cells": [
  {
   "cell_type": "markdown",
   "metadata": {},
   "source": [
    "# Create radial averages for pump-probe heatmap"
   ]
  },
  {
   "cell_type": "code",
   "execution_count": null,
   "metadata": {},
   "outputs": [],
   "source": [
    "%pylab qt"
   ]
  },
  {
   "cell_type": "code",
   "execution_count": null,
   "metadata": {},
   "outputs": [],
   "source": [
    "import numpy as np  \n",
    "import matplotlib.pyplot as plt\n",
    "import matplotlib.cm as cm\n",
    "import h5py\n",
    "import os\n",
    "import src.pyabel_polar\n",
    "import scipy"
   ]
  },
  {
   "cell_type": "markdown",
   "metadata": {},
   "source": [
    "#### Utility functions"
   ]
  },
  {
   "cell_type": "code",
   "execution_count": null,
   "metadata": {},
   "outputs": [],
   "source": [
    "def generate_hdf_file_name(run_number):\n",
    "    try:\n",
    "        hdf_file_path = '/gpfs/bl1/current/processed/timepix_hdf/'\n",
    "        file_start = \"run_\"+str(run_number).zfill(4)\n",
    "        not_file_end = 'rawOnly.hdf5'\n",
    "        hdf_file = [i for i in os.listdir(hdf_file_path) if os.path.isfile(os.path.join(hdf_file_path,i)) and i.startswith(file_start) and not i.endswith(not_file_end)][0]\n",
    "        hdf_file_complete_path = hdf_file_path+hdf_file\n",
    "        assert os.path.isfile(hdf_file_complete_path), 'File does not exist!'\n",
    "        return hdf_file_complete_path\n",
    "    except IndexError:\n",
    "        print(\"Run\",run_number,\"do not exist!\")\n",
    "\n",
    "def number_of_trains_from_hdf(hdf_file_complete_path):\n",
    "    '''Retrun number of recorded FEL trains in HDF file'''\n",
    "    with h5py.File(hdf_file_complete_path, 'r') as h_file:\n",
    "        trains = len(h_file['tpx3Times/triggerNr'][:])\n",
    "    return trains\n",
    "\n",
    "def data_from_hdf(hdf_file_complete_path, event_type = 'raw'):\n",
    "    '''Read data from TimePix HDF files\n",
    "    Choose raw or centroided data, default is centroided data'''\n",
    "    with h5py.File(hdf_file_complete_path, 'r') as h_file:\n",
    "        tof = h_file[str(event_type)+'/tof'][:]\n",
    "        x_pos = h_file[str(event_type)+'/x'][:]\n",
    "        y_pos = h_file[str(event_type)+'/y'][:]\n",
    "    number_of_trains_from_hdf(hdf_file_complete_path)\n",
    "    return tof, x_pos, y_pos\n",
    "\n",
    "def data_sliced_by_tof(hdf_file_complete_path, tof_start = 0 , tof_end = 0.1, event_type = 'raw'):\n",
    "    '''Slice data with respect to time-of-flight dimension'''\n",
    "    tof, x_pos, y_pos = data_from_hdf(hdf_file_complete_path, event_type)\n",
    "    sliced_x_pos = x_pos[np.logical_and(tof > tof_start, tof < tof_end)]\n",
    "    sliced_y_pos = y_pos[np.logical_and(tof > tof_start, tof < tof_end)]\n",
    "    sliced_tof = tof[np.logical_and(tof > tof_start, tof < tof_end)]\n",
    "    return sliced_tof, sliced_x_pos, sliced_y_pos\n",
    "\n",
    "def reduce_raw_data(tof, x_pos, y_pos, number_of_events):\n",
    "    '''Reduce data for visualization'''\n",
    "    return tof[:number_of_events], x_pos[:number_of_events],y_pos[:number_of_events]\n",
    "\n",
    "def tof_conversion(tof, time_unit):\n",
    "    '''Convert time axis'''\n",
    "    if time_unit == None:\n",
    "        return tof, 's'\n",
    "    if time_unit == 'milli':\n",
    "        return tof*10**3, 'ms'\n",
    "    if time_unit == 'micro':\n",
    "        return tof*10**6, 'us'\n",
    "\n",
    "def plot_tof(tof, tof_start, tof_end, hist_bins = 100, time_unit = None):     \n",
    "    '''Plot time-of-flight spectrum via histogram'''\n",
    "    fig = plt.subplots(num = 1)\n",
    "    plt.clf()\n",
    "    tof, time_tof_unit = tof_conversion(tof, time_unit)\n",
    "    tof_start,time_tof_unit= tof_conversion(tof_start, time_unit)\n",
    "    tof_end, time_tof_unit= tof_conversion(tof_end, time_unit)\n",
    "    hist_y, hist_x = np.histogram(tof, range = (tof_start, tof_end), bins = hist_bins)\n",
    "    hist_y = np.append(hist_y, 0)\n",
    "    plt.plot(hist_x, hist_y)\n",
    "    plt.title('histogram: time-of-flight')\n",
    "    plt.xlabel('ToF [{}]'.format(time_tof_unit))\n",
    "    plt.ylabel('number of events')\n",
    "    plt.show()\n",
    "    return hist_y, hist_x\n",
    "    \n",
    "def vmi_image(x_pos, y_pos, show_image = True):\n",
    "    '''Display VMI image - cmax empirically found to surpress hot pixel '''\n",
    "    fig = plt.figure(num = 6)\n",
    "    plt.clf()\n",
    "    counts, xbins, ybins, image = plt.hist2d(x_pos, y_pos,bins=np.linspace(0, 256, 257)) #, cmax= 1000)\n",
    "    plt.colorbar()\n",
    "    plt.xlabel('x_pos [px]')\n",
    "    plt.ylabel('y_pos [px]')\n",
    "    if show_image == False:\n",
    "        plt.close()\n",
    "    return counts\n",
    "    \n",
    "def display_tof_and_vmi_of_tof_interval(hdf_file_complete_path, tof_start = 0 , tof_end = 0.1, hist_bins = 100, time_unit = None, event_type = 'raw'):\n",
    "    '''Display VMI Image and time-of-flight spetrum'''\n",
    "    tof, x_pos, y_pos = data_sliced_by_tof(hdf_file_complete_path, tof_start, tof_end, event_type)\n",
    "    plot_tof(tof, tof_start, tof_end, hist_bins, time_unit)\n",
    "    vmi_image(x_pos,y_pos)\n",
    "\n",
    "    \n",
    "def transform_vmi_to_polar(x_pos, y_pos, x_center, y_center, radius, non_plot = False):\n",
    "    \n",
    "    counts = vmi_image(x_pos, y_pos, show_image = False)\n",
    "    image_cart = np.flipud(counts.transpose())\n",
    "    \n",
    "    image_polar, r_grid, theta_grid = src.pyabel_polar.reproject_image_into_polar(image_cart, origin=(x_center,y_center))\n",
    "    radial_ave = np.sum(image_polar, axis=1)\n",
    "    \n",
    "    if non_plot == False:\n",
    "        fig = plt.figure(figsize = (10,10),num = 6)\n",
    "        plt.clf()\n",
    "        plt.imshow(image_cart)\n",
    "        plt.scatter(x_center, y_center, color='r')\n",
    "        plt.gcf().gca().add_artist(plt.Circle((x_center, y_center), radius, color='r', fill=False))\n",
    "        plt.xlabel('x_posr [px]')\n",
    "        plt.ylabel('y_posr [px]')\n",
    "        plt.title('VMI image')\n",
    "\n",
    "        fig = plt.figure(num = 7)\n",
    "        plt.clf()\n",
    "        plt.plot(radial_ave,'r-')\n",
    "        plt.title('Radial average')\n",
    "        plt.xlabel('r [px]')\n",
    "        plt.ylabel('counts')\n",
    "        plt.show()\n",
    "    \n",
    "    return radial_ave\n",
    "\n",
    "def get_delay_stage_pos_from_txt_file(run_interval):\n",
    "    runs = []\n",
    "    delay_pos = []\n",
    "    filepath = '/home/bl1user/Desktop/erk20919/CAMP/beamtime/run_pp-delay.txt'\n",
    "    with open(filepath) as fp:\n",
    "        for cnt, line in enumerate(fp):\n",
    "            tt = [x.strip() for x in line.split(',')]\n",
    "            runs.append(int(tt[0]))\n",
    "            delay_pos.append(float(tt[1]))\n",
    "    delay_pos = delay_pos[runs.index(run_interval[0]):runs.index(run_interval[1])+1]\n",
    "    runs = runs[runs.index(run_interval[0]):runs.index(run_interval[1])+1]\n",
    "    return runs, delay_pos\n",
    "\n",
    "def save_all_delay_for_fragment(file_prefix, fragment ,run_interval, tof_start,tof_end, x_center, y_center, radius, timepix_event_type):\n",
    "    runs_file , delay_stage = get_delay_stage_pos_from_txt_file(run_interval)\n",
    "    for i in range(run_interval[0], run_interval[1]+1):\n",
    "        print('Working on ...{}/{}'.format((i-run_interval[0])+1,(run_interval[1]+1-run_interval[0])))\n",
    "        hdf_file = generate_hdf_file_name(i)\n",
    "        tof, x_pos, y_pos = data_sliced_by_tof(hdf_file, tof_start , tof_end, event_type = timepix_event_type)\n",
    "        radial_average = transform_vmi_to_polar(x_pos, y_pos, x_center, y_center, radius, non_plot = True) \n",
    "        number_of_trains = number_of_trains_from_hdf(hdf_file)\n",
    "        \n",
    "        save_to_path = 'intermediate_data/'\n",
    "        save_file_name = str(file_prefix)+\"_\"+str(fragment)+\"_\"+str(delay_stage[i-run_interval[0]])+\"_Run\"+str(i)\n",
    "        np.savez(save_to_path+save_file_name, radial_average=radial_average, fragment= fragment, delay_stage = delay_stage[i-run_interval[0]], number_of_trains = number_of_trains, run = i)\n"
   ]
  },
  {
   "cell_type": "markdown",
   "metadata": {},
   "source": [
    "### Define source file & describe measurment"
   ]
  },
  {
   "cell_type": "code",
   "execution_count": null,
   "metadata": {},
   "outputs": [],
   "source": [
    "run_number = 364\n",
    "timepix_event_type = 'raw'\n",
    "\n",
    "hdf_file = generate_hdf_file_name(run_number)\n",
    "\n",
    "tof_start = 1.5E-6\n",
    "#tof_end = 12E-6\n",
    "tof_end = 10E-6"
   ]
  },
  {
   "cell_type": "markdown",
   "metadata": {},
   "source": [
    "### Complete time-of-flight"
   ]
  },
  {
   "cell_type": "code",
   "execution_count": null,
   "metadata": {},
   "outputs": [],
   "source": [
    "tof, x_pos, y_pos = data_sliced_by_tof(hdf_file, tof_start , tof_end, event_type = timepix_event_type)\n",
    "plot_tof(tof, tof_start, tof_end,  hist_bins = 1000, time_unit = 'micro');"
   ]
  },
  {
   "cell_type": "markdown",
   "metadata": {},
   "source": [
    "### Slice time-of-flight dimension and create VMI image"
   ]
  },
  {
   "cell_type": "code",
   "execution_count": null,
   "metadata": {},
   "outputs": [],
   "source": [
    "# I2+ \n",
    "# tof_start, tof_end = 7.60E-6, 8.01E-6\n",
    "\n",
    "# I3+ \n",
    "# tof_start, tof_end = 6.4E-6, 6.7E-6\n",
    "\n",
    "# I4+ \n",
    "# tof_start, tof_end = 5.75E-6, 5.95E-6\n",
    "\n",
    "# I5+ \n",
    "# tof_start, tof_end = 5.2E-6, 5.4E-6\n",
    "\n",
    "# I6+ \n",
    "#tof_start, tof_end = 4.87E-6, 4.98E-6\n",
    "\n",
    "# I6+ zoomed (half voltages)\n",
    "#tof_start, tof_end = 6.4E-6, 6.7E-6\n",
    "\n",
    "# I6+ (double voltages)\n",
    "tof_start, tof_end = 3.71E-6, 3.85E-6\n",
    "\n",
    "\n",
    "display_tof_and_vmi_of_tof_interval(hdf_file, tof_start, tof_end, event_type = timepix_event_type, time_unit = 'micro')"
   ]
  },
  {
   "cell_type": "markdown",
   "metadata": {},
   "source": [
    "### Chose center and calc radial average"
   ]
  },
  {
   "cell_type": "code",
   "execution_count": null,
   "metadata": {},
   "outputs": [],
   "source": [
    "tof, x_pos, y_pos = data_sliced_by_tof(hdf_file, tof_start , tof_end, event_type = timepix_event_type)"
   ]
  },
  {
   "cell_type": "code",
   "execution_count": null,
   "metadata": {},
   "outputs": [],
   "source": [
    "# fragment = 'I2+'\n",
    "# x_center, y_center = 134, 118        \n",
    "# radius = 80\n",
    "\n",
    "# fragment = 'I3+'      \n",
    "# x_center, y_center = 131, 127          \n",
    "# radius = 18\n",
    "\n",
    "# fragment = 'I4+'\n",
    "# x_center, y_center = 131, 127          \n",
    "# radius = 18\n",
    "\n",
    "# fragment = 'I5+'\n",
    "# x_center, y_center = 131, 127          \n",
    "# radius = 18\n",
    "\n",
    "fragment = 'I6+'\n",
    "x_center, y_center = 135, 256-110   # center with double voltages and Helium jet offset\n",
    "#x_center, y_center = 135, 256-119   # new center with corrected coordinate system?\n",
    "#x_center, y_center = 135, 110        \n",
    "#x_center, y_center = 135, 119\n",
    "radius = 30\n",
    "\n",
    "radial_average = transform_vmi_to_polar(x_pos, y_pos, x_center, y_center, radius)"
   ]
  },
  {
   "cell_type": "markdown",
   "metadata": {},
   "source": [
    "## Save to intermediate results "
   ]
  },
  {
   "cell_type": "code",
   "execution_count": null,
   "metadata": {},
   "outputs": [],
   "source": [
    "file_prefix = '800nm_Iodopyridine_I6p' \n",
    "#run_interval = [201, 203]\n",
    "#run_interval = [359, 361] # 362 is missing!\n",
    "run_interval = [369, 372]"
   ]
  },
  {
   "cell_type": "code",
   "execution_count": null,
   "metadata": {},
   "outputs": [],
   "source": [
    "save_all_delay_for_fragment(file_prefix, fragment ,run_interval, tof_start, tof_end, x_center, y_center, radius, timepix_event_type)"
   ]
  },
  {
   "cell_type": "code",
   "execution_count": null,
   "metadata": {},
   "outputs": [],
   "source": []
  },
  {
   "cell_type": "code",
   "execution_count": null,
   "metadata": {},
   "outputs": [],
   "source": []
  },
  {
   "cell_type": "code",
   "execution_count": null,
   "metadata": {},
   "outputs": [],
   "source": [
    "tof_start = 0E-6\n",
    "tof_end = 14E-6\n",
    "\n",
    "run_number1 = 201\n",
    "timepix_event_type = 'raw'\n",
    "hdf_file = generate_hdf_file_name(run_number1)\n",
    "tof, x_pos, y_pos = data_sliced_by_tof(hdf_file, tof_start , tof_end, event_type = timepix_event_type)\n",
    "tt1, tt11 = plot_tof(tof, tof_start, tof_end,  hist_bins = 500, time_unit = 'micro')\n",
    "tt1 = tt1 / number_of_trains_from_hdf(hdf_file)\n",
    "tt1 = np.append(tt1, 0)\n",
    "\n",
    "run_number2 = 252\n",
    "timepix_event_type = 'raw'\n",
    "hdf_file = generate_hdf_file_name(run_number2)\n",
    "tof, x_pos, y_pos = data_sliced_by_tof(hdf_file, tof_start , tof_end, event_type = timepix_event_type)\n",
    "tt2, tt22 = plot_tof(tof, tof_start, tof_end,  hist_bins = 500, time_unit = 'micro')\n",
    "tt2 = tt2 / number_of_trains_from_hdf(hdf_file)\n",
    "tt2 = np.append(tt2, 0)\n",
    "\n",
    "run_number3 = 281\n",
    "timepix_event_type = 'raw'\n",
    "hdf_file = generate_hdf_file_name(run_number3)\n",
    "tof, x_pos, y_pos = data_sliced_by_tof(hdf_file, tof_start , tof_end, event_type = timepix_event_type)\n",
    "tt3, tt33 = plot_tof(tof, tof_start, tof_end,  hist_bins = 500, time_unit = 'micro')\n",
    "tt3 = tt3 / number_of_trains_from_hdf(hdf_file)\n",
    "tt3 = np.append(tt3, 0)\n",
    "\n",
    "run_number4 = 283\n",
    "timepix_event_type = 'raw'\n",
    "hdf_file = generate_hdf_file_name(run_number4)\n",
    "tof, x_pos, y_pos = data_sliced_by_tof(hdf_file, tof_start , tof_end, event_type = timepix_event_type)\n",
    "tt4, tt44 = plot_tof(tof, tof_start, tof_end,  hist_bins = 500, time_unit = 'micro')\n",
    "tt4 = tt4 / number_of_trains_from_hdf(hdf_file)\n",
    "tt4 = np.append(tt4, 0)\n",
    "\n",
    "plt.clf()\n",
    "plt.plot(tt11, tt1,'b', label = run_number1)\n",
    "plt.plot(tt22, tt2,'r', label = run_number2)\n",
    "plt.plot(tt33, tt3,'k', label = run_number3)\n",
    "plt.plot(tt44, tt4,'k', label = run_number4)\n",
    "plt.xlabel('ToF[mu s]')\n",
    "plt.legend()"
   ]
  },
  {
   "cell_type": "code",
   "execution_count": null,
   "metadata": {},
   "outputs": [],
   "source": [
    "plt.clf()\n",
    "plt.plot(tt11, tt1,'b', label = run_number1)\n",
    "plt.plot(tt22, tt2,'r', label = run_number2)\n",
    "plt.plot(tt33, tt3,'k', label = run_number3)\n",
    "# plt.plot(tt44, tt4,'g', label = run_number4)\n",
    "plt.xlabel('ToF[mu s]')\n",
    "plt.legend()"
   ]
  },
  {
   "cell_type": "code",
   "execution_count": null,
   "metadata": {},
   "outputs": [],
   "source": []
  },
  {
   "cell_type": "code",
   "execution_count": null,
   "metadata": {},
   "outputs": [],
   "source": [
    "### 2nd fragment"
   ]
  },
  {
   "cell_type": "markdown",
   "metadata": {},
   "source": [
    "### Slice time-of-flight dimension and create VMI image"
   ]
  },
  {
   "cell_type": "code",
   "execution_count": null,
   "metadata": {},
   "outputs": [],
   "source": [
    "# N+ Iodopyridine (double voltages)\n",
    "#tof_start, tof_end = 3.35E-6, 3.50E-6\n",
    "\n",
    "# I2+ Iodopyridine (double voltages)\n",
    "tof_start, tof_end = 5.67E-6, 6.010E-6\n",
    "\n",
    "\n",
    "display_tof_and_vmi_of_tof_interval(hdf_file, tof_start, tof_end, event_type = timepix_event_type, time_unit = 'micro')"
   ]
  },
  {
   "cell_type": "markdown",
   "metadata": {},
   "source": [
    "### Chose center and calc radial average"
   ]
  },
  {
   "cell_type": "code",
   "execution_count": null,
   "metadata": {},
   "outputs": [],
   "source": [
    "tof, x_pos, y_pos = data_sliced_by_tof(hdf_file, tof_start , tof_end, event_type = timepix_event_type)"
   ]
  },
  {
   "cell_type": "code",
   "execution_count": null,
   "metadata": {},
   "outputs": [],
   "source": [
    "fragment = 'I2+'\n",
    "x_center, y_center = 135, 256-98   # N+ center with double voltages and Helium jet offset\n",
    "#x_center, y_center = 135, 98        \n",
    "radius = 30\n",
    "\n",
    "#fragment = 'N+'\n",
    "#x_center, y_center = 135, 256-115   # N+ center with double voltages and Helium jet offset\n",
    "#x_center, y_center = 135, 115        \n",
    "#radius = 30\n",
    "\n",
    "radial_average = transform_vmi_to_polar(x_pos, y_pos, x_center, y_center, radius)"
   ]
  },
  {
   "cell_type": "markdown",
   "metadata": {},
   "source": [
    "## Save to intermediate results "
   ]
  },
  {
   "cell_type": "code",
   "execution_count": null,
   "metadata": {},
   "outputs": [],
   "source": [
    "file_prefix = '800nm_Iodopyridine_I2p' \n",
    "#run_interval = [359, 361] # 362 is missing!\n",
    "run_interval = [363, 372]"
   ]
  },
  {
   "cell_type": "code",
   "execution_count": null,
   "metadata": {},
   "outputs": [],
   "source": [
    "save_all_delay_for_fragment(file_prefix, fragment ,run_interval, tof_start, tof_end, x_center, y_center, radius, timepix_event_type)"
   ]
  },
  {
   "cell_type": "code",
   "execution_count": null,
   "metadata": {},
   "outputs": [],
   "source": []
  }
 ],
 "metadata": {
  "kernelspec": {
   "display_name": "Python 3",
   "language": "python",
   "name": "python3"
  },
  "language_info": {
   "codemirror_mode": {
    "name": "ipython",
    "version": 3
   },
   "file_extension": ".py",
   "mimetype": "text/x-python",
   "name": "python",
   "nbconvert_exporter": "python",
   "pygments_lexer": "ipython3",
   "version": "3.7.3"
  }
 },
 "nbformat": 4,
 "nbformat_minor": 4
}
