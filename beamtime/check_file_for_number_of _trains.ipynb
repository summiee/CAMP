{
 "cells": [
  {
   "cell_type": "markdown",
   "metadata": {},
   "source": [
    "# Check Number of FEL trains (single bunch) in TimePix HDF5 files"
   ]
  },
  {
   "cell_type": "code",
   "execution_count": 1,
   "metadata": {},
   "outputs": [
    {
     "name": "stdout",
     "output_type": "stream",
     "text": [
      "Populating the interactive namespace from numpy and matplotlib\n"
     ]
    }
   ],
   "source": [
    "%pylab qt"
   ]
  },
  {
   "cell_type": "markdown",
   "metadata": {},
   "source": [
    "#### Imports and utility functions"
   ]
  },
  {
   "cell_type": "code",
   "execution_count": 5,
   "metadata": {},
   "outputs": [],
   "source": [
    "from src.timepix_utils import *\n",
    "import src.timepix_utils as timepix_utils\n",
    "\n",
    "timepix_utils.file_system = 'beamline'"
   ]
  },
  {
   "cell_type": "markdown",
   "metadata": {},
   "source": [
    "### Interval of runs"
   ]
  },
  {
   "cell_type": "code",
   "execution_count": 28,
   "metadata": {},
   "outputs": [],
   "source": [
    "#run_interval = [526, 560]   # 1st 400nm scan on iodopyridine\n",
    "#run_interval = [563, 607]   # 2nd 400nm scan on iodopyridine\n",
    "#un_interval = [771, 820]\n",
    "run_interval = [808, 840]"
   ]
  },
  {
   "cell_type": "markdown",
   "metadata": {},
   "source": [
    "### List number of trains in runs"
   ]
  },
  {
   "cell_type": "code",
   "execution_count": 31,
   "metadata": {},
   "outputs": [
    {
     "name": "stdout",
     "output_type": "stream",
     "text": [
      "Run 837 do not exist!\n",
      "Run 838 do not exist!\n",
      "Run 839 do not exist!\n",
      "Run 840 do not exist!\n",
      "RunNumber: 808 | number of trains: 10074\n",
      "RunNumber: 809 | number of trains: 8850\n",
      "RunNumber: 810 | number of trains: 8837\n",
      "RunNumber: 811 | number of trains: 8844\n",
      "RunNumber: 812 | number of trains: 8841\n",
      "RunNumber: 813 | number of trains: 8897\n",
      "RunNumber: 814 | number of trains: 8829\n",
      "RunNumber: 815 | number of trains: 8831\n",
      "RunNumber: 816 | number of trains: 8836\n",
      "RunNumber: 817 | number of trains: 1354\n",
      "RunNumber: 818 | number of trains: 8841\n",
      "RunNumber: 819 | number of trains: 8829\n",
      "RunNumber: 820 | number of trains: 8826\n",
      "RunNumber: 821 | number of trains: 8842\n",
      "RunNumber: 822 | number of trains: 8813\n",
      "RunNumber: 823 | number of trains: 8828\n",
      "RunNumber: 824 | number of trains: 8829\n",
      "RunNumber: 825 | number of trains: 8821\n",
      "RunNumber: 826 | number of trains: 8823\n",
      "RunNumber: 827 | number of trains: 8840\n",
      "RunNumber: 828 | number of trains: 8827\n",
      "RunNumber: 829 | number of trains: 8831\n",
      "RunNumber: 830 | number of trains: 8824\n",
      "RunNumber: 831 | number of trains: 8948\n",
      "RunNumber: 832 | number of trains: 8892\n",
      "RunNumber: 833 | number of trains: 8829\n",
      "RunNumber: 834 | number of trains: 8845\n",
      "RunNumber: 835 | number of trains: 8850\n",
      "RunNumber: 836 | number of trains: 6063\n",
      "RunNumber: 837 | number of trains: 0\n",
      "RunNumber: 838 | number of trains: 0\n",
      "RunNumber: 839 | number of trains: 0\n",
      "RunNumber: 840 | number of trains: 0\n"
     ]
    }
   ],
   "source": [
    "list_number_of_trains_vs_run(run_interval)"
   ]
  },
  {
   "cell_type": "markdown",
   "metadata": {},
   "source": [
    "### Plot number of trains in runs"
   ]
  },
  {
   "cell_type": "code",
   "execution_count": null,
   "metadata": {},
   "outputs": [],
   "source": [
    "plot_number_of_trains_vs_run(run_interval)"
   ]
  },
  {
   "cell_type": "markdown",
   "metadata": {},
   "source": [
    "### List number of trains in delay steps"
   ]
  },
  {
   "cell_type": "code",
   "execution_count": null,
   "metadata": {},
   "outputs": [],
   "source": [
    "list_number_of_trains_vs_delay(run_interval)"
   ]
  },
  {
   "cell_type": "markdown",
   "metadata": {},
   "source": [
    "### List number of trains in delay steps"
   ]
  },
  {
   "cell_type": "code",
   "execution_count": null,
   "metadata": {},
   "outputs": [],
   "source": [
    "plot_number_of_trains_vs_delay(run_interval)\n"
   ]
  },
  {
   "cell_type": "code",
   "execution_count": null,
   "metadata": {},
   "outputs": [],
   "source": []
  }
 ],
 "metadata": {
  "kernelspec": {
   "display_name": "Python 3",
   "language": "python",
   "name": "python3"
  },
  "language_info": {
   "codemirror_mode": {
    "name": "ipython",
    "version": 3
   },
   "file_extension": ".py",
   "mimetype": "text/x-python",
   "name": "python",
   "nbconvert_exporter": "python",
   "pygments_lexer": "ipython3",
   "version": "3.7.3"
  }
 },
 "nbformat": 4,
 "nbformat_minor": 4
}
