{
 "cells": [
  {
   "cell_type": "markdown",
   "metadata": {},
   "source": [
    "# Check Number of FEL trains (single bunch) in TimePix HDF5 files"
   ]
  },
  {
   "cell_type": "code",
   "execution_count": 1,
   "metadata": {},
   "outputs": [
    {
     "name": "stdout",
     "output_type": "stream",
     "text": [
      "Populating the interactive namespace from numpy and matplotlib\n"
     ]
    }
   ],
   "source": [
    "%pylab qt"
   ]
  },
  {
   "cell_type": "markdown",
   "metadata": {},
   "source": [
    "#### Imports and utility functions"
   ]
  },
  {
   "cell_type": "code",
   "execution_count": 2,
   "metadata": {},
   "outputs": [],
   "source": [
    "from src.timepix_utils import *\n",
    "import src.timepix_utils as timepix_utils\n",
    "\n",
    "timepix_utils.file_system = 'core'"
   ]
  },
  {
   "cell_type": "markdown",
   "metadata": {},
   "source": [
    "### Interval of runs"
   ]
  },
  {
   "cell_type": "code",
   "execution_count": 3,
   "metadata": {},
   "outputs": [],
   "source": [
    "run_interval = [597, 605] "
   ]
  },
  {
   "cell_type": "markdown",
   "metadata": {},
   "source": [
    "### List number of trains in runs"
   ]
  },
  {
   "cell_type": "code",
   "execution_count": 4,
   "metadata": {},
   "outputs": [
    {
     "name": "stdout",
     "output_type": "stream",
     "text": [
      "Run 602 do not exist!\n",
      "Run 603 do not exist!\n",
      "Run 604 do not exist!\n",
      "Run 605 do not exist!\n",
      "RunNumber: 597 | number of trains: 9037\n",
      "RunNumber: 598 | number of trains: 8926\n",
      "RunNumber: 599 | number of trains: 8857\n",
      "RunNumber: 600 | number of trains: 9637\n",
      "RunNumber: 601 | number of trains: 7184\n",
      "RunNumber: 602 | number of trains: 0\n",
      "RunNumber: 603 | number of trains: 0\n",
      "RunNumber: 604 | number of trains: 0\n",
      "RunNumber: 605 | number of trains: 0\n"
     ]
    }
   ],
   "source": [
    "list_number_of_trains_vs_run(run_interval)"
   ]
  },
  {
   "cell_type": "markdown",
   "metadata": {},
   "source": [
    "### Plot number of trains in runs"
   ]
  },
  {
   "cell_type": "code",
   "execution_count": null,
   "metadata": {},
   "outputs": [],
   "source": [
    "plot_number_of_trains_vs_run(run_interval)"
   ]
  },
  {
   "cell_type": "markdown",
   "metadata": {},
   "source": [
    "### List number of trains in delay steps"
   ]
  },
  {
   "cell_type": "code",
   "execution_count": null,
   "metadata": {},
   "outputs": [],
   "source": [
    "list_number_of_trains_vs_delay(run_interval)"
   ]
  },
  {
   "cell_type": "markdown",
   "metadata": {},
   "source": [
    "### List number of trains in delay steps"
   ]
  },
  {
   "cell_type": "code",
   "execution_count": null,
   "metadata": {},
   "outputs": [],
   "source": [
    "plot_number_of_trains_vs_delay(run_interval)\n"
   ]
  },
  {
   "cell_type": "code",
   "execution_count": null,
   "metadata": {},
   "outputs": [],
   "source": []
  }
 ],
 "metadata": {
  "kernelspec": {
   "display_name": "Python 3",
   "language": "python",
   "name": "python3"
  },
  "language_info": {
   "codemirror_mode": {
    "name": "ipython",
    "version": 3
   },
   "file_extension": ".py",
   "mimetype": "text/x-python",
   "name": "python",
   "nbconvert_exporter": "python",
   "pygments_lexer": "ipython3",
   "version": "3.7.3"
  }
 },
 "nbformat": 4,
 "nbformat_minor": 4
}
