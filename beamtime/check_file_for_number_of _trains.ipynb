{
 "cells": [
  {
   "cell_type": "markdown",
   "metadata": {},
   "source": [
    "# Check Number of FEL trains (single bunch) in TimePix HDF5 files"
   ]
  },
  {
   "cell_type": "code",
   "execution_count": 1,
   "metadata": {},
   "outputs": [
    {
     "name": "stdout",
     "output_type": "stream",
     "text": [
      "Populating the interactive namespace from numpy and matplotlib\n"
     ]
    }
   ],
   "source": [
    "%pylab qt"
   ]
  },
  {
   "cell_type": "markdown",
   "metadata": {},
   "source": [
    "#### Imports and utility functions"
   ]
  },
  {
   "cell_type": "code",
   "execution_count": 2,
   "metadata": {},
   "outputs": [],
   "source": [
    "from src.timepix_utils import *\n",
    "import src.timepix_utils as timepix_utils\n",
    "\n",
    "timepix_utils.file_system = 'core'"
   ]
  },
  {
   "cell_type": "markdown",
   "metadata": {},
   "source": [
    "### Interval of runs"
   ]
  },
  {
   "cell_type": "code",
   "execution_count": 314,
   "metadata": {},
   "outputs": [],
   "source": [
    "#run_interval = [526, 560]   # 1st 400nm scan on iodopyridine\n",
    "#run_interval = [563, 607]   # 2nd 400nm scan on iodopyridine\n",
    "run_interval = [758, 770]"
   ]
  },
  {
   "cell_type": "markdown",
   "metadata": {},
   "source": [
    "### List number of trains in runs"
   ]
  },
  {
   "cell_type": "code",
   "execution_count": 315,
   "metadata": {},
   "outputs": [
    {
     "name": "stdout",
     "output_type": "stream",
     "text": [
      "Run 764 do not exist!\n",
      "Run 765 do not exist!\n",
      "Run 766 do not exist!\n",
      "Run 767 do not exist!\n",
      "Run 768 do not exist!\n",
      "Run 769 do not exist!\n",
      "Run 770 do not exist!\n",
      "RunNumber: 758 | number of trains: 4245\n",
      "RunNumber: 759 | number of trains: 4355\n",
      "RunNumber: 760 | number of trains: 934\n",
      "RunNumber: 761 | number of trains: 1079\n",
      "RunNumber: 762 | number of trains: 3400\n",
      "RunNumber: 763 | number of trains: 549\n",
      "RunNumber: 764 | number of trains: 0\n",
      "RunNumber: 765 | number of trains: 0\n",
      "RunNumber: 766 | number of trains: 0\n",
      "RunNumber: 767 | number of trains: 0\n",
      "RunNumber: 768 | number of trains: 0\n",
      "RunNumber: 769 | number of trains: 0\n",
      "RunNumber: 770 | number of trains: 0\n"
     ]
    }
   ],
   "source": [
    "list_number_of_trains_vs_run(run_interval)"
   ]
  },
  {
   "cell_type": "markdown",
   "metadata": {},
   "source": [
    "### Plot number of trains in runs"
   ]
  },
  {
   "cell_type": "code",
   "execution_count": null,
   "metadata": {},
   "outputs": [],
   "source": [
    "plot_number_of_trains_vs_run(run_interval)"
   ]
  },
  {
   "cell_type": "markdown",
   "metadata": {},
   "source": [
    "### List number of trains in delay steps"
   ]
  },
  {
   "cell_type": "code",
   "execution_count": null,
   "metadata": {},
   "outputs": [],
   "source": [
    "list_number_of_trains_vs_delay(run_interval)"
   ]
  },
  {
   "cell_type": "markdown",
   "metadata": {},
   "source": [
    "### List number of trains in delay steps"
   ]
  },
  {
   "cell_type": "code",
   "execution_count": null,
   "metadata": {},
   "outputs": [],
   "source": [
    "plot_number_of_trains_vs_delay(run_interval)\n"
   ]
  },
  {
   "cell_type": "code",
   "execution_count": null,
   "metadata": {},
   "outputs": [],
   "source": []
  }
 ],
 "metadata": {
  "kernelspec": {
   "display_name": "Python 3",
   "language": "python",
   "name": "python3"
  },
  "language_info": {
   "codemirror_mode": {
    "name": "ipython",
    "version": 3
   },
   "file_extension": ".py",
   "mimetype": "text/x-python",
   "name": "python",
   "nbconvert_exporter": "python",
   "pygments_lexer": "ipython3",
   "version": "3.7.3"
  }
 },
 "nbformat": 4,
 "nbformat_minor": 4
}
