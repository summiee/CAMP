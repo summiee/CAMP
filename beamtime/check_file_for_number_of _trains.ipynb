{
 "cells": [
  {
   "cell_type": "markdown",
   "metadata": {},
   "source": [
    "# Check Number of FEL trains (single bunch) in TimePix HDF5 files"
   ]
  },
  {
   "cell_type": "code",
   "execution_count": null,
   "metadata": {},
   "outputs": [],
   "source": [
    "%pylab qt"
   ]
  },
  {
   "cell_type": "markdown",
   "metadata": {},
   "source": [
    "#### Imports"
   ]
  },
  {
   "cell_type": "code",
   "execution_count": null,
   "metadata": {},
   "outputs": [],
   "source": [
    "import numpy as np  \n",
    "import matplotlib.pyplot as plt\n",
    "import h5py\n",
    "import os"
   ]
  },
  {
   "cell_type": "markdown",
   "metadata": {},
   "source": [
    "#### Utility functions"
   ]
  },
  {
   "cell_type": "code",
   "execution_count": null,
   "metadata": {},
   "outputs": [],
   "source": [
    "def generate_hdf_file_name(run_number):\n",
    "    try:\n",
    "        hdf_file_path = '/gpfs/bl1/current/processed/timepix_hdf/'\n",
    "        file_start = \"run_\"+str(run_number).zfill(4)\n",
    "        not_file_end = 'rawOnly.hdf5'\n",
    "        hdf_file = [i for i in os.listdir(hdf_file_path) if os.path.isfile(os.path.join(hdf_file_path,i)) and i.startswith(file_start) and not i.endswith(not_file_end)][0]\n",
    "        hdf_file_complete_path = hdf_file_path+hdf_file\n",
    "        assert os.path.isfile(hdf_file_complete_path), 'File does not exist!'\n",
    "        return hdf_file_complete_path\n",
    "    except IndexError:\n",
    "        print(\"Run\",run_number,\"do not exist!\")\n",
    "\n",
    "def get_train_numbers_from_file(run_interval):\n",
    "    number_of_trains = []\n",
    "    runs = []\n",
    "    for i in range(run_interval[0], run_interval[1]+1):\n",
    "        runs.append(i)\n",
    "        hdf_file = generate_hdf_file_name(i)\n",
    "        if hdf_file != None:\n",
    "            number_of_trains.append(number_of_trains_from_hdf(hdf_file))\n",
    "        elif hdf_file == None:\n",
    "            number_of_trains.append(0)\n",
    "    return runs, number_of_trains\n",
    "\n",
    "def number_of_trains_from_hdf(hdf_file_complete_path):\n",
    "    '''Retrun number of recorded FEL trains in HDF file'''\n",
    "    with h5py.File(hdf_file_complete_path, 'r') as h_file:\n",
    "        trains = len(h_file['tpx3Times/triggerNr'][:])\n",
    "    return trains\n",
    "\n",
    "def unique(list_to_check):  \n",
    "    unique_list = [] \n",
    "    for x in list_to_check: \n",
    "        if x not in unique_list: \n",
    "            unique_list.append(x) \n",
    "    return unique_list\n",
    "\n",
    "def get_trains_vs_unique_delay(delay_pos, trains):\n",
    "    unique_delay_pos = unique(delay_pos)\n",
    "    unique_trains = []\n",
    "    for i in range(len(unique_delay_pos)):\n",
    "        tt = []\n",
    "        for j in range(len(delay_pos)):\n",
    "            if unique_delay_pos[i] == delay_pos[j]:\n",
    "                tt.append(trains[j])\n",
    "        unique_trains.append(np.sum(np.array(tt)))\n",
    "    sort_ind = np.argsort(np.array(unique_delay_pos))\n",
    "    unique_delay_pos = np.array(unique_delay_pos)[sort_ind]\n",
    "    unique_trains = np.array(unique_trains)[sort_ind]\n",
    "    return unique_delay_pos, unique_trains\n",
    "\n",
    "def plot_number_of_trains_vs_run(run_interval): \n",
    "    runs, trains = get_train_numbers_from_file(run_interval)              \n",
    "    fig = plt.figure(figsize = (10,10))\n",
    "    plt.plot(runs,trains,'o')\n",
    "    plt.ylabel('FEL pulses')\n",
    "    plt.xlabel('Run Number')\n",
    "    plt.show()\n",
    "        \n",
    "def list_number_of_trains_vs_run(run_interval): \n",
    "    runs, trains = get_train_numbers_from_file(run_interval)\n",
    "    for i in range(len(runs)):\n",
    "        print('RunNumber:',runs[i],'| number of trains:',trains[i])\n",
    "\n",
    "def plot_number_of_trains_vs_delay(run_interval):\n",
    "    runs, trains = get_train_numbers_from_file(run_interval)\n",
    "    runs_pp, delay_pos = get_delay_stage_pos_from_txt_file(run_interval)\n",
    "    assert runs == runs_pp, 'Runs are not identical!'\n",
    "    unique_delay_pos, unique_trains = get_trains_vs_unique_delay(delay_pos, trains)\n",
    "    fig = plt.figure(figsize = (10,10))\n",
    "    plt.plot(unique_delay_pos,unique_trains,'o')\n",
    "    plt.ylabel('FEL pulses')\n",
    "    plt.xlabel('Delay Position')\n",
    "    plt.show()\n",
    "        \n",
    "def list_number_of_trains_vs_delay(run_interval):\n",
    "    runs, trains = get_train_numbers_from_file(run_interval)\n",
    "    runs_pp, delay_pos = get_delay_stage_pos_from_txt_file(run_interval)\n",
    "    assert runs == runs_pp, 'Runs are not identical!'\n",
    "    unique_delay_pos, unique_trains = get_trains_vs_unique_delay(delay_pos, trains)\n",
    "    for i in range(len(unique_delay_pos)):\n",
    "        print('Delay Position:', unique_delay_pos[i],'| number of trains:',unique_trains[i])           \n",
    "\n",
    "def get_delay_stage_pos_from_txt_file(run_interval):\n",
    "    runs = []\n",
    "    delay_pos = []\n",
    "    filepath = '/home/bl1user/Desktop/erk20919/CAMP/beamtime/run_pp-delay.txt'\n",
    "    with open(filepath) as fp:\n",
    "        for cnt, line in enumerate(fp):\n",
    "            tt = [x.strip() for x in line.split(',')]\n",
    "            runs.append(int(tt[0]))\n",
    "            delay_pos.append(float(tt[1]))\n",
    "    runs = runs[runs.index(run_interval[0]):runs.index(run_interval[1])+1]\n",
    "    delay_pos = delay_pos[runs.index(run_interval[0]):runs.index(run_interval[1])+1]\n",
    "    return runs, delay_pos\n",
    "    "
   ]
  },
  {
   "cell_type": "markdown",
   "metadata": {},
   "source": [
    "### Interval of runs"
   ]
  },
  {
   "cell_type": "code",
   "execution_count": null,
   "metadata": {},
   "outputs": [],
   "source": [
    "run_interval = [88, 135]"
   ]
  },
  {
   "cell_type": "markdown",
   "metadata": {},
   "source": [
    "### Number of trains in runs"
   ]
  },
  {
   "cell_type": "code",
   "execution_count": null,
   "metadata": {},
   "outputs": [],
   "source": [
    "plot_number_of_trains_vs_run(run_interval)\n",
    "list_number_of_trains_vs_run(run_interval)"
   ]
  },
  {
   "cell_type": "markdown",
   "metadata": {},
   "source": [
    "### Number of trains in delay steps"
   ]
  },
  {
   "cell_type": "code",
   "execution_count": null,
   "metadata": {},
   "outputs": [],
   "source": [
    "plot_number_of_trains_vs_delay(run_interval)\n",
    "list_number_of_trains_vs_delay(run_interval)"
   ]
  },
  {
   "cell_type": "code",
   "execution_count": null,
   "metadata": {},
   "outputs": [],
   "source": [
    "\n"
   ]
  },
  {
   "cell_type": "code",
   "execution_count": null,
   "metadata": {},
   "outputs": [],
   "source": []
  },
  {
   "cell_type": "code",
   "execution_count": null,
   "metadata": {},
   "outputs": [],
   "source": [
    "\n"
   ]
  },
  {
   "cell_type": "code",
   "execution_count": null,
   "metadata": {},
   "outputs": [],
   "source": []
  }
 ],
 "metadata": {
  "kernelspec": {
   "display_name": "Python 3",
   "language": "python",
   "name": "python3"
  },
  "language_info": {
   "codemirror_mode": {
    "name": "ipython",
    "version": 3
   },
   "file_extension": ".py",
   "mimetype": "text/x-python",
   "name": "python",
   "nbconvert_exporter": "python",
   "pygments_lexer": "ipython3",
   "version": "3.7.3"
  }
 },
 "nbformat": 4,
 "nbformat_minor": 4
}
