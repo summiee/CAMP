{
 "cells": [
  {
   "cell_type": "markdown",
   "metadata": {},
   "source": [
    "# Check Number of FEL trains (single bunch) in TimePix HDF5 files"
   ]
  },
  {
   "cell_type": "code",
   "execution_count": 1,
   "metadata": {},
   "outputs": [
    {
     "name": "stdout",
     "output_type": "stream",
     "text": [
      "Populating the interactive namespace from numpy and matplotlib\n"
     ]
    }
   ],
   "source": [
    "%pylab qt"
   ]
  },
  {
   "cell_type": "markdown",
   "metadata": {},
   "source": [
    "#### Imports and utility functions"
   ]
  },
  {
   "cell_type": "code",
   "execution_count": 2,
   "metadata": {},
   "outputs": [],
   "source": [
    "from src.timepix_utils import *\n",
    "import src.timepix_utils as timepix_utils\n",
    "\n",
    "timepix_utils.file_system = 'core'"
   ]
  },
  {
   "cell_type": "markdown",
   "metadata": {},
   "source": [
    "### Interval of runs"
   ]
  },
  {
   "cell_type": "code",
   "execution_count": 33,
   "metadata": {},
   "outputs": [],
   "source": [
    "#run_interval = [526, 560]   # 1st 400nm scan on iodopyridine\n",
    "#run_interval = [563, 607]   # 2nd 400nm scan on iodopyridine\n",
    "run_interval = [610, 670]"
   ]
  },
  {
   "cell_type": "markdown",
   "metadata": {},
   "source": [
    "### List number of trains in runs"
   ]
  },
  {
   "cell_type": "code",
   "execution_count": 34,
   "metadata": {},
   "outputs": [
    {
     "name": "stdout",
     "output_type": "stream",
     "text": [
      "Run 665 do not exist!\n",
      "Run 666 do not exist!\n",
      "Run 667 do not exist!\n",
      "Run 668 do not exist!\n",
      "Run 669 do not exist!\n",
      "Run 670 do not exist!\n",
      "RunNumber: 610 | number of trains: 5871\n",
      "RunNumber: 611 | number of trains: 5928\n",
      "RunNumber: 612 | number of trains: 5915\n",
      "RunNumber: 613 | number of trains: 7799\n",
      "RunNumber: 614 | number of trains: 5914\n",
      "RunNumber: 615 | number of trains: 5881\n",
      "RunNumber: 616 | number of trains: 5881\n",
      "RunNumber: 617 | number of trains: 5991\n",
      "RunNumber: 618 | number of trains: 6056\n",
      "RunNumber: 619 | number of trains: 6666\n",
      "RunNumber: 620 | number of trains: 5910\n",
      "RunNumber: 621 | number of trains: 5884\n",
      "RunNumber: 622 | number of trains: 5887\n",
      "RunNumber: 623 | number of trains: 5918\n",
      "RunNumber: 624 | number of trains: 5907\n",
      "RunNumber: 625 | number of trains: 5917\n",
      "RunNumber: 626 | number of trains: 5891\n",
      "RunNumber: 627 | number of trains: 6552\n",
      "RunNumber: 628 | number of trains: 5948\n",
      "RunNumber: 629 | number of trains: 5915\n",
      "RunNumber: 630 | number of trains: 6007\n",
      "RunNumber: 631 | number of trains: 5934\n",
      "RunNumber: 632 | number of trains: 5925\n",
      "RunNumber: 633 | number of trains: 5920\n",
      "RunNumber: 634 | number of trains: 5888\n",
      "RunNumber: 635 | number of trains: 5892\n",
      "RunNumber: 636 | number of trains: 5919\n",
      "RunNumber: 637 | number of trains: 5898\n",
      "RunNumber: 638 | number of trains: 5894\n",
      "RunNumber: 639 | number of trains: 5894\n",
      "RunNumber: 640 | number of trains: 5943\n",
      "RunNumber: 641 | number of trains: 5885\n",
      "RunNumber: 642 | number of trains: 5917\n",
      "RunNumber: 643 | number of trains: 5879\n",
      "RunNumber: 644 | number of trains: 5889\n",
      "RunNumber: 645 | number of trains: 5895\n",
      "RunNumber: 646 | number of trains: 6400\n",
      "RunNumber: 647 | number of trains: 5885\n",
      "RunNumber: 648 | number of trains: 5888\n",
      "RunNumber: 649 | number of trains: 6311\n",
      "RunNumber: 650 | number of trains: 5952\n",
      "RunNumber: 651 | number of trains: 5902\n",
      "RunNumber: 652 | number of trains: 5893\n",
      "RunNumber: 653 | number of trains: 5899\n",
      "RunNumber: 654 | number of trains: 5905\n",
      "RunNumber: 655 | number of trains: 5894\n",
      "RunNumber: 656 | number of trains: 5875\n",
      "RunNumber: 657 | number of trains: 5897\n",
      "RunNumber: 658 | number of trains: 5879\n",
      "RunNumber: 659 | number of trains: 5894\n",
      "RunNumber: 660 | number of trains: 5891\n",
      "RunNumber: 661 | number of trains: 6142\n",
      "RunNumber: 662 | number of trains: 5898\n",
      "RunNumber: 663 | number of trains: 5914\n",
      "RunNumber: 664 | number of trains: 5896\n",
      "RunNumber: 665 | number of trains: 0\n",
      "RunNumber: 666 | number of trains: 0\n",
      "RunNumber: 667 | number of trains: 0\n",
      "RunNumber: 668 | number of trains: 0\n",
      "RunNumber: 669 | number of trains: 0\n",
      "RunNumber: 670 | number of trains: 0\n"
     ]
    }
   ],
   "source": [
    "list_number_of_trains_vs_run(run_interval)"
   ]
  },
  {
   "cell_type": "markdown",
   "metadata": {},
   "source": [
    "### Plot number of trains in runs"
   ]
  },
  {
   "cell_type": "code",
   "execution_count": null,
   "metadata": {},
   "outputs": [],
   "source": [
    "plot_number_of_trains_vs_run(run_interval)"
   ]
  },
  {
   "cell_type": "markdown",
   "metadata": {},
   "source": [
    "### List number of trains in delay steps"
   ]
  },
  {
   "cell_type": "code",
   "execution_count": null,
   "metadata": {},
   "outputs": [],
   "source": [
    "list_number_of_trains_vs_delay(run_interval)"
   ]
  },
  {
   "cell_type": "markdown",
   "metadata": {},
   "source": [
    "### List number of trains in delay steps"
   ]
  },
  {
   "cell_type": "code",
   "execution_count": null,
   "metadata": {},
   "outputs": [],
   "source": [
    "plot_number_of_trains_vs_delay(run_interval)\n"
   ]
  },
  {
   "cell_type": "code",
   "execution_count": null,
   "metadata": {},
   "outputs": [],
   "source": []
  }
 ],
 "metadata": {
  "kernelspec": {
   "display_name": "Python 3",
   "language": "python",
   "name": "python3"
  },
  "language_info": {
   "codemirror_mode": {
    "name": "ipython",
    "version": 3
   },
   "file_extension": ".py",
   "mimetype": "text/x-python",
   "name": "python",
   "nbconvert_exporter": "python",
   "pygments_lexer": "ipython3",
   "version": "3.7.3"
  }
 },
 "nbformat": 4,
 "nbformat_minor": 4
}
