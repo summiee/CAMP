{
 "cells": [
  {
   "cell_type": "markdown",
   "metadata": {},
   "source": [
    "# Create heatmap from saved radial averages"
   ]
  },
  {
   "cell_type": "code",
   "execution_count": null,
   "metadata": {},
   "outputs": [],
   "source": [
    "%pylab qt"
   ]
  },
  {
   "cell_type": "markdown",
   "metadata": {},
   "source": [
    "### Imports and utility functions"
   ]
  },
  {
   "cell_type": "code",
   "execution_count": null,
   "metadata": {},
   "outputs": [],
   "source": [
    "from src.heatmap_utils import *\n",
    "import src.heatmap_utils as heatmap_utils"
   ]
  },
  {
   "cell_type": "code",
   "execution_count": null,
   "metadata": {},
   "outputs": [],
   "source": [
    "# def unique(list_to_check):  \n",
    "#     unique_list = [] \n",
    "#     for x in list_to_check: \n",
    "#         if x not in unique_list: \n",
    "#             unique_list.append(x) \n",
    "#     return unique_list\n",
    "\n",
    "# def load_radial_data(file_name, load_from_path, fragment_list):\n",
    "#     runs = []\n",
    "#     delay_stage_pos = []\n",
    "#     number_of_trains = []\n",
    "\n",
    "#     list_of_lists = [[] for i in range(len(fragment_list))]            \n",
    "\n",
    "#     with h5py.File(load_from_path+file_name, 'r') as f:\n",
    "\n",
    "#         for key in f.keys():\n",
    "#             runs.append(key)\n",
    "\n",
    "#         for i in range(len(runs)):\n",
    "#             delay_stage_pos.append(np.array(f[str(runs[i])+'/delay_stage']))\n",
    "#             number_of_trains.append(np.array(f[str(runs[i])+'/number_of_trains']))\n",
    "\n",
    "#             for j in range(len(fragment_list)):\n",
    "#                 list_of_lists[j].append(np.array(f[str(runs[i])+'/'+str(fragment_list[j])+'/radial_average']))\n",
    "\n",
    "#     number_of_trains = np.array(number_of_trains)\n",
    "#     delay_stage_pos = np.array(delay_stage_pos)\n",
    "\n",
    "#     sort_ind = np.argsort(delay_stage_pos)\n",
    "#     number_of_trains = number_of_trains[sort_ind]\n",
    "#     delay_stage_pos = delay_stage_pos[sort_ind]\n",
    "\n",
    "#     for i in range(len(fragment_list)):\n",
    "#         list_of_lists[i] = np.array(list_of_lists[i])\n",
    "#         list_of_lists[i] = list_of_lists[i][sort_ind]\n",
    "#         for j in range(len(runs)):\n",
    "#             list_of_lists[i][j] = list_of_lists[i][j]/number_of_trains[j]\n",
    "\n",
    "#     uni_delay = np.array(unique(delay_stage_pos))\n",
    "#     uni_list_of_lists = [[] for i in range(len(fragment_list))]\n",
    "\n",
    "#     for i in range(len(fragment_list)):\n",
    "#         for k in range(len(uni_delay)):\n",
    "#             tt = []\n",
    "#             number_to_norm = 0\n",
    "#             for j in range(len(delay_stage_pos)):\n",
    "#                 if uni_delay[k] == delay_stage_pos[j]:\n",
    "#                     number_to_norm = number_to_norm +1\n",
    "#                     tt.append(list_of_lists[i][j])\n",
    "#             uni_list_of_lists[i].append((np.sum(np.array(tt),axis = 0)/number_to_norm))\n",
    "#         uni_list_of_lists[i] = np.array(uni_list_of_lists[i])\n",
    "\n",
    "#     print('number of runs:',len(delay_stage_pos))\n",
    "#     print('number of unqique delays:',len(uni_delay))\n",
    "#     print('shape of radial averages with unique dealy:',np.array(uni_list_of_lists).shape)\n",
    "\n",
    "#     return fragment_list, uni_delay, np.array(uni_list_of_lists)\n",
    "        \n",
    "# def simple_plots(fragment_list, uni_delay, uni_list_of_lists):\n",
    "#     for k in range(len(fragment_list)):\n",
    "#         colors = cm.rainbow(np.linspace(0, 1, len(uni_list_of_lists[k])))\n",
    "#         fig = plt.figure(figsize = (10,10), num = k)\n",
    "#         for i in range(len(uni_list_of_lists[k])):\n",
    "#             plt.plot(uni_list_of_lists[k][i],label=uni_delay[i], color = colors[i])\n",
    "#         plt.xlabel('r')\n",
    "#         plt.ylabel('counts')\n",
    "#         plt.legend()\n",
    "#         plt.title(str(fragment_list[k]), fontsize = 20)\n",
    "\n",
    "# def heatmap(fragment_list, uni_delay, uni_list_of_lists):\n",
    "#     for k in range(len(fragment_list)):\n",
    "#         fig = plt.figure(figsize = (10,10),num = k+len(fragment_list))\n",
    "#         image = np.column_stack(uni_list_of_lists[k])\n",
    "#         plt.imshow(image, aspect=\"auto\", origin=\"lower\")\n",
    "#         plt.xticks(np.arange(len(uni_delay)), uni_delay)\n",
    "#         plt.title(str(fragment_list[k]), fontsize = 20)\n",
    "\n",
    "# def x_projection_heatmap(fragment_list, uni_delay, uni_list_of_lists):\n",
    "#     for k in range(len(fragment_list)):\n",
    "#         intensities_per_delay = np.sum(uni_list_of_lists[k],axis =1)\n",
    "#         fig = plt.figure(figsize = (10,10),num = k+len(fragment_list)*2)\n",
    "#         plt.plot(uni_delay[1:], intensities_per_delay[1:],'o')\n",
    "#         plt.xlabel('delay')\n",
    "#         plt.ylabel('integral of radial average')\n",
    "#         plt.title(str(fragment_list[k]), fontsize = 20)\n"
   ]
  },
  {
   "cell_type": "code",
   "execution_count": null,
   "metadata": {},
   "outputs": [],
   "source": [
    "load_from_path = 'intermediate_data/'\n",
    "file_name = 'test.hdf5'\n",
    "fragment_list = ['test_ion','test_ion2']\n",
    "\n",
    "fragment_list, uni_delay, uni_list_of_lists = load_radial_data(file_name, load_from_path, fragment_list)"
   ]
  },
  {
   "cell_type": "markdown",
   "metadata": {},
   "source": [
    "### simple plots"
   ]
  },
  {
   "cell_type": "code",
   "execution_count": null,
   "metadata": {},
   "outputs": [],
   "source": [
    "simple_plots(fragment_list, uni_delay, uni_list_of_lists)"
   ]
  },
  {
   "cell_type": "markdown",
   "metadata": {},
   "source": [
    "### heatmap"
   ]
  },
  {
   "cell_type": "code",
   "execution_count": null,
   "metadata": {},
   "outputs": [],
   "source": [
    "heatmap(fragment_list, uni_delay, uni_list_of_lists)"
   ]
  },
  {
   "cell_type": "markdown",
   "metadata": {},
   "source": [
    "### x-axis projection of heatmap"
   ]
  },
  {
   "cell_type": "code",
   "execution_count": null,
   "metadata": {},
   "outputs": [],
   "source": [
    "x_projection_heatmap(fragment_list, uni_delay, uni_list_of_lists)\n"
   ]
  },
  {
   "cell_type": "code",
   "execution_count": null,
   "metadata": {},
   "outputs": [],
   "source": []
  }
 ],
 "metadata": {
  "kernelspec": {
   "display_name": "Python 3",
   "language": "python",
   "name": "python3"
  },
  "language_info": {
   "codemirror_mode": {
    "name": "ipython",
    "version": 3
   },
   "file_extension": ".py",
   "mimetype": "text/x-python",
   "name": "python",
   "nbconvert_exporter": "python",
   "pygments_lexer": "ipython3",
   "version": "3.7.3"
  }
 },
 "nbformat": 4,
 "nbformat_minor": 4
}
