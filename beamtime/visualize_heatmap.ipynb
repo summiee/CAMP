{
 "cells": [
  {
   "cell_type": "markdown",
   "metadata": {},
   "source": [
    "# Create heatmap from saved radial averages"
   ]
  },
  {
   "cell_type": "code",
   "execution_count": 1,
   "metadata": {},
   "outputs": [
    {
     "name": "stdout",
     "output_type": "stream",
     "text": [
      "Populating the interactive namespace from numpy and matplotlib\n"
     ]
    }
   ],
   "source": [
    "%pylab qt"
   ]
  },
  {
   "cell_type": "code",
   "execution_count": 2,
   "metadata": {},
   "outputs": [],
   "source": [
    "import numpy as np  \n",
    "import matplotlib.pyplot as plt\n",
    "import matplotlib.cm as cm\n",
    "import os"
   ]
  },
  {
   "cell_type": "code",
   "execution_count": 3,
   "metadata": {},
   "outputs": [],
   "source": [
    "def unique(list_to_check):  \n",
    "    unique_list = [] \n",
    "    for x in list_to_check: \n",
    "        if x not in unique_list: \n",
    "            unique_list.append(x) \n",
    "    return unique_list\n",
    "    \n",
    "def load_radial_data(file_prefix, fragment):\n",
    "    \n",
    "    load_from_path = 'intermediate_data/'\n",
    "    files = [i for i in os.listdir(load_from_path) if os.path.isfile(os.path.join(load_from_path,i)) and str(file_prefix)+\"_\"+str(fragment) in i]\n",
    "    \n",
    "    radial_averages =[]\n",
    "    delay_stage_pos = []\n",
    "    norm_counts = []\n",
    "    \n",
    "    for i in files:\n",
    "        npzfile = np.load(load_from_path+i)\n",
    "        radial_averages.append(npzfile['radial_average'])\n",
    "        delay_stage_pos.append(float(npzfile['delay_stage']))\n",
    "        fragment = (npzfile['fragment'])\n",
    "        norm_counts.append(float(npzfile['number_of_trains']))\n",
    "        \n",
    "    radial_averages = np.array(radial_averages)\n",
    "    delay_stage_pos = np.array(delay_stage_pos)\n",
    "    norm_counts = np.array(norm_counts)\n",
    "\n",
    "    sort_ind = np.argsort(delay_stage_pos)\n",
    "    radial_averages = radial_averages[sort_ind]\n",
    "    norm_counts = norm_counts[sort_ind]\n",
    "    delay_stage_pos = delay_stage_pos[sort_ind]\n",
    "    \n",
    "    radial_averages_norm = []\n",
    "    for i in range(len(radial_averages)):\n",
    "        radial_averages_norm.append(radial_averages[i]/norm_counts[i])\n",
    "    radial_averages_norm = np.array(radial_averages_norm)\n",
    "    \n",
    "\n",
    "    uni_delay = np.array(unique(delay_stage_pos))\n",
    "    uni_radial = []\n",
    "    \n",
    "    for i in range(len(uni_delay)):\n",
    "        tt = []\n",
    "        number_to_norm = 0\n",
    "        for j in range(len(delay_stage_pos)):\n",
    "            if uni_delay[i] == delay_stage_pos[j]:\n",
    "                number_to_norm = number_to_norm +1\n",
    "                tt.append(radial_averages_norm[j])\n",
    "        uni_radial.append((np.sum(np.array(tt), axis = 0)/number_to_norm))\n",
    "    uni_radial = np.array(uni_radial)\n",
    "    \n",
    "    print('fragment:',fragment)\n",
    "    print('number of runs:',len(delay_stage_pos))\n",
    "    print('number of unqique delays:',len(uni_delay))\n",
    "\n",
    "    return uni_radial, uni_delay \n",
    "\n",
    "def simple_plots(radial_averages_norm, delay_stage_pos, fragment, start_delay_pos = False, stop_delay_pos = False):\n",
    "    radial_averages_norm, delay_stage_pos = slice_in_delay(radial_averages_norm, delay_stage_pos, start_delay_pos, stop_delay_pos)\n",
    "    colors = cm.rainbow(np.linspace(0, 1, len(radial_averages_norm)))\n",
    "    fig = plt.figure(figsize = (10,10),num = 1)\n",
    "    for i in range(len(radial_averages_norm)):\n",
    "        plt.plot(radial_averages_norm[i],label=delay_stage_pos[i], color = colors[i])\n",
    "    plt.xlabel('r')\n",
    "    plt.ylabel('counts')\n",
    "    plt.legend()\n",
    "    plt.title(str(fragment), fontsize = 20)\n",
    "    print('Number of delay steps:',len(delay_stage_pos))\n",
    "    plt.show()\n",
    "    \n",
    "def heatmap(radial_averages_norm, delay_stage_pos, fragment, start_delay_pos = False, stop_delay_pos = False):\n",
    "    radial_averages_norm, delay_stage_pos = slice_in_delay(radial_averages_norm, delay_stage_pos, start_delay_pos, stop_delay_pos)\n",
    "    fig = plt.figure(figsize = (10,10),num = 2)\n",
    "    image = np.column_stack(radial_averages_norm)\n",
    "    plt.imshow(image, aspect=\"auto\", origin=\"lower\")\n",
    "    plt.xticks(np.arange(len(delay_stage_pos)), delay_stage_pos)\n",
    "    plt.title(str(fragment), fontsize = 20)\n",
    "    print('Number of delay steps:',len(delay_stage_pos))\n",
    "    plt.show()\n",
    "    \n",
    "def x_projection_heatmap(radial_averages_norm, delay_stage_pos, fragment, start_delay_pos = False, stop_delay_pos = False):\n",
    "    radial_averages_norm, delay_stage_pos = slice_in_delay(radial_averages_norm, delay_stage_pos, start_delay_pos, stop_delay_pos)\n",
    "    intensities_per_delay = np.sum(radial_averages_norm,axis =1)\n",
    "    fig = plt.figure(figsize = (10,10),num = 3)\n",
    "    plt.plot(delay_stage_pos[1:], intensities_per_delay[1:],'o')\n",
    "    plt.xlabel('delay')\n",
    "    plt.ylabel('integral of radial average')\n",
    "    plt.title('800nm pump-probe delay scan, fragment {}'.format(fragment))\n",
    "    plt.show()\n",
    "\n",
    "def slice_in_delay(radial_averages_norm, delay_stage_pos, start_delay_pos, stop_delay_pos):\n",
    "    if start_delay_pos == False:\n",
    "        start_delay_pos = np.min(delay_stage_pos)\n",
    "    if stop_delay_pos == False:\n",
    "        stop_delay_pos = np.max(delay_stage_pos)\n",
    "    radial_averages_norm = radial_averages_norm[(delay_stage_pos >= start_delay_pos) & (delay_stage_pos <= stop_delay_pos)]\n",
    "    delay_stage_pos = delay_stage_pos[(delay_stage_pos >= start_delay_pos) & (delay_stage_pos <= stop_delay_pos)] \n",
    "    return radial_averages_norm, delay_stage_pos\n"
   ]
  },
  {
   "cell_type": "code",
   "execution_count": 13,
   "metadata": {},
   "outputs": [
    {
     "name": "stdout",
     "output_type": "stream",
     "text": [
      "fragment: I3+\n",
      "number of runs: 27\n",
      "number of unqique delays: 26\n"
     ]
    }
   ],
   "source": [
    "file_prefix = '400nm_Iodopyridine_I3p'\n",
    "fragment = 'I3+'\n",
    "\n",
    "start_delay_pos = False\n",
    "stop_delay_pos = False\n",
    "\n",
    "radial_averages_norm, delay_stage_pos = load_radial_data(file_prefix,fragment)"
   ]
  },
  {
   "cell_type": "markdown",
   "metadata": {},
   "source": [
    "### simple plots"
   ]
  },
  {
   "cell_type": "code",
   "execution_count": 6,
   "metadata": {},
   "outputs": [
    {
     "name": "stdout",
     "output_type": "stream",
     "text": [
      "Number of delay steps: 17\n"
     ]
    }
   ],
   "source": [
    "simple_plots(radial_averages_norm, delay_stage_pos, fragment, start_delay_pos, stop_delay_pos)"
   ]
  },
  {
   "cell_type": "markdown",
   "metadata": {},
   "source": [
    "### heatmap"
   ]
  },
  {
   "cell_type": "code",
   "execution_count": 15,
   "metadata": {},
   "outputs": [
    {
     "name": "stdout",
     "output_type": "stream",
     "text": [
      "Number of delay steps: 26\n"
     ]
    }
   ],
   "source": [
    "heatmap(radial_averages_norm, delay_stage_pos, fragment, start_delay_pos, stop_delay_pos)"
   ]
  },
  {
   "cell_type": "markdown",
   "metadata": {},
   "source": [
    "### x-axis projection of heatmap"
   ]
  },
  {
   "cell_type": "code",
   "execution_count": null,
   "metadata": {},
   "outputs": [],
   "source": [
    "# start_delay_pos = 342\n",
    "# stop_delay_pos = 346\n",
    "\n",
    "x_projection_heatmap(radial_averages_norm, delay_stage_pos, fragment, start_delay_pos, stop_delay_pos)"
   ]
  },
  {
   "cell_type": "markdown",
   "metadata": {},
   "source": [
    "### check two delay scans"
   ]
  },
  {
   "cell_type": "code",
   "execution_count": null,
   "metadata": {},
   "outputs": [],
   "source": [
    "\n",
    "fig = plt.figure(figsize = (10,10),num = 3)\n",
    "\n",
    "file_prefix = '800nm_delay_scan_1'\n",
    "fragment = 'I6+'\n",
    "radial_averages_norm, delay_stage_pos = load_radial_data(file_prefix,fragment)\n",
    "intensities_per_delay = np.sum(radial_averages_norm,axis =1)\n",
    "plt.plot(delay_stage_pos, intensities_per_delay,'bo', label='scan1')\n",
    "print(len(intensities_per_delay))\n",
    "\n",
    "file_prefix = '800nm_delay_scan_2'\n",
    "fragment = 'I6+'\n",
    "radial_averages_norm, delay_stage_pos = load_radial_data(file_prefix,fragment)\n",
    "intensities_per_delay = np.sum(radial_averages_norm,axis =1)\n",
    "plt.plot(delay_stage_pos, intensities_per_delay,'ro', label='scan2')\n",
    "print(len(intensities_per_delay))\n",
    "\n",
    "file_prefix = '800nm_delay_scan'\n",
    "fragment = 'I6+'\n",
    "radial_averages_norm, delay_stage_pos = load_radial_data(file_prefix,fragment)\n",
    "intensities_per_delay = np.sum(radial_averages_norm,axis =1)\n",
    "plt.plot(delay_stage_pos, intensities_per_delay,'kx', label='all')\n",
    "print(len(intensities_per_delay))\n",
    "\n",
    "\n",
    "plt.xlabel('delay _pos')\n",
    "plt.ylabel('integral of radial average')\n",
    "plt.title('800nm pump-probe delay scan, fragment {}'.format(fragment))\n",
    "plt.legend()\n"
   ]
  },
  {
   "cell_type": "code",
   "execution_count": null,
   "metadata": {},
   "outputs": [],
   "source": []
  },
  {
   "cell_type": "code",
   "execution_count": null,
   "metadata": {},
   "outputs": [],
   "source": []
  },
  {
   "cell_type": "code",
   "execution_count": null,
   "metadata": {},
   "outputs": [],
   "source": [
    "file_prefix = '800nm_Iodopyridine_I2p'\n",
    "fragment = 'I2+'\n",
    "\n",
    "start_delay_pos = False\n",
    "stop_delay_pos = False\n",
    "\n",
    "radial_averages_norm, delay_stage_pos = load_radial_data(file_prefix,fragment)"
   ]
  },
  {
   "cell_type": "markdown",
   "metadata": {},
   "source": [
    "### simple plots"
   ]
  },
  {
   "cell_type": "code",
   "execution_count": null,
   "metadata": {},
   "outputs": [],
   "source": [
    "simple_plots(radial_averages_norm, delay_stage_pos, fragment, start_delay_pos, stop_delay_pos)"
   ]
  },
  {
   "cell_type": "markdown",
   "metadata": {},
   "source": [
    "### heatmap"
   ]
  },
  {
   "cell_type": "code",
   "execution_count": null,
   "metadata": {},
   "outputs": [],
   "source": [
    "heatmap(radial_averages_norm, delay_stage_pos, fragment, start_delay_pos, stop_delay_pos)"
   ]
  },
  {
   "cell_type": "code",
   "execution_count": null,
   "metadata": {},
   "outputs": [],
   "source": []
  }
 ],
 "metadata": {
  "kernelspec": {
   "display_name": "Python 3",
   "language": "python",
   "name": "python3"
  },
  "language_info": {
   "codemirror_mode": {
    "name": "ipython",
    "version": 3
   },
   "file_extension": ".py",
   "mimetype": "text/x-python",
   "name": "python",
   "nbconvert_exporter": "python",
   "pygments_lexer": "ipython3",
   "version": "3.7.3"
  }
 },
 "nbformat": 4,
 "nbformat_minor": 4
}
