{
 "cells": [
  {
   "cell_type": "markdown",
   "metadata": {},
   "source": [
    "# Visualize TimePix3 data"
   ]
  },
  {
   "cell_type": "markdown",
   "metadata": {},
   "source": [
    "read from \"hdf5\" files created by Kuepper et al. (Hubertus Bromberger)"
   ]
  },
  {
   "cell_type": "markdown",
   "metadata": {},
   "source": [
    "### Imports"
   ]
  },
  {
   "cell_type": "code",
   "execution_count": 19,
   "metadata": {},
   "outputs": [
    {
     "name": "stdout",
     "output_type": "stream",
     "text": [
      "Populating the interactive namespace from numpy and matplotlib\n"
     ]
    }
   ],
   "source": [
    "# %matplotlib widget\n",
    "%pylab qt   "
   ]
  },
  {
   "cell_type": "code",
   "execution_count": 20,
   "metadata": {},
   "outputs": [],
   "source": [
    "import numpy as np  \n",
    "import matplotlib.pyplot as plt\n",
    "import h5py\n",
    "import os.path"
   ]
  },
  {
   "cell_type": "markdown",
   "metadata": {},
   "source": [
    "### Define HDF path & file"
   ]
  },
  {
   "cell_type": "code",
   "execution_count": 21,
   "metadata": {},
   "outputs": [],
   "source": [
    "hdf_file_path = '/home/cpassow/jupyterlab/CAMP/data/'\n",
    "hdf_file_name = '20191031-052753_CH3I_000000.hdf5'\n",
    "hdf_file_complete_path = hdf_file_path + hdf_file_name\n",
    "\n",
    "assert os.path.isfile(hdf_file_complete_path), 'File does not exist!'"
   ]
  },
  {
   "cell_type": "markdown",
   "metadata": {},
   "source": [
    "### Utility function"
   ]
  },
  {
   "cell_type": "code",
   "execution_count": 111,
   "metadata": {},
   "outputs": [
    {
     "name": "stdout",
     "output_type": "stream",
     "text": [
      "Reading from HDF5 - number of events: 3.76e+05\n",
      "Slicing - number of events: 1.08e+04 | 2.88%\n"
     ]
    }
   ],
   "source": [
    "def data_from_hdf(hdf_file_complete_path, event_type = 'centroided'):\n",
    "    '''Read data from TimePix HDF files\n",
    "    Choose raw or centroided data, default is centroided data'''\n",
    "    with h5py.File(hdf_file_complete_path, 'r') as h_file:\n",
    "        tof = h_file[str(event_type)+'/tof'][:]\n",
    "        x_pos = h_file[str(event_type)+'/x'][:]\n",
    "        y_pos = h_file[str(event_type)+'/y'][:]\n",
    "    print('Reading from HDF5 - number of events: {:.2e}'.format(len(tof)))\n",
    "    return tof, x_pos, y_pos\n",
    "\n",
    "def data_sliced_by_tof(hdf_file_complete_path, tof_start = 0 , tof_end = 0.1, event_type = 'centroided'):\n",
    "    '''Slice data with respect to time-of-flight dimension'''\n",
    "    tof, x_pos, y_pos = data_from_hdf(hdf_file_complete_path)\n",
    "    sliced_x_pos = x_pos[np.logical_and(tof > tof_start, tof < tof_end)]\n",
    "    sliced_y_pos = y_pos[np.logical_and(tof > tof_start, tof < tof_end)]\n",
    "    sliced_tof = tof[np.logical_and(tof > tof_start, tof < tof_end)]\n",
    "    print('Slicing - number of events: {:.2e} | {:.2%}'.format(len(sliced_tof), len(sliced_tof)/len(tof)))\n",
    "    return sliced_tof, sliced_x_pos, sliced_y_pos\n",
    "\n",
    "def reduce_raw_data(tof, x_pos, y_pos, number_of_events):\n",
    "    '''Reduce data for visualization'''\n",
    "    return tof[:number_of_events], x_pos[:number_of_events],y_pos[:number_of_events]\n",
    "\n",
    "def tof_conversion(tof, time_unit):\n",
    "    '''Convert time axis'''\n",
    "    if time_unit == None:\n",
    "        return tof, 's'\n",
    "    if time_unit == 'milli':\n",
    "        return tof*10**3, 'ms'\n",
    "    if time_unit == 'micro':\n",
    "        return tof*10**6, 'us'\n",
    "\n",
    "def plot_tof(tof, hist_bins=100, time_unit = None):     \n",
    "    '''Plot time-of-flight spectrum via histogram'''\n",
    "    fig = plt.subplots(num = 1)\n",
    "    plt.clf()\n",
    "    tof, time_tof_unit = tof_conversion(tof, time_unit)\n",
    "    plt.hist(tof, bins = hist_bins)\n",
    "    plt.title('histogram: time-of-flight')\n",
    "    plt.xlabel('ToF [{}]'.format(time_tof_unit))\n",
    "    plt.ylabel('number of events')\n",
    "    plt.show()\n",
    "        \n",
    "def plot_1d_histograms(tof, x_pos, y_pos, time_unit = None):      \n",
    "    '''1D plots - detector position vs time-of-flight for each dimension'''\n",
    "    tof, time_tof_unit = tof_conversion(tof, time_unit)\n",
    "    fig = plt.figure(num = 2)\n",
    "    plt.clf()\n",
    "    plt.plot(tof, x_pos,'.')\n",
    "    plt.title(\"ToF vs x_pos\")\n",
    "    plt.xlabel('ToF [{}]'.format(time_tof_unit))\n",
    "    plt.ylabel('x_pos [px]')\n",
    "    \n",
    "    fig = plt.figure(num=3)\n",
    "    plt.clf()\n",
    "    plt.plot(tof, y_pos,'.')\n",
    "    plt.title(\"ToF vs y_pos\")\n",
    "    plt.xlabel('ToF [{}]'.format(time_tof_unit))\n",
    "    plt.ylabel('y_pos [px]')\n",
    "    plt.show()\n",
    "\n",
    "def plot_2d_histograms(tof, x_pos, y_pos ,bin_tof = 2000, bin_space = 200, time_unit = None):\n",
    "    '''2D plot (heatmap) - detector position vs time-of-flight for each dimension'''\n",
    "    tof, time_tof_unit = tof_conversion(tof, time_unit)\n",
    "    fig = plt.figure(num = 4)\n",
    "    plt.clf()\n",
    "    plt.hist2d(tof, x_pos, bins= (bin_tof,bin_space))\n",
    "    plt.title('2d histogram: time-of-flight / x_pos')\n",
    "    plt.xlabel('ToF [{}]'.format(time_tof_unit))\n",
    "    plt.ylabel('x_pos')\n",
    "\n",
    "    fig = plt.figure(num = 5)\n",
    "    plt.clf()\n",
    "    plt.hist2d(tof, y_pos,bins= (bin_tof,bin_space))\n",
    "    plt.title('2d histogram: time-of-flight / y_pos')\n",
    "    plt.xlabel('ToF [{}]'.format(time_tof_unit))\n",
    "    plt.ylabel('y_pos')\n",
    "    plt.show()\n",
    "    \n",
    "def vmi_image(x_pos, y_pos):\n",
    "    '''Display VMI image - cmax empirically found to surpress hot pixel '''\n",
    "    fig = plt.figure(num = 6)\n",
    "    plt.clf()\n",
    "    counts, xbins, ybins, image = plt.hist2d(x_pos, y_pos,bins= (10, 10), cmax= 1000)\n",
    "    plt.colorbar()\n",
    "    plt.show()\n",
    "    return counts, xbins, ybins, image\n",
    "    \n",
    "def display_tof_and_vmi_of_tof_interval(hdf_file_complete_path, tof_start = 0 , tof_end = 0.1, hist_bins = 100, time_unit = None, event_type = 'centroided'):\n",
    "    '''Display VMI Image and time-of-flight spetrum'''\n",
    "    tof, x_pos, y_pos = data_sliced_by_tof(hdf_file_complete_path, tof_start, tof_end, event_type)\n",
    "    plot_tof(tof, hist_bins, time_unit)\n",
    "    vmi_image(x_pos,y_pos)\n",
    "\n",
    "    \n",
    "# def transform_vmi_to_polar(x_pos, y_pos):\n",
    "#     image = vmi_image(x_pos, y_pos)\n",
    "#     print(len)\n",
    "\n",
    "    \n",
    "    \n",
    "    \n",
    "    \n",
    "    \n",
    "####\n",
    "    \n",
    "tof_start = 6.5E-6\n",
    "tof_end = 7.7E-6\n",
    "\n",
    "tof, x_pos, y_pos = data_sliced_by_tof(hdf_file_complete_path, tof_start , tof_end)\n",
    "\n",
    "counts, xbins, ybins, image =  vmi_image(x_pos, y_pos)\n",
    "\n",
    "\n",
    "tt = np.flipud(counts.transpose())\n",
    "    \n",
    "\n",
    "\n",
    "fig = plt.figure(num = 7)\n",
    "plt.clf()\n",
    "plt.title('transpose')\n",
    "image1 = plt.imshow(tt,extent=[xbins.min(),xbins.max(),ybins.min(),ybins.max()])\n",
    "\n",
    "\n",
    "\n"
   ]
  },
  {
   "cell_type": "code",
   "execution_count": 47,
   "metadata": {},
   "outputs": [
    {
     "name": "stdout",
     "output_type": "stream",
     "text": [
      "Reading from HDF5 - number of events: 3.76e+05\n",
      "Slicing - number of events: 1.08e+04 | 2.88%\n",
      "<class 'tuple'>\n",
      "4\n"
     ]
    }
   ],
   "source": [
    "tof_start = 6.5E-6\n",
    "tof_end = 7.7E-6\n",
    "\n",
    "tof, x_pos, y_pos = data_sliced_by_tof(hdf_file_complete_path, tof_start , tof_end)\n",
    "\n",
    "transform_vmi_to_polar(x_pos, y_pos)"
   ]
  },
  {
   "cell_type": "code",
   "execution_count": null,
   "metadata": {},
   "outputs": [],
   "source": []
  },
  {
   "cell_type": "code",
   "execution_count": null,
   "metadata": {},
   "outputs": [],
   "source": []
  },
  {
   "cell_type": "markdown",
   "metadata": {},
   "source": [
    "### Show complete time-of-flight"
   ]
  },
  {
   "cell_type": "code",
   "execution_count": 23,
   "metadata": {},
   "outputs": [
    {
     "name": "stdout",
     "output_type": "stream",
     "text": [
      "Reading from HDF5 - number of events: 3.76e+05\n"
     ]
    }
   ],
   "source": [
    "tof, x_pos, y_pos = data_from_hdf(hdf_file_complete_path)\n",
    "\n",
    "plot_tof(tof, hist_bins = 100)"
   ]
  },
  {
   "cell_type": "markdown",
   "metadata": {},
   "source": [
    "### Reduce data to one single FEL train"
   ]
  },
  {
   "cell_type": "code",
   "execution_count": 24,
   "metadata": {},
   "outputs": [
    {
     "name": "stdout",
     "output_type": "stream",
     "text": [
      "Reading from HDF5 - number of events: 3.76e+05\n",
      "Slicing - number of events: 3.58e+05 | 95.27%\n"
     ]
    }
   ],
   "source": [
    "tof_start = 0E-6\n",
    "tof_end = 12E-6\n",
    "\n",
    "tof, x_pos, y_pos = data_sliced_by_tof(hdf_file_complete_path, tof_start , tof_end)"
   ]
  },
  {
   "cell_type": "markdown",
   "metadata": {},
   "source": [
    "### Show time-of-flight spectrum"
   ]
  },
  {
   "cell_type": "code",
   "execution_count": 25,
   "metadata": {},
   "outputs": [],
   "source": [
    "plot_tof(tof, hist_bins = 1000, time_unit = 'micro')"
   ]
  },
  {
   "cell_type": "markdown",
   "metadata": {},
   "source": [
    "### Show X,Y position vs time-of-flight (1d)"
   ]
  },
  {
   "cell_type": "code",
   "execution_count": 26,
   "metadata": {},
   "outputs": [],
   "source": [
    "plot_1d_histograms(tof, x_pos, y_pos, time_unit = 'micro')"
   ]
  },
  {
   "cell_type": "markdown",
   "metadata": {},
   "source": [
    "### Show X,Y position vs time-of-flight (2d)"
   ]
  },
  {
   "cell_type": "code",
   "execution_count": 27,
   "metadata": {},
   "outputs": [],
   "source": [
    "plot_2d_histograms(tof, x_pos, y_pos, time_unit = 'micro')"
   ]
  },
  {
   "cell_type": "markdown",
   "metadata": {},
   "source": [
    "### Show VMI for time-of-flight interval"
   ]
  },
  {
   "cell_type": "code",
   "execution_count": 35,
   "metadata": {},
   "outputs": [
    {
     "name": "stdout",
     "output_type": "stream",
     "text": [
      "Reading from HDF5 - number of events: 3.76e+05\n",
      "Slicing - number of events: 3.58e+05 | 95.27%\n"
     ]
    }
   ],
   "source": [
    "tof_start = 0E-6\n",
    "tof_end = 12E-6\n",
    "\n",
    "tof, x_pos, y_pos = data_sliced_by_tof(hdf_file_complete_path, tof_start , tof_end)\n",
    "plot_tof(tof, hist_bins = 1000, time_unit = 'micro')"
   ]
  },
  {
   "cell_type": "code",
   "execution_count": 36,
   "metadata": {},
   "outputs": [
    {
     "name": "stdout",
     "output_type": "stream",
     "text": [
      "Reading from HDF5 - number of events: 3.76e+05\n",
      "Slicing - number of events: 1.08e+04 | 2.88%\n"
     ]
    }
   ],
   "source": [
    "tof_start = 6.5E-6\n",
    "tof_end = 7.7E-6\n",
    "\n",
    "display_tof_and_vmi_of_tof_interval(hdf_file_complete_path, tof_start, tof_end, time_unit = 'micro')"
   ]
  },
  {
   "cell_type": "code",
   "execution_count": null,
   "metadata": {},
   "outputs": [],
   "source": []
  }
 ],
 "metadata": {
  "kernelspec": {
   "display_name": "Python 3",
   "language": "python",
   "name": "python3"
  },
  "language_info": {
   "codemirror_mode": {
    "name": "ipython",
    "version": 3
   },
   "file_extension": ".py",
   "mimetype": "text/x-python",
   "name": "python",
   "nbconvert_exporter": "python",
   "pygments_lexer": "ipython3",
   "version": "3.7.3"
  }
 },
 "nbformat": 4,
 "nbformat_minor": 4
}
