{
 "cells": [
  {
   "cell_type": "markdown",
   "metadata": {},
   "source": [
    "# Check time stamps and trianID"
   ]
  },
  {
   "cell_type": "markdown",
   "metadata": {},
   "source": [
    "### Imports"
   ]
  },
  {
   "cell_type": "code",
   "execution_count": null,
   "metadata": {},
   "outputs": [],
   "source": [
    "import h5py\n",
    "import os.path\n",
    "import struct\n",
    "from datetime import datetime"
   ]
  },
  {
   "cell_type": "markdown",
   "metadata": {},
   "source": [
    "### Define files"
   ]
  },
  {
   "cell_type": "code",
   "execution_count": null,
   "metadata": {},
   "outputs": [],
   "source": [
    "file_path = '/home/cpassow/jupyterlab/CAMP/data/'\n",
    "hdf_file_name = '20191031-060000_CH3I_fullFEL-test_merged.hdf5'\n",
    "hdf_file_complete_path = file_path + hdf_file_name\n",
    "assert os.path.isfile(hdf_file_complete_path), 'File does not exist!'\n",
    "\n",
    "live_file_name = '20191031-060000_CH3I_fullFEL_000000.flashid'\n",
    "live_file_complete_path = file_path + live_file_name\n",
    "assert os.path.isfile(live_file_complete_path), 'File does not exist!'"
   ]
  },
  {
   "cell_type": "markdown",
   "metadata": {},
   "source": [
    "### From HDF file"
   ]
  },
  {
   "cell_type": "code",
   "execution_count": null,
   "metadata": {},
   "outputs": [],
   "source": [
    "def data_from_hdf(hdf_file_complete_path):\n",
    "    with h5py.File(hdf_file_complete_path, 'r') as h_file:\n",
    "        time_stamps = h_file['timeStamps/ns'][:]\n",
    "        ids = h_file['timeStamps/nr'][:]\n",
    "    print('Reading from HDF5 - number of events: {}'.format(len(ids)))\n",
    "    return time_stamps, ids"
   ]
  },
  {
   "cell_type": "code",
   "execution_count": null,
   "metadata": {},
   "outputs": [],
   "source": [
    "time_stamps, ids = data_from_hdf(hdf_file_complete_path)\n",
    "\n",
    "print(time_stamps[0])\n",
    "print(time_stamps[1]-time_stamps[0])\n",
    "\n",
    "print('First train:',datetime.utcfromtimestamp(int(time_stamps[0]*1E-9)).strftime('%Y-%m-%d %H:%M:%S'))\n",
    "print('Last train: ',datetime.utcfromtimestamp(int(time_stamps[-1]*1E-9)).strftime('%Y-%m-%d %H:%M:%S'))"
   ]
  },
  {
   "cell_type": "markdown",
   "metadata": {},
   "source": [
    "### Live trainID data from \"Soeren code\"\n",
    "snippet for read_in from Hubertus"
   ]
  },
  {
   "cell_type": "code",
   "execution_count": null,
   "metadata": {},
   "outputs": [],
   "source": [
    "size = struct.calcsize('<IIH')\n",
    "ids_raw, seconds, usecs = [], [], []\n",
    "with open(live_file_complete_path, 'rb') as f:\n",
    "    while True:\n",
    "        try:\n",
    "            id, sec, usec = struct.unpack('<IIH', f.read(size))\n",
    "            ids_raw.append(id)\n",
    "            seconds.append(sec)\n",
    "            usecs.append(usec)\n",
    "        except:\n",
    "            break\n",
    "            \n",
    "print('number of trainID entries in file:',len(ids_raw))"
   ]
  },
  {
   "cell_type": "code",
   "execution_count": null,
   "metadata": {},
   "outputs": [],
   "source": [
    "ids_live = [ids_raw[i] for i in range(len(ids_raw)) if ids_raw[i]-ids_raw[i-1] != 0]\n",
    "seconds_live =  [seconds[i] for i in range(len(ids_raw)) if ids_raw[i]-ids_raw[i-1] != 0]\n",
    "usecs_live = [usecs[i] for i in range(len(ids_raw)) if ids_raw[i]-ids_raw[i-1] != 0]\n",
    "\n",
    "print('number of trains after removing doubles:',len(ids_live))"
   ]
  },
  {
   "cell_type": "code",
   "execution_count": null,
   "metadata": {},
   "outputs": [],
   "source": [
    "print('First train:',datetime.utcfromtimestamp(seconds_live[0]).strftime('%Y-%m-%d %H:%M:%S'),'|', ids_live[0])\n",
    "print('Last train: ',datetime.utcfromtimestamp(seconds_live[-1]).strftime('%Y-%m-%d %H:%M:%S'),'|', ids_live[-1])             "
   ]
  },
  {
   "cell_type": "code",
   "execution_count": null,
   "metadata": {},
   "outputs": [],
   "source": []
  }
 ],
 "metadata": {
  "kernelspec": {
   "display_name": "Python 3",
   "language": "python",
   "name": "python3"
  },
  "language_info": {
   "codemirror_mode": {
    "name": "ipython",
    "version": 3
   },
   "file_extension": ".py",
   "mimetype": "text/x-python",
   "name": "python",
   "nbconvert_exporter": "python",
   "pygments_lexer": "ipython3",
   "version": "3.7.3"
  }
 },
 "nbformat": 4,
 "nbformat_minor": 4
}
