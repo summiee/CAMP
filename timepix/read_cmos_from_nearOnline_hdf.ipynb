{
 "cells": [
  {
   "cell_type": "markdown",
   "metadata": {},
   "source": [
    "### CMOS LED test \n",
    "check synchronization to TimePixCam"
   ]
  },
  {
   "cell_type": "code",
   "execution_count": null,
   "metadata": {},
   "outputs": [],
   "source": [
    "from beamtimedaqaccess import BeamtimeDaqAccess \n",
    "import matplotlib.pyplot as plt\n",
    "import numpy as np"
   ]
  },
  {
   "cell_type": "code",
   "execution_count": null,
   "metadata": {},
   "outputs": [],
   "source": [
    "root_dir = '/asap3/flash/gpfs/bl1/2019/data/11006902/raw/hdf/online-0/'\n",
    "image_dset_name = '/FL1/Experiment/BL1/CAMP/VMI CMOS camera 1/image'\n",
    "\n",
    "run_number = 32267"
   ]
  },
  {
   "cell_type": "code",
   "execution_count": null,
   "metadata": {},
   "outputs": [],
   "source": [
    "daq = BeamtimeDaqAccess.create(root_dir)"
   ]
  },
  {
   "cell_type": "code",
   "execution_count": null,
   "metadata": {},
   "outputs": [],
   "source": [
    "def section_ID_intervals(total_interval):\n",
    "    assert isinstance(total_interval, tuple)\n",
    "    assert len(total_interval) == 2\n",
    "    assert total_interval[0] <= total_interval[1]\n",
    "    section_length = 1000  \n",
    "    sections = [(start, start + section_length) for start in range(total_interval[0], total_interval[1], section_length)]\n",
    "    sections[-1] = (sections[-1][0], total_interval[1])  # fix last section\n",
    "    return sections"
   ]
  },
  {
   "cell_type": "code",
   "execution_count": null,
   "metadata": {},
   "outputs": [],
   "source": [
    "total_trainID_inteval = daq.pulseIdIntervalOfRun(image_dset_name, run_number)\n",
    "sections = section_ID_intervals(total_trainID_inteval)\n",
    "\n",
    "image_integral = []\n",
    "for i in range(len(sections)):\n",
    "    print('working on section:',i+1, '/', len(sections))\n",
    "    images = daq.valuesOfInterval(image_dset_name, sections[i])\n",
    "    for j in range(images.shape[0]):\n",
    "        image_integral.append(np.sum(images[j]))\n"
   ]
  },
  {
   "cell_type": "code",
   "execution_count": null,
   "metadata": {},
   "outputs": [],
   "source": [
    "counts = plt.hist(image_integral, 1000)\n",
    "plt.axvline(1.25E6, c='r')\n",
    "# plt.xlim(1E6,1.5E6)\n",
    "plt.show()"
   ]
  },
  {
   "cell_type": "code",
   "execution_count": null,
   "metadata": {},
   "outputs": [],
   "source": [
    "trainIDs = np.linspace(total_trainID_inteval[0], total_trainID_inteval[1],total_trainID_inteval[1]-total_trainID_inteval[0])\n",
    "\n",
    "print(len(trainIDs), len(image_integral))"
   ]
  },
  {
   "cell_type": "code",
   "execution_count": null,
   "metadata": {},
   "outputs": [],
   "source": [
    "light = []\n",
    "for i in range(len(image_integral)):\n",
    "    if image_integral[i] > 1.25E6:\n",
    "        light.append(1)\n",
    "    else:\n",
    "        light.append(0)   "
   ]
  },
  {
   "cell_type": "code",
   "execution_count": null,
   "metadata": {},
   "outputs": [],
   "source": [
    "fig = plt.figure(figsize = (10,5))\n",
    "plt.plot(trainIDs, light,'o')\n",
    "plt.xlabel('trainID')\n",
    "plt.ylabel('light [on/off]')\n",
    "plt.xlim(5130+6.0964E8,5160+6.0964E8)\n",
    "plt.show()"
   ]
  },
  {
   "cell_type": "code",
   "execution_count": null,
   "metadata": {},
   "outputs": [],
   "source": [
    "#np.savez('cmos_light_'+str(run_number),trainIDs = trainIDs, light = light)"
   ]
  },
  {
   "cell_type": "code",
   "execution_count": null,
   "metadata": {},
   "outputs": [],
   "source": []
  }
 ],
 "metadata": {
  "kernelspec": {
   "display_name": "Python 3",
   "language": "python",
   "name": "python3"
  },
  "language_info": {
   "codemirror_mode": {
    "name": "ipython",
    "version": 3
   },
   "file_extension": ".py",
   "mimetype": "text/x-python",
   "name": "python",
   "nbconvert_exporter": "python",
   "pygments_lexer": "ipython3",
   "version": "3.7.3"
  }
 },
 "nbformat": 4,
 "nbformat_minor": 4
}
