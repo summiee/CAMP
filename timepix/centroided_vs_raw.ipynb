{
 "cells": [
  {
   "cell_type": "markdown",
   "metadata": {},
   "source": [
    "# Visualize TimePix3 data - centroided vs raw data"
   ]
  },
  {
   "cell_type": "markdown",
   "metadata": {},
   "source": [
    "read from \"hdf5\" files created by Kuepper et al. (Hubertus B.)"
   ]
  },
  {
   "cell_type": "markdown",
   "metadata": {},
   "source": [
    "### Imports"
   ]
  },
  {
   "cell_type": "code",
   "execution_count": 1,
   "metadata": {},
   "outputs": [
    {
     "name": "stdout",
     "output_type": "stream",
     "text": [
      "Populating the interactive namespace from numpy and matplotlib\n"
     ]
    }
   ],
   "source": [
    "# %matplotlib widget\n",
    "%pylab qt"
   ]
  },
  {
   "cell_type": "code",
   "execution_count": 2,
   "metadata": {},
   "outputs": [],
   "source": [
    "import numpy as np\n",
    "import matplotlib.pyplot as plt\n",
    "import h5py\n"
   ]
  },
  {
   "cell_type": "markdown",
   "metadata": {},
   "source": [
    "### Define file"
   ]
  },
  {
   "cell_type": "code",
   "execution_count": 3,
   "metadata": {},
   "outputs": [],
   "source": [
    "hdf_file_name = '../data/20191031-064000_electyons_000000.hdf5'"
   ]
  },
  {
   "cell_type": "markdown",
   "metadata": {},
   "source": [
    "### Open HDF file"
   ]
  },
  {
   "cell_type": "code",
   "execution_count": 4,
   "metadata": {},
   "outputs": [],
   "source": [
    "h_file = h5py.File(hdf_file_name,'r')"
   ]
  },
  {
   "cell_type": "markdown",
   "metadata": {},
   "source": [
    "# Centroided data"
   ]
  },
  {
   "cell_type": "markdown",
   "metadata": {},
   "source": [
    "### Read from HDF file"
   ]
  },
  {
   "cell_type": "code",
   "execution_count": 5,
   "metadata": {},
   "outputs": [],
   "source": [
    "tof = h_file['centroided/tof'][:]\n",
    "x_pos = h_file['centroided/x'][:]\n",
    "y_pos = h_file['centroided/y'][:]"
   ]
  },
  {
   "cell_type": "code",
   "execution_count": 6,
   "metadata": {},
   "outputs": [
    {
     "name": "stdout",
     "output_type": "stream",
     "text": [
      "922251\n"
     ]
    }
   ],
   "source": [
    "print(len(tof))"
   ]
  },
  {
   "cell_type": "markdown",
   "metadata": {},
   "source": [
    "### Utility function"
   ]
  },
  {
   "cell_type": "code",
   "execution_count": 18,
   "metadata": {},
   "outputs": [],
   "source": [
    "def generate_plots(tof, x_pos, y_pos, hist_bins='auto'):\n",
    "    \n",
    "    fig = plt.figure(num=1)\n",
    "    plt.hist(tof, bins= hist_bins)\n",
    "    plt.title('histogram: time-of-flight')\n",
    "    plt.xlabel('ToF [s]')\n",
    "    plt.ylabel('number of events')\n",
    "\n",
    "    fig = plt.figure(num=2)\n",
    "    plt.plot(tof, x_pos,'.')\n",
    "    plt.title(\"ToF vs x_pos\")\n",
    "    plt.xlabel('ToF [s]')\n",
    "    plt.ylabel('x_pos [px]')\n",
    "\n",
    "    fig = plt.figure(num=3)\n",
    "    plt.plot(tof, y_pos,'.')\n",
    "    plt.title(\"ToF vs y_pos\")\n",
    "    plt.xlabel('ToF [s]')\n",
    "    plt.ylabel('y_pos [px]')\n",
    "\n",
    "    plt.show()\n",
    "    \n",
    "def cut_in_tof_from_back(tof, x_pos, y_pos, cutoff):\n",
    "    cutted_x_pos = x_pos[tof < cutoff]\n",
    "    cutted_y_pos = y_pos[tof < cutoff]\n",
    "    cutted_tof = tof[tof < cutoff]\n",
    "    return cutted_tof, cutted_x_pos, cutted_y_pos\n"
   ]
  },
  {
   "cell_type": "code",
   "execution_count": 25,
   "metadata": {},
   "outputs": [],
   "source": [
    "generate_plots(tof, x_pos, y_pos, hist_bins = 1000)"
   ]
  },
  {
   "cell_type": "markdown",
   "metadata": {},
   "source": [
    "### Remove events from outside the measurement window "
   ]
  },
  {
   "cell_type": "code",
   "execution_count": 9,
   "metadata": {},
   "outputs": [],
   "source": [
    "cutoff = 0.006\n",
    "tof, x_pos, y_pos =  cut_in_tof_from_back(tof, x_pos, y_pos, cutoff)\n",
    "\n",
    "generate_plots(tof, x_pos, y_pos, hist_bins = 10000)"
   ]
  },
  {
   "cell_type": "markdown",
   "metadata": {},
   "source": [
    "### Reduce data to FEL train"
   ]
  },
  {
   "cell_type": "code",
   "execution_count": 21,
   "metadata": {},
   "outputs": [],
   "source": [
    "cutoff = 1E-4\n",
    "tof, x_pos, y_pos =  cut_in_tof_from_back(tof, x_pos, y_pos, cutoff)\n",
    "\n",
    "generate_plots(tof, x_pos, y_pos, hist_bins = 1000)"
   ]
  },
  {
   "cell_type": "markdown",
   "metadata": {},
   "source": [
    "# Raw data"
   ]
  },
  {
   "cell_type": "code",
   "execution_count": 22,
   "metadata": {},
   "outputs": [
    {
     "name": "stdout",
     "output_type": "stream",
     "text": [
      "Number of raw hits: 59957350\n"
     ]
    }
   ],
   "source": [
    "tof2 = h_file['raw/tof'][:]\n",
    "x_pos2 = h_file['raw/x'][:]\n",
    "y_pos2 = h_file['raw/y'][:]\n",
    "\n",
    "print('Number of raw hits:',len(tof2))"
   ]
  },
  {
   "cell_type": "code",
   "execution_count": 23,
   "metadata": {},
   "outputs": [
    {
     "name": "stdout",
     "output_type": "stream",
     "text": [
      "Cut to: 10000000\n",
      "proportion: 0.16678522316279823\n"
     ]
    }
   ],
   "source": [
    "number_of_events = 10000000\n",
    "\n",
    "print('Cut to:',number_of_events)\n",
    "print('proportion:',number_of_events/len(tof2))\n",
    "\n",
    "tof2 = tof2[:number_of_events]\n",
    "x_pos2 = x_pos2[:number_of_events]\n",
    "y_pos2 = y_pos2[:number_of_events]"
   ]
  },
  {
   "cell_type": "code",
   "execution_count": 24,
   "metadata": {},
   "outputs": [],
   "source": [
    "generate_plots(tof2, x_pos2, y_pos2, hist_bins = 1000)"
   ]
  },
  {
   "cell_type": "markdown",
   "metadata": {},
   "source": [
    "### Remove events from outside the measurement window "
   ]
  },
  {
   "cell_type": "code",
   "execution_count": 14,
   "metadata": {},
   "outputs": [],
   "source": [
    "cutoff = 0.0006\n",
    "tof2, x_pos2, y_pos2 =  cut_in_tof_from_back(tof2, x_pos2, y_pos2, cutoff)\n",
    "\n",
    "generate_plots(tof2, x_pos2, y_pos2, hist_bins = 10000)"
   ]
  },
  {
   "cell_type": "markdown",
   "metadata": {},
   "source": [
    "### Reduce data to FEL train"
   ]
  },
  {
   "cell_type": "code",
   "execution_count": 17,
   "metadata": {},
   "outputs": [],
   "source": [
    "cutoff = 1E-4\n",
    "tof2, x_pos2, y_pos2 =  cut_in_tof_from_back(tof2, x_pos2, y_pos2, cutoff)\n",
    "\n",
    "generate_plots(tof2, x_pos2, y_pos2, hist_bins = 1000)"
   ]
  },
  {
   "cell_type": "code",
   "execution_count": null,
   "metadata": {},
   "outputs": [],
   "source": []
  }
 ],
 "metadata": {
  "kernelspec": {
   "display_name": "Python 3",
   "language": "python",
   "name": "python3"
  },
  "language_info": {
   "codemirror_mode": {
    "name": "ipython",
    "version": 3
   },
   "file_extension": ".py",
   "mimetype": "text/x-python",
   "name": "python",
   "nbconvert_exporter": "python",
   "pygments_lexer": "ipython3",
   "version": "3.7.3"
  }
 },
 "nbformat": 4,
 "nbformat_minor": 4
}
