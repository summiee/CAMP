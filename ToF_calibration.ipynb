{
 "cells": [
  {
   "cell_type": "markdown",
   "metadata": {},
   "source": [
    "# Raw time of flight"
   ]
  },
  {
   "cell_type": "code",
   "execution_count": 1,
   "metadata": {},
   "outputs": [],
   "source": [
    "%matplotlib widget\n",
    "\n",
    "import numpy as np\n",
    "import matplotlib.pyplot as plt\n",
    "import random\n",
    "from scipy import signal\n",
    "from IPython.display import HTML, display,clear_output\n",
    "import ipywidgets as wg\n"
   ]
  },
  {
   "cell_type": "code",
   "execution_count": 2,
   "metadata": {},
   "outputs": [],
   "source": [
    "def create_fake_tof(length= 1000, peaks = 20):\n",
    "    time_axis = np.linspace(0,length/2, length)\n",
    "    tof_array = np.random.random(length)\n",
    "    peak_pos = random.sample(range(5,length),peaks)\n",
    "    peak_height = np.random.random(peaks)*10\n",
    "    tof_array[peak_pos] = peak_height\n",
    "    return time_axis, tof_array\n",
    "\n",
    "def plot_trace(axis, tof_array, fitted_peaks, x_label = 'time [u secs]'):\n",
    "    plt.figure(figsize=(9, 8))\n",
    "    plt.plot(axis, tof_array)\n",
    "    plt.plot(axis[fitted_peaks[0]],fitted_peaks[1]['peak_heights'],'ro')\n",
    "    plt.title(\"Average TOF\")\n",
    "    plt.ylabel('Intensity [a.u.]')\n",
    "    plt.xlabel(x_label)\n",
    "    plt.show();\n",
    "    \n",
    "def print_peaks(axis, fitted_peaks, decimals = 3):\n",
    "    data = [(axis[fitted_peaks[0]][index],fitted_peaks[1]['peak_heights'][index]) for index in range(len(axis[fitted_peaks[0]]))]\n",
    "    data = np.around(data, decimals = decimals)\n",
    "    display(HTML('<h3>Pos. Height</h3>'))\n",
    "    display(HTML(\n",
    "        '<table><tr>{}</tr></table>'.format(\n",
    "            '</tr><tr>'.join(\n",
    "                '<td>{}</td>'.format('</td><td>'.join(str(_) for _ in row)) for row in data)\n",
    "        )\n",
    "    ))\n",
    "    \n",
    "def plot_trace_and_print_peak_table(axis, tof_array, fitted_peaks, x_label = 'time [u secs]'):\n",
    "    plot_trace(axis, tof_array, fitted_peaks, 'time [u secs]')\n",
    "    print_peaks(axis,fitted_peaks)\n",
    "    "
   ]
  },
  {
   "cell_type": "code",
   "execution_count": 3,
   "metadata": {},
   "outputs": [],
   "source": [
    "# tof_array = np.load('../scripts/average_tof.npy')\n",
    "\n",
    "time_axis, tof_array = create_fake_tof()\n",
    "fitted_peaks = signal.find_peaks(tof_array, height=2)"
   ]
  },
  {
   "cell_type": "code",
   "execution_count": 4,
   "metadata": {},
   "outputs": [
    {
     "data": {
      "application/vnd.jupyter.widget-view+json": {
       "model_id": "e6605647408a45568d62ea665ad2731e",
       "version_major": 2,
       "version_minor": 0
      },
      "text/plain": [
       "Canvas(toolbar=Toolbar(toolitems=[('Home', 'Reset original view', 'home', 'home'), ('Back', 'Back to previous …"
      ]
     },
     "metadata": {},
     "output_type": "display_data"
    },
    {
     "data": {
      "text/html": [
       "<h3>Pos. Height</h3>"
      ],
      "text/plain": [
       "<IPython.core.display.HTML object>"
      ]
     },
     "metadata": {},
     "output_type": "display_data"
    },
    {
     "data": {
      "text/html": [
       "<table><tr><td>12.012</td><td>2.818</td></tr><tr><td>63.564</td><td>7.136</td></tr><tr><td>66.567</td><td>3.778</td></tr><tr><td>91.592</td><td>3.299</td></tr><tr><td>93.594</td><td>3.212</td></tr><tr><td>111.612</td><td>4.134</td></tr><tr><td>112.613</td><td>8.363</td></tr><tr><td>154.154</td><td>4.856</td></tr><tr><td>180.681</td><td>6.188</td></tr><tr><td>257.257</td><td>8.218</td></tr><tr><td>272.773</td><td>8.492</td></tr><tr><td>280.28</td><td>9.307</td></tr><tr><td>441.441</td><td>5.149</td></tr><tr><td>460.46</td><td>5.035</td></tr><tr><td>466.967</td><td>7.007</td></tr><tr><td>471.972</td><td>9.354</td></tr><tr><td>485.485</td><td>2.941</td></tr></table>"
      ],
      "text/plain": [
       "<IPython.core.display.HTML object>"
      ]
     },
     "metadata": {},
     "output_type": "display_data"
    }
   ],
   "source": [
    "plot_trace_and_print_peak_table(time_axis, tof_array, fitted_peaks, 'time [u secs]')"
   ]
  },
  {
   "cell_type": "markdown",
   "metadata": {},
   "source": [
    "# Mass calibration "
   ]
  },
  {
   "cell_type": "markdown",
   "metadata": {},
   "source": [
    "<font size=\"4\">\n",
    "$\n",
    "\\frac{m}{z} = a \\ \\tau^2  + b \\\\\n",
    "a = \\frac{\\frac{m}{z}_1 - \\frac{m}{z}_2}{\\tau_1^2 - \\tau_2^2} \\quad \\quad \n",
    "b = \\frac{m}{z}_1 - \\frac{\\frac{m}{z}_1 - \\frac{m}{z}_2}{\\tau_1^2 - \\tau_2^2} \\tau_1^2\n",
    "$\n",
    "</font>"
   ]
  },
  {
   "cell_type": "code",
   "execution_count": 24,
   "metadata": {},
   "outputs": [],
   "source": [
    "def mass_calibration(time_axis):\n",
    "    m_over_z_ion_1 = ion_1_dropdown.value\n",
    "    tof_ion_1 = ion_1_m_over_z.value\n",
    "    m_over_z_ion_2 = ion_2_dropdown.value\n",
    "    tof_ion_2 = ion_2_m_over_z.value\n",
    "    a = (m_over_z_ion_1-m_over_z_ion_2)/(tof_ion_1**2-tof_ion_2**2)\n",
    "    b = m_over_z_ion_1 - (m_over_z_ion_1-m_over_z_ion_2)/(tof_ion_1**2-tof_ion_2**2) * tof_ion_1**2\n",
    "    return a * time_axis * time_axis + b\n",
    "\n",
    "def on_button_clicked_mass_calibration(b):\n",
    "    with output_mass_calibration:\n",
    "        clear_output(True)\n",
    "        plot_trace_and_print_peak_table(mass_calibration(time_axis), tof_array, fitted_peaks, x_label = 'time [u secs]')"
   ]
  },
  {
   "cell_type": "code",
   "execution_count": 25,
   "metadata": {},
   "outputs": [
    {
     "data": {
      "application/vnd.jupyter.widget-view+json": {
       "model_id": "a78d3fe76a3f4667a48b5b21e9bd1a0b",
       "version_major": 2,
       "version_minor": 0
      },
      "text/plain": [
       "HBox(children=(VBox(children=(Dropdown(description='\\tau TOF Ion 1:', options=(12.01, 63.56, 66.57, 91.59, 93.…"
      ]
     },
     "metadata": {},
     "output_type": "display_data"
    },
    {
     "data": {
      "application/vnd.jupyter.widget-view+json": {
       "model_id": "051b86802d1c45eb95b8ff9ede48c50c",
       "version_major": 2,
       "version_minor": 0
      },
      "text/plain": [
       "Output()"
      ]
     },
     "metadata": {},
     "output_type": "display_data"
    }
   ],
   "source": [
    "dropdown_values = np.around(time_axis[fitted_peaks[0]], decimals=2)\n",
    "\n",
    "ion_1_dropdown = wg.Dropdown(\n",
    "    options=dropdown_values,\n",
    "    value=dropdown_values[0],\n",
    "    description='\\tau TOF Ion 1:',\n",
    "    disabled=False,\n",
    ")\n",
    "\n",
    "ion_2_dropdown = wg.Dropdown(\n",
    "    options=dropdown_values,\n",
    "    value=dropdown_values[1],\n",
    "    description='TOF Ion 2:',\n",
    "    disabled=False,\n",
    ")\n",
    "\n",
    "ion_1_m_over_z = wg.BoundedFloatText(\n",
    "    value=5,\n",
    "    min=1,\n",
    "    max=500,\n",
    "    step=0.01,\n",
    "    description='m/z:',\n",
    "    disabled=False\n",
    ")\n",
    "\n",
    "ion_2_m_over_z = wg.BoundedFloatText(\n",
    "    value=10,\n",
    "    min=1,\n",
    "    max=500,\n",
    "    step=0.01,\n",
    "    description='m/z:',\n",
    "    disabled=False\n",
    ")\n",
    "\n",
    "button_mass_calibration = wg.Button(description=\"Mass calibration\")\n",
    "output_mass_calibration = wg.Output()\n",
    "\n",
    "left_box = wg.VBox([ion_1_dropdown,ion_2_dropdown])\n",
    "right_box = wg.VBox([ion_1_m_over_z,ion_2_m_over_z])\n",
    "\n",
    "display(wg.HBox([left_box, right_box, button_mass_calibration]), output_mass_calibration)\n",
    "\n",
    "button_mass_calibration.on_click(on_button_clicked_mass_calibration)"
   ]
  },
  {
   "cell_type": "code",
   "execution_count": null,
   "metadata": {},
   "outputs": [],
   "source": []
  },
  {
   "cell_type": "code",
   "execution_count": null,
   "metadata": {},
   "outputs": [],
   "source": []
  },
  {
   "cell_type": "code",
   "execution_count": null,
   "metadata": {},
   "outputs": [],
   "source": []
  }
 ],
 "metadata": {
  "kernelspec": {
   "display_name": "Python 3",
   "language": "python",
   "name": "python3"
  },
  "language_info": {
   "codemirror_mode": {
    "name": "ipython",
    "version": 3
   },
   "file_extension": ".py",
   "mimetype": "text/x-python",
   "name": "python",
   "nbconvert_exporter": "python",
   "pygments_lexer": "ipython3",
   "version": "3.7.3"
  }
 },
 "nbformat": 4,
 "nbformat_minor": 4
}
