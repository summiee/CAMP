{
 "cells": [
  {
   "cell_type": "markdown",
   "metadata": {},
   "source": [
    "# Raw time of flight"
   ]
  },
  {
   "cell_type": "code",
   "execution_count": 1,
   "metadata": {},
   "outputs": [],
   "source": [
    "%matplotlib widget"
   ]
  },
  {
   "cell_type": "code",
   "execution_count": 2,
   "metadata": {},
   "outputs": [],
   "source": [
    "import numpy as np\n",
    "import matplotlib.pyplot as plt\n",
    "import random\n",
    "import pydoocs\n",
    "import time\n",
    "from scipy import signal\n",
    "from IPython.display import HTML, display,clear_output\n",
    "import ipywidgets as wg\n"
   ]
  },
  {
   "cell_type": "code",
   "execution_count": 3,
   "metadata": {},
   "outputs": [],
   "source": [
    "adc_doocs_address = 'FLASH.FEL/ADC.ADQ.BL1/EXP1.CH00/CH00.DAQ.TD'\n",
    "time_axis = []\n",
    "adc_trace_average = []\n",
    "fitted_peaks = []\n",
    "dropdown_values = [1,2]"
   ]
  },
  {
   "cell_type": "code",
   "execution_count": 4,
   "metadata": {},
   "outputs": [],
   "source": [
    "def create_dropdown_values():\n",
    "    dropdown_values = np.around(time_axis[fitted_peaks[0]], decimals=2)\n",
    "    ion_1_dropdown.options = dropdown_values\n",
    "    ion_2_dropdown.options = dropdown_values\n",
    "\n",
    "def plot_trace(axis, adc_trace_average, fitted_peaks, x_label = 'time [u secs]'):\n",
    "    plt.figure(figsize=(9, 8))\n",
    "    plt.plot(axis, adc_trace_average)\n",
    "    plt.plot(axis[fitted_peaks[0]],fitted_peaks[1]['peak_heights'],'ro')\n",
    "    plt.title(\"Average TOF\")\n",
    "    plt.ylabel('Intensity [a.u.]')\n",
    "    plt.xlabel(x_label)\n",
    "    plt.show()\n",
    "    \n",
    "def print_peaks(axis, fitted_peaks, decimals = 3):\n",
    "    data = [(axis[fitted_peaks[0]][index],fitted_peaks[1]['peak_heights'][index]) for index in range(len(axis[fitted_peaks[0]]))]\n",
    "    data = np.around(data, decimals = decimals)\n",
    "    display(HTML('<h3>Pos. Height</h3>'))\n",
    "    display(HTML(\n",
    "        '<table><tr>{}</tr></table>'.format(\n",
    "            '</tr><tr>'.join(\n",
    "                '<td>{}</td>'.format('</td><td>'.join(str(_) for _ in row)) for row in data)\n",
    "        )\n",
    "    ))\n",
    "    \n",
    "def plot_trace_and_print_peak_table(axis, adc_trace_average, x_label = 'time [u secs]'):\n",
    "    global fitted_peaks\n",
    "    fitted_peaks = signal.find_peaks(adc_trace_average, height=2)\n",
    "    plot_trace(axis, adc_trace_average, fitted_peaks, x_label)\n",
    "    print_peaks(axis,fitted_peaks)\n",
    "    create_dropdown_values()\n"
   ]
  },
  {
   "cell_type": "code",
   "execution_count": 5,
   "metadata": {},
   "outputs": [],
   "source": [
    "def create_fake_tof(length= 1000, peaks = 20):\n",
    "    global time_axis, adc_trace_average\n",
    "    time_axis = np.linspace(0,length/2, length)\n",
    "    adc_trace_average = np.random.random(length)\n",
    "    peak_pos = random.sample(range(5,length),peaks)\n",
    "    peak_height = np.random.random(peaks)*10\n",
    "    adc_trace_average[peak_pos] = peak_height\n",
    "    return time_axis, adc_trace_average\n",
    "\n",
    "def on_button_clicked_mock(b):\n",
    "    with output_raw:\n",
    "        clear_output(True)\n",
    "        time_axis, adc_trace_average = create_fake_tof()\n",
    "        plot_trace_and_print_peak_table(time_axis, adc_trace_average, x_label = 'time [u secs]')\n"
   ]
  },
  {
   "cell_type": "code",
   "execution_count": 6,
   "metadata": {},
   "outputs": [],
   "source": [
    "def wait_for_next_train():\n",
    "    seconds_between_trains = 0.1       # 10Hz FLASH repetion rate\n",
    "    time.sleep(seconds_between_trains)\n",
    "\n",
    "def time_value_matrix_waiting(adc_doocs_address):\n",
    "    wait_for_next_train()\n",
    "    adc_dictonary = pydoocs.read(adc_doocs_address)\n",
    "    time_value_matrix = adc_dictonary['data']\n",
    "    return time_value_matrix\n",
    "\n",
    "def record_tof_average(adc_doocs_address):\n",
    "    global time_axis, adc_trace_average\n",
    "    number_of_pulse_trains_to_average = number_of_pulses_to_record.value\n",
    "    time_value_matrices = [time_value_matrix_waiting(adc_doocs_address) for each_train in range(number_of_pulse_trains_to_average)]\n",
    "    adc_traces = [each_matrix[:,1] for each_matrix in time_value_matrices]\n",
    "    adc_trace_average = np.average(adc_traces, axis=0)\n",
    "    time_axis = time_value_matrices[0][:, 0]\n",
    "    return time_axis, adc_trace_average\n",
    "\n",
    "def on_button_clicked_record(b):\n",
    "    with output_raw:\n",
    "        clear_output(True)\n",
    "        time_axis, adc_trace_average = record_tof_average(adc_doocs_address)\n",
    "        plot_trace_and_print_peak_table(time_axis, adc_trace_average, x_label = 'time [u secs]')\n"
   ]
  },
  {
   "cell_type": "code",
   "execution_count": 7,
   "metadata": {},
   "outputs": [],
   "source": [
    "number_of_pulses_to_record = wg.BoundedIntText(\n",
    "    value=3,\n",
    "    min=1,\n",
    "    max=1000,\n",
    "    step=1,\n",
    "    description='',\n",
    "    disabled=False\n",
    ")\n",
    "\n",
    "ion_1_dropdown = wg.Dropdown(\n",
    "    options=dropdown_values,\n",
    "    value=dropdown_values[0],\n",
    "    description='TOF Ion 1:',\n",
    "    disabled=False,\n",
    ")\n",
    "\n",
    "ion_2_dropdown = wg.Dropdown(\n",
    "    options=dropdown_values,\n",
    "    value=dropdown_values[1],\n",
    "    description='TOF Ion 2:',\n",
    "    disabled=False,\n",
    ")\n",
    "\n",
    "ion_1_m_over_z = wg.BoundedFloatText(\n",
    "    value=5,\n",
    "    min=1,\n",
    "    max=500,\n",
    "    step=0.01,\n",
    "    description='m/z:',\n",
    "    disabled=False\n",
    ")\n",
    "\n",
    "ion_2_m_over_z = wg.BoundedFloatText(\n",
    "    value=10,\n",
    "    min=1,\n",
    "    max=500,\n",
    "    step=0.01,\n",
    "    description='m/z:',\n",
    "    disabled=False\n",
    ")"
   ]
  },
  {
   "cell_type": "code",
   "execution_count": 8,
   "metadata": {},
   "outputs": [
    {
     "data": {
      "application/vnd.jupyter.widget-view+json": {
       "model_id": "6f3d025e860f42eeb81d059bd2a7975a",
       "version_major": 2,
       "version_minor": 0
      },
      "text/plain": [
       "VBox(children=(HBox(children=(Button(description='Record', style=ButtonStyle()), BoundedIntText(value=3, max=1…"
      ]
     },
     "metadata": {},
     "output_type": "display_data"
    },
    {
     "data": {
      "application/vnd.jupyter.widget-view+json": {
       "model_id": "fba3caea3f56409fbed480f266b2bfc6",
       "version_major": 2,
       "version_minor": 0
      },
      "text/plain": [
       "Output()"
      ]
     },
     "metadata": {},
     "output_type": "display_data"
    }
   ],
   "source": [
    "button_record = wg.Button(description=\"Record\")\n",
    "button_load = wg.Button(description=\"Load\")\n",
    "button_save = wg.Button(description=\"Save\")\n",
    "button_mock = wg.Button(description=\"Mock\")\n",
    "\n",
    "button_record.on_click(on_button_clicked_record)\n",
    "button_mock.on_click(on_button_clicked_mock)\n",
    "\n",
    "output_raw = wg.Output()\n",
    "\n",
    "upper_box = wg.HBox([button_record,number_of_pulses_to_record])\n",
    "lower_box = wg.HBox([button_load, button_save, button_mock])\n",
    "\n",
    "display( wg.VBox([upper_box, lower_box]), output_raw)\n"
   ]
  },
  {
   "cell_type": "code",
   "execution_count": 12,
   "metadata": {},
   "outputs": [],
   "source": [
    "# load data for npy\n",
    "\n",
    "# save data to npy\n",
    "\n",
    "# progress bar while recording\n",
    "\n",
    "# 20 figure issue"
   ]
  },
  {
   "cell_type": "markdown",
   "metadata": {},
   "source": [
    "# Mass calibration "
   ]
  },
  {
   "cell_type": "markdown",
   "metadata": {},
   "source": [
    "<font size=\"4\">\n",
    "$\n",
    "\\frac{m}{z} = a \\ \\tau^2  + b \\\\\n",
    "a = \\frac{\\frac{m}{z}_1 - \\frac{m}{z}_2}{\\tau_1^2 - \\tau_2^2} \\quad \\quad \n",
    "b = \\frac{m}{z}_1 - \\frac{\\frac{m}{z}_1 - \\frac{m}{z}_2}{\\tau_1^2 - \\tau_2^2} \\tau_1^2\n",
    "$\n",
    "</font>"
   ]
  },
  {
   "cell_type": "code",
   "execution_count": 13,
   "metadata": {},
   "outputs": [],
   "source": [
    "def mass_calibration(time_axis):\n",
    "    m_over_z_ion_1 = ion_1_dropdown.value\n",
    "    tof_ion_1 = ion_1_m_over_z.value\n",
    "    m_over_z_ion_2 = ion_2_dropdown.value\n",
    "    tof_ion_2 = ion_2_m_over_z.value\n",
    "    a = (m_over_z_ion_1-m_over_z_ion_2)/(tof_ion_1**2-tof_ion_2**2)\n",
    "    b = m_over_z_ion_1 - (m_over_z_ion_1-m_over_z_ion_2)/(tof_ion_1**2-tof_ion_2**2) * tof_ion_1**2\n",
    "    return a * time_axis * time_axis + b\n",
    "\n",
    "def on_button_clicked_mass_calibration(b):\n",
    "    with output_mass_calibration:\n",
    "        clear_output(True)\n",
    "        plot_trace_and_print_peak_table(mass_calibration(time_axis), adc_trace_average, x_label = 'm/z')\n",
    "            "
   ]
  },
  {
   "cell_type": "code",
   "execution_count": 14,
   "metadata": {},
   "outputs": [
    {
     "data": {
      "application/vnd.jupyter.widget-view+json": {
       "model_id": "44f7338eb9ba4e21abaa2d5ffbf25e6e",
       "version_major": 2,
       "version_minor": 0
      },
      "text/plain": [
       "HBox(children=(VBox(children=(Dropdown(description='TOF Ion 1:', options=(42.04, 50.05, 83.08, 166.67, 169.67,…"
      ]
     },
     "metadata": {},
     "output_type": "display_data"
    },
    {
     "data": {
      "application/vnd.jupyter.widget-view+json": {
       "model_id": "eab9e812fcce43128bd9878980bcf51a",
       "version_major": 2,
       "version_minor": 0
      },
      "text/plain": [
       "Output()"
      ]
     },
     "metadata": {},
     "output_type": "display_data"
    }
   ],
   "source": [
    "button_mass_calibration = wg.Button(description=\"calibrate\")\n",
    "output_mass_calibration = wg.Output()\n",
    "\n",
    "left_box = wg.VBox([ion_1_dropdown,ion_2_dropdown])\n",
    "right_box = wg.VBox([ion_1_m_over_z,ion_2_m_over_z])\n",
    "\n",
    "display(wg.HBox([left_box, right_box, button_mass_calibration]), output_mass_calibration)\n",
    "\n",
    "button_mass_calibration.on_click(on_button_clicked_mass_calibration)\n"
   ]
  },
  {
   "cell_type": "code",
   "execution_count": null,
   "metadata": {},
   "outputs": [],
   "source": []
  },
  {
   "cell_type": "code",
   "execution_count": null,
   "metadata": {},
   "outputs": [],
   "source": []
  },
  {
   "cell_type": "code",
   "execution_count": null,
   "metadata": {},
   "outputs": [],
   "source": []
  }
 ],
 "metadata": {
  "kernelspec": {
   "display_name": "Python 3",
   "language": "python",
   "name": "python3"
  },
  "language_info": {
   "codemirror_mode": {
    "name": "ipython",
    "version": 3
   },
   "file_extension": ".py",
   "mimetype": "text/x-python",
   "name": "python",
   "nbconvert_exporter": "python",
   "pygments_lexer": "ipython3",
   "version": "3.7.3"
  }
 },
 "nbformat": 4,
 "nbformat_minor": 4
}
