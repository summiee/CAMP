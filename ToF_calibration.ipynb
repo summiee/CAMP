{
 "cells": [
  {
   "cell_type": "markdown",
   "metadata": {},
   "source": [
    "# Raw time of flight"
   ]
  },
  {
   "cell_type": "code",
   "execution_count": null,
   "metadata": {},
   "outputs": [],
   "source": [
    "%matplotlib widget"
   ]
  },
  {
   "cell_type": "code",
   "execution_count": null,
   "metadata": {},
   "outputs": [],
   "source": [
    "import numpy as np\n",
    "import matplotlib.pyplot as plt\n",
    "import random\n",
    "import pydoocs\n",
    "import time\n",
    "from scipy import signal\n",
    "from IPython.display import HTML, display,clear_output\n",
    "import ipywidgets as wg\n"
   ]
  },
  {
   "cell_type": "code",
   "execution_count": null,
   "metadata": {},
   "outputs": [],
   "source": [
    "adc_doocs_address = 'FLASH.FEL/ADC.ADQ.BL1/EXP1.CH00/CH00.DAQ.TD'\n",
    "time_axis = []\n",
    "adc_trace_average = []\n",
    "fitted_peaks = []\n",
    "dropdown_values = [1,2]\n",
    "train_ID = 0"
   ]
  },
  {
   "cell_type": "code",
   "execution_count": null,
   "metadata": {},
   "outputs": [],
   "source": [
    "def create_dropdown_values():\n",
    "    dropdown_values = np.around(time_axis[fitted_peaks[0]], decimals=2)\n",
    "    ion_1_dropdown.options = dropdown_values\n",
    "    ion_2_dropdown.options = dropdown_values\n",
    "\n",
    "def plot_trace(axis, adc_trace_average, fitted_peaks, kind):\n",
    "    if kind == 'time':\n",
    "        x_label = 'time [u secs]'\n",
    "        plot_num = 1\n",
    "        if plt.fignum_exists(1):\n",
    "            plt.close(1)\n",
    "    elif kind == 'mass':\n",
    "        x_label = 'm/z'\n",
    "        plot_num = 2\n",
    "        if plt.fignum_exists(2):\n",
    "            plt.close(2)\n",
    "    fig = plt.figure(figsize=(9, 8), num = plot_num)\n",
    "    plt.plot(axis, adc_trace_average)\n",
    "    plt.plot(axis[fitted_peaks[0]],fitted_peaks[1]['peak_heights'],'ro')\n",
    "    plt.title(\"Average TOF\")\n",
    "    plt.ylabel('Intensity [a.u.]')\n",
    "    plt.xlabel(x_label)\n",
    "#     plt.show()\n",
    "    \n",
    "def print_peaks(axis, fitted_peaks, decimals = 3):\n",
    "    data = [(axis[fitted_peaks[0]][index],fitted_peaks[1]['peak_heights'][index]) for index in range(len(axis[fitted_peaks[0]]))]\n",
    "    data = np.around(data, decimals = decimals)\n",
    "    display(HTML('<h3>Pos. Height</h3>'))\n",
    "    display(HTML(\n",
    "        '<table><tr>{}</tr></table>'.format(\n",
    "            '</tr><tr>'.join(\n",
    "                '<td>{}</td>'.format('</td><td>'.join(str(_) for _ in row)) for row in data)\n",
    "        )\n",
    "    ))\n",
    "    \n",
    "def plot_trace_and_print_peak_table(axis, adc_trace_average, kind = 'time'):\n",
    "    global fitted_peaks\n",
    "    fitted_peaks = signal.find_peaks(adc_trace_average, height=2)\n",
    "    plot_trace(axis, adc_trace_average, fitted_peaks, kind)\n",
    "    print_peaks(axis,fitted_peaks)\n",
    "    create_dropdown_values()\n",
    "\n"
   ]
  },
  {
   "cell_type": "code",
   "execution_count": null,
   "metadata": {},
   "outputs": [],
   "source": [
    "def create_fake_tof(length= 1000, peaks = 20):\n",
    "    global time_axis, adc_trace_average\n",
    "    time_axis = np.linspace(0,length/2, length)\n",
    "    adc_trace_average = np.random.random(length)\n",
    "    peak_pos = random.sample(range(5,length),peaks)\n",
    "    peak_height = np.random.random(peaks)*10\n",
    "    adc_trace_average[peak_pos] = peak_height\n",
    "    return time_axis, adc_trace_average\n",
    "\n",
    "def on_button_clicked_mock(b):\n",
    "    with output_raw:\n",
    "        clear_output(True)\n",
    "        time_axis, adc_trace_average = create_fake_tof()\n",
    "        plot_trace_and_print_peak_table(time_axis, adc_trace_average, kind = 'time')\n"
   ]
  },
  {
   "cell_type": "code",
   "execution_count": null,
   "metadata": {},
   "outputs": [],
   "source": [
    "def wait_for_next_train():\n",
    "    global train_ID\n",
    "    while True:\n",
    "        current_ID = pydoocs.read(adc_doocs_address)['macropulse']\n",
    "        if train_ID != current_ID:\n",
    "            train_ID = current_ID\n",
    "            break\n",
    "### if DOOCS server do not provide correct \"macroppulse number\"\n",
    "#     seconds_between_trains = 0.1       # 10Hz FLASH repetion rate\n",
    "#     time.sleep(seconds_between_trains)\n",
    "\n",
    "def time_value_matrix_waiting(adc_doocs_address):\n",
    "    global progress\n",
    "    progress.value +=1 \n",
    "    wait_for_next_train()\n",
    "    adc_dictonary = pydoocs.read(adc_doocs_address)\n",
    "    time_value_matrix = adc_dictonary['data']\n",
    "    return time_value_matrix\n",
    "\n",
    "def record_tof_average(adc_doocs_address):\n",
    "    global time_axis, adc_trace_average, progress\n",
    "    number_of_pulse_trains_to_average = number_of_pulses_to_record.value\n",
    "    progress = wg.IntProgress(value = 0, min = 0, max = number_of_pulse_trains_to_average,  description='Recording:')\n",
    "    display(progress)   \n",
    "    time_value_matrices = [time_value_matrix_waiting(adc_doocs_address) for each_train in range(number_of_pulse_trains_to_average)]\n",
    "    adc_traces = [each_matrix[:,1] for each_matrix in time_value_matrices]\n",
    "    adc_trace_average = np.average(adc_traces, axis=0)\n",
    "    time_axis = time_value_matrices[0][:, 0]\n",
    "    return time_axis, adc_trace_average\n",
    "\n",
    "def on_button_clicked_record(b):\n",
    "    with output_raw:\n",
    "        clear_output(True)\n",
    "        time_axis, adc_trace_average = record_tof_average(adc_doocs_address)\n",
    "        plot_trace_and_print_peak_table(time_axis, adc_trace_average, kind = 'time')\n"
   ]
  },
  {
   "cell_type": "code",
   "execution_count": null,
   "metadata": {},
   "outputs": [],
   "source": [
    "def on_button_clicked_save(b):\n",
    "    global time_axis, adc_trace_average\n",
    "    np.savez('data/' + file_name.value + '.npz', time_axis = time_axis, adc_trace_average = adc_trace_average)\n",
    "    \n",
    "def on_button_clicked_load(b):\n",
    "    global time_axis, adc_trace_average\n",
    "    with output_raw:\n",
    "        clear_output(True)\n",
    "        npz_file = np.load('data/' + file_name.value + '.npz')\n",
    "        time_axis, adc_trace_average = npz_file['time_axis'], npz_file['adc_trace_average'] \n",
    "        plot_trace_and_print_peak_table(time_axis, adc_trace_average, kind = 'time')\n"
   ]
  },
  {
   "cell_type": "code",
   "execution_count": null,
   "metadata": {},
   "outputs": [],
   "source": [
    "number_of_pulses_to_record = wg.BoundedIntText(\n",
    "    value=10,\n",
    "    min=1,\n",
    "    max=1000,\n",
    "    step=1,\n",
    "    description='',\n",
    "    disabled=False\n",
    ")\n",
    "\n",
    "file_name = wg.Text(\n",
    "    value='',\n",
    "    placeholder='file name',\n",
    "    description='',\n",
    "    disabled=False\n",
    ")\n",
    "\n",
    "ion_1_dropdown = wg.Dropdown(\n",
    "    options=dropdown_values,\n",
    "    value=dropdown_values[0],\n",
    "    description='TOF Ion 1:',\n",
    "    disabled=False,\n",
    ")\n",
    "\n",
    "ion_2_dropdown = wg.Dropdown(\n",
    "    options=dropdown_values,\n",
    "    value=dropdown_values[1],\n",
    "    description='TOF Ion 2:',\n",
    "    disabled=False,\n",
    ")\n",
    "\n",
    "ion_1_m_over_z = wg.BoundedFloatText(\n",
    "    value=5,\n",
    "    min=1,\n",
    "    max=500,\n",
    "    step=0.01,\n",
    "    description='m/z:',\n",
    "    disabled=False\n",
    ")\n",
    "\n",
    "ion_2_m_over_z = wg.BoundedFloatText(\n",
    "    value=10,\n",
    "    min=1,\n",
    "    max=500,\n",
    "    step=0.01,\n",
    "    description='m/z:',\n",
    "    disabled=False\n",
    ")"
   ]
  },
  {
   "cell_type": "code",
   "execution_count": null,
   "metadata": {},
   "outputs": [],
   "source": [
    "button_record = wg.Button(description=\"Record\")\n",
    "button_load = wg.Button(description=\"Load\")\n",
    "button_save = wg.Button(description=\"Save\")\n",
    "button_mock = wg.Button(description=\"Mock\")\n",
    "\n",
    "button_record.on_click(on_button_clicked_record)\n",
    "button_mock.on_click(on_button_clicked_mock)\n",
    "button_save.on_click(on_button_clicked_save)\n",
    "button_load.on_click(on_button_clicked_load)\n",
    "\n",
    "output_raw = wg.Output()\n",
    "\n",
    "upper_box = wg.HBox([button_record,number_of_pulses_to_record, button_mock])\n",
    "lower_box = wg.HBox([button_load, button_save, file_name])\n",
    "\n",
    "display( wg.VBox([upper_box, lower_box]), output_raw)\n"
   ]
  },
  {
   "cell_type": "markdown",
   "metadata": {},
   "source": [
    "# Mass calibration "
   ]
  },
  {
   "cell_type": "markdown",
   "metadata": {},
   "source": [
    "<font size=\"4\">\n",
    "$\n",
    "\\frac{m}{z} = a \\ \\tau^2  + b \\\\\n",
    "a = \\frac{\\frac{m}{z}_1 - \\frac{m}{z}_2}{\\tau_1^2 - \\tau_2^2} \\quad \\quad \n",
    "b = \\frac{m}{z}_1 - \\frac{\\frac{m}{z}_1 - \\frac{m}{z}_2}{\\tau_1^2 - \\tau_2^2} \\tau_1^2\n",
    "$\n",
    "</font>"
   ]
  },
  {
   "cell_type": "code",
   "execution_count": null,
   "metadata": {},
   "outputs": [],
   "source": [
    "def mass_calibration(time_axis):\n",
    "    m_over_z_ion_1 = ion_1_dropdown.value\n",
    "    tof_ion_1 = ion_1_m_over_z.value\n",
    "    m_over_z_ion_2 = ion_2_dropdown.value\n",
    "    tof_ion_2 = ion_2_m_over_z.value\n",
    "    a = (m_over_z_ion_1-m_over_z_ion_2)/(tof_ion_1**2-tof_ion_2**2)\n",
    "    b = m_over_z_ion_1 - (m_over_z_ion_1-m_over_z_ion_2)/(tof_ion_1**2-tof_ion_2**2) * tof_ion_1**2\n",
    "    return a * time_axis * time_axis + b\n",
    "\n",
    "def on_button_clicked_mass_calibration(b):\n",
    "    with output_mass_calibration:\n",
    "        clear_output(True)\n",
    "        plot_trace_and_print_peak_table(mass_calibration(time_axis), adc_trace_average, kind = 'mass')\n",
    "            "
   ]
  },
  {
   "cell_type": "code",
   "execution_count": null,
   "metadata": {},
   "outputs": [],
   "source": [
    "button_mass_calibration = wg.Button(description=\"calibrate\")\n",
    "output_mass_calibration = wg.Output()\n",
    "\n",
    "left_box = wg.VBox([ion_1_dropdown,ion_2_dropdown])\n",
    "right_box = wg.VBox([ion_1_m_over_z,ion_2_m_over_z])\n",
    "\n",
    "display(wg.HBox([left_box, right_box, button_mass_calibration]), output_mass_calibration)\n",
    "\n",
    "button_mass_calibration.on_click(on_button_clicked_mass_calibration)\n"
   ]
  },
  {
   "cell_type": "code",
   "execution_count": null,
   "metadata": {},
   "outputs": [],
   "source": []
  }
 ],
 "metadata": {
  "kernelspec": {
   "display_name": "Python 3",
   "language": "python",
   "name": "python3"
  },
  "language_info": {
   "codemirror_mode": {
    "name": "ipython",
    "version": 3
   },
   "file_extension": ".py",
   "mimetype": "text/x-python",
   "name": "python",
   "nbconvert_exporter": "python",
   "pygments_lexer": "ipython3",
   "version": "3.7.3"
  }
 },
 "nbformat": 4,
 "nbformat_minor": 4
}
